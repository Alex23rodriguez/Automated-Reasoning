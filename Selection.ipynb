{
 "cells": [
  {
   "cell_type": "code",
   "execution_count": 3,
   "metadata": {},
   "outputs": [],
   "source": [
    "# AR\n",
    "# 12.2019"
   ]
  },
  {
   "cell_type": "code",
   "execution_count": 4,
   "metadata": {},
   "outputs": [],
   "source": [
    "# http://theo.cs.ovgu.de/lehre/lehre2019w/reasoning/05-uebungsblatt.pdf"
   ]
  },
  {
   "cell_type": "code",
   "execution_count": 5,
   "metadata": {},
   "outputs": [],
   "source": [
    "from gavel.selection.selector import Selector, Sine"
   ]
  },
  {
   "cell_type": "code",
   "execution_count": 6,
   "metadata": {},
   "outputs": [],
   "source": [
    "from gavel.logic.logic import BinaryFormula, Constant, PredicateExpression, BinaryConnective, FunctorExpression, DefinedConstant"
   ]
  },
  {
   "cell_type": "code",
   "execution_count": 7,
   "metadata": {},
   "outputs": [],
   "source": [
    "from gavel.prover.base.interface import BaseProverInterface"
   ]
  },
  {
   "cell_type": "code",
   "execution_count": 8,
   "metadata": {},
   "outputs": [],
   "source": [
    "from gavel.logic.proof import Proof\n",
    "from gavel.logic.proof import ProofStep"
   ]
  },
  {
   "cell_type": "code",
   "execution_count": 9,
   "metadata": {},
   "outputs": [],
   "source": [
    "from gavel.dialects.tptp.parser import TPTPProblemParser\n",
    "\n",
    "problem_parser = TPTPProblemParser()"
   ]
  },
  {
   "cell_type": "code",
   "execution_count": 10,
   "metadata": {},
   "outputs": [],
   "source": [
    "# Convert string to gavel.logic.problem.Problem\n",
    "def read_prob(st):\n",
    "    x = problem_parser.parse(st)\n",
    "    return next(x)"
   ]
  },
  {
   "cell_type": "code",
   "execution_count": 11,
   "metadata": {},
   "outputs": [],
   "source": [
    "p1 = read_prob(open('P4/problem1.p', 'r').readlines())\n",
    "p2 = read_prob(open('P4/problem2.p', 'r').readlines())\n",
    "p3 = read_prob(open('P4/problem3.p', 'r').readlines())\n",
    "p4 = read_prob(open('P4/problem4.p', 'r').readlines())\n",
    "\n",
    "p12 = read_prob(open('P5/problem1.p', 'r').readlines())\n",
    "p22 = read_prob(open('P5/problem2.p', 'r').readlines())\n",
    "p32 = read_prob(open('P5/problem3.p', 'r').readlines())"
   ]
  },
  {
   "cell_type": "code",
   "execution_count": 12,
   "metadata": {},
   "outputs": [],
   "source": [
    "# Convert premises into list of strings\n",
    "def formulas(p):\n",
    "    if type(p)==list:\n",
    "        return [str(i.formula) for i in p]\n",
    "    return str(p.formula)"
   ]
  },
  {
   "cell_type": "code",
   "execution_count": 13,
   "metadata": {},
   "outputs": [
    {
     "data": {
      "text/plain": [
       "['((p(e)) & ((p(b)) & (p(d)))) => ($false)',\n",
       " '(p(e)) => (p(d))',\n",
       " '($true) => (p(f))',\n",
       " '(p(a)) => ($false)',\n",
       " '(p(c)) => (p(e))',\n",
       " '($true) => (p(c))',\n",
       " '($true) => ((f) = (b))']"
      ]
     },
     "execution_count": 13,
     "metadata": {},
     "output_type": "execute_result"
    }
   ],
   "source": [
    "formulas(p32.premises)"
   ]
  },
  {
   "cell_type": "code",
   "execution_count": 14,
   "metadata": {},
   "outputs": [],
   "source": [
    "import time\n",
    "# print how long the function took to execute\n",
    "def timer(func):\n",
    "    \"\"\"Print the runtime of the decorated function\"\"\"\n",
    "    def wrapper_timer(*args, **kwargs):\n",
    "        start_time = time.perf_counter()    # 1\n",
    "        value = func(*args, **kwargs)\n",
    "        end_time = time.perf_counter()      # 2\n",
    "        run_time = end_time - start_time    # 3\n",
    "        print(f\"Finished {func.__name__!r} in {run_time:.4f} secs\")\n",
    "        return value\n",
    "    return wrapper_timer"
   ]
  },
  {
   "cell_type": "code",
   "execution_count": 15,
   "metadata": {
    "scrolled": false
   },
   "outputs": [],
   "source": [
    "class Horn(BaseProverInterface):\n",
    "    def _submit_problem(self, problem_instance, *args, **kwargs):\n",
    "        # Call your prov:qer here\n",
    "        sol = HornSolver()\n",
    "        result = sol.prove(problem_instance)\n",
    "        return result"
   ]
  },
  {
   "cell_type": "code",
   "execution_count": 16,
   "metadata": {
    "scrolled": false
   },
   "outputs": [],
   "source": [
    "class HornV2(BaseProverInterface):\n",
    "    def _submit_problem(self, problem_instance, *args, **kwargs):\n",
    "        # Call your prov:qer here\n",
    "        sol = Solver()\n",
    "        result = sol.prove(problem_instance)\n",
    "        return result"
   ]
  },
  {
   "cell_type": "code",
   "execution_count": null,
   "metadata": {
    "scrolled": false
   },
   "outputs": [],
   "source": []
  },
  {
   "cell_type": "code",
   "execution_count": 17,
   "metadata": {},
   "outputs": [],
   "source": [
    "ATOMS = [Constant, DefinedConstant, str]"
   ]
  },
  {
   "cell_type": "code",
   "execution_count": 18,
   "metadata": {},
   "outputs": [],
   "source": [
    "def st(x):\n",
    "    if type(x) in [str, DefinedConstant]:\n",
    "        return str(x)\n",
    "    return str(x.symbol)"
   ]
  },
  {
   "cell_type": "code",
   "execution_count": 763,
   "metadata": {},
   "outputs": [],
   "source": [
    "## Alternative solver class with actual ProofStep Objects. This allows us to merge the old/new variables\n",
    "class Solver():\n",
    "    def __init__(self):\n",
    "        self.equiv = {}\n",
    "        self.func = {}\n",
    "        self.S = {'$true'}\n",
    "        self.preds = {}\n",
    "        self.G = 0\n",
    "        \n",
    "        self.steps = [ProofStep(DefinedConstant.VERUM)]\n",
    "        \n",
    "    def functor(self, f):\n",
    "        if type(f) in ATOMS:\n",
    "            return st(f)\n",
    "        \n",
    "        if all([type(i) in ATOMS for i in f.arguments]):\n",
    "            if str(f) not in self.func:\n",
    "                k = f'K{self.G}'\n",
    "                self.func[str(f)] = k\n",
    "                self.equiv[k] = set([k])\n",
    "                self.G += 1\n",
    "                return k\n",
    "            return self.func[str(f)]\n",
    "\n",
    "        l = [self.functor(i) for i in f.arguments]\n",
    "\n",
    "        return self.functor(FunctorExpression(f.functor, l))\n",
    "    \n",
    "    def eq(self, x, y): \n",
    "        x = self.functor(x)\n",
    "        y = self.functor(y)\n",
    "        \n",
    "        #self.steps[-1].add(f\"{x}={y}\")\n",
    "        \n",
    "        if x not in self.equiv[y]:\n",
    "            self.equiv[x] = self.equiv[y]\n",
    "            self.equiv[x].add(x)\n",
    "        \n",
    "    def check(self, exp):\n",
    "        if type(exp) in [Constant, DefinedConstant]:\n",
    "            return str(exp) in self.S\n",
    "        \n",
    "        if type(exp) == FunctorExpression:\n",
    "            return self.functor(exp) in self.S\n",
    "        \n",
    "        elif type(exp) == PredicateExpression:\n",
    "            p = str(exp.predicate)\n",
    "            if p in self.preds:\n",
    "                v = tuple(self.functor(i) for i in exp.arguments)\n",
    "                for x in self.preds[p]:\n",
    "                    assert len(v) == len(x), f'Non matching lengths. v: {v}, x: {x}, p:{p}'\n",
    "                    if all(v[i] in self.equiv[x[i]] for i in range(len(v))):\n",
    "                        return True\n",
    "            return False\n",
    "        \n",
    "        elif type(exp) == BinaryFormula:\n",
    "            return self.check(exp.left) and self.check(exp.right) # Only supports and for the time being\n",
    "        print('?')\n",
    "        print(type(exp))\n",
    "                 \n",
    "    def prepare(self, exp):\n",
    "        if type(exp) == Constant:\n",
    "            k = str(exp.symbol)\n",
    "            if k not in self.equiv:\n",
    "                self.equiv[k] = set(str(exp))\n",
    "            return\n",
    "        if type(exp) == BinaryFormula:\n",
    "            self.prepare(exp.left)\n",
    "            self.prepare(exp.right)\n",
    "            return\n",
    "        if type(exp) in (PredicateExpression, FunctorExpression):\n",
    "            for i in exp.arguments:\n",
    "                self.prepare(i)\n",
    "        \n",
    "            \n",
    "    def prove(self, problem, *args, **kwargs):\n",
    "        lst = [i.formula for i in problem.premises]\n",
    "        for exp in lst:\n",
    "            self.prepare(exp)\n",
    "\n",
    "        conj = problem.conjecture.formula\n",
    "        \n",
    "        update = True\n",
    "        while update:\n",
    "            update = False\n",
    "            \n",
    "            for exp in lst:\n",
    "                r = exp.right\n",
    "                \n",
    "                # We already know\n",
    "                if type(r) == BinaryFormula and r.operator == BinaryConnective.EQ:\n",
    "                    x = self.functor(r.left)\n",
    "                    y = self.functor(r.right)\n",
    "                    if x in self.equiv[y]:\n",
    "                        continue\n",
    "                elif type(r) == DefinedConstant and str(r) in self.S:\n",
    "                    continue\n",
    "                elif type(r) == PredicateExpression:\n",
    "                    p = str(r.predicate)\n",
    "                    if p in self.preds:\n",
    "                        v = tuple(self.functor(i) for i in r.arguments)\n",
    "                        match = False\n",
    "                        for x in self.preds[p]:\n",
    "                            if all(v[i] in self.equiv[x[i]] for i in range(len(v))):\n",
    "                                match = True\n",
    "                                break\n",
    "                        if match:\n",
    "                            continue\n",
    "                                \n",
    "                \n",
    "                # We don't know\n",
    "                if self.check(exp.left):\n",
    "                    update = True\n",
    "                    \n",
    "                    if type(r) == BinaryFormula and r.operator == BinaryConnective.EQ:\n",
    "                        self.eq(r.left, r.right)\n",
    "\n",
    "                    elif type(r) == DefinedConstant:\n",
    "                        self.S.add(str(r))\n",
    "\n",
    "                    elif type(r) == PredicateExpression:\n",
    "                        self.S.add(str(r))\n",
    "                        p = str(r.predicate)\n",
    "                        if p not in self.preds:\n",
    "                            self.preds[p] = set()\n",
    "                        v = tuple(self.functor(i) for i in r.arguments)\n",
    "                        self.preds[p].add(v)\n",
    "                    else:\n",
    "                        print(\"???\")\n",
    "                        print(type(r))\n",
    "                    self.steps.append(ProofStep(exp))\n",
    "                    if type(conj) == type(r) and conj == r:\n",
    "                        return Proof(steps=self.steps)\n",
    "        "
   ]
  },
  {
   "cell_type": "code",
   "execution_count": 764,
   "metadata": {},
   "outputs": [],
   "source": [
    "class HornSolver():\n",
    "    def __init__(self):\n",
    "        self.oldEq = {}\n",
    "        self.equiv = {}\n",
    "        self.func = {}\n",
    "        self.oldS = set()\n",
    "        self.S = {'$true'}\n",
    "        self.oldPreds = {}\n",
    "        self.preds = {}\n",
    "        self.G = 0\n",
    "        \n",
    "        self.steps = [{'$true'}]\n",
    "        \n",
    "    def functor(self, f):\n",
    "        if type(f) in ATOMS:\n",
    "            return st(f)\n",
    "        \n",
    "        if all([type(i) in ATOMS for i in f.arguments]):\n",
    "            if str(f) not in self.func:\n",
    "                k = f'K{self.G}'\n",
    "                self.func[str(f)] = k\n",
    "                self.equiv[k] = set([k])\n",
    "                self.G += 1\n",
    "                return k\n",
    "            return self.func[str(f)]\n",
    "\n",
    "        l = [self.functor(i) for i in f.arguments]\n",
    "\n",
    "        return self.functor(FunctorExpression(f.functor, l))\n",
    "    \n",
    "    def eq(self, x, y): \n",
    "        if type(x) == FunctorExpression:\n",
    "            k = self.functor(x)\n",
    "            \n",
    "            \n",
    "        x = self.functor(x)\n",
    "        y = self.functor(y)\n",
    "\n",
    "        if x not in self.equiv[y]:\n",
    "            self.equiv[x] = self.equiv[y]\n",
    "            self.equiv[x].add(x)\n",
    "            \n",
    "        \n",
    "    def check(self, exp):\n",
    "        if type(exp) in [Constant, DefinedConstant]:\n",
    "            return str(exp) in self.oldS\n",
    "        \n",
    "        if type(exp) == FunctorExpression:\n",
    "            return self.functor(exp) in self.oldS\n",
    "        \n",
    "        elif type(exp) == PredicateExpression:\n",
    "            p = str(exp.predicate)\n",
    "            if p in self.oldPreds:\n",
    "                v = tuple(self.functor(i) for i in exp.arguments)\n",
    "                for x in self.oldPreds[p]:\n",
    "                    assert len(v) == len(x), f'Non matching lengths. v: {v}, x: {x}, p:{p}'\n",
    "                    if all(v[i] in self.oldEq[x[i]] for i in range(len(v))):\n",
    "                        return True\n",
    "            return False\n",
    "        \n",
    "        elif type(exp) == BinaryFormula:\n",
    "            return self.check(exp.left) and self.check(exp.right) # Only supports and for the time being\n",
    "        print('?')\n",
    "        print(type(exp))\n",
    "                 \n",
    "    def prepare(self, exp):\n",
    "        if type(exp) == Constant:\n",
    "            k = str(exp.symbol)\n",
    "            if k not in self.equiv:\n",
    "                self.equiv[k] = set(str(exp))\n",
    "            return\n",
    "        if type(exp) == BinaryFormula:\n",
    "            self.prepare(exp.left)\n",
    "            self.prepare(exp.right)\n",
    "            return\n",
    "        if type(exp) in (PredicateExpression, FunctorExpression):\n",
    "            for i in exp.arguments:\n",
    "                self.prepare(i)\n",
    "        \n",
    "            \n",
    "    def prove(self, problem, *args, **kwargs):\n",
    "        lst = [i.formula for i in problem.premises]\n",
    "        for exp in lst:\n",
    "            self.prepare(exp)\n",
    "\n",
    "        conj = problem.conjecture.formula\n",
    "        \n",
    "        neweq = False\n",
    "        while self.S != self.oldS or neweq:\n",
    "            neweq = False\n",
    "            self.steps.append(set())\n",
    "            self.oldS = self.S.copy()\n",
    "            self.oldEq = self.equiv.copy()\n",
    "            self.oldPreds = self.preds.copy()\n",
    "            \n",
    "            for exp in lst:\n",
    "                r = exp.right\n",
    "                \n",
    "                # We already know\n",
    "                if type(r) == BinaryFormula and r.operator == BinaryConnective.EQ:\n",
    "                    x = self.functor(r.left)\n",
    "                    y = self.functor(r.right)\n",
    "                    if x in self.equiv[y]:\n",
    "                        continue\n",
    "                elif type(r) == DefinedConstant and str(r) in self.S:\n",
    "                    continue\n",
    "                elif type(r) == PredicateExpression:\n",
    "                    p = str(r.predicate)\n",
    "                    if p in self.preds:\n",
    "                        v = tuple(self.functor(i) for i in r.arguments)\n",
    "                        for x in self.preds[p]:\n",
    "                            assert len(v) == len(x), f'Non matching lengths. v: {v}, x: {x}, p:{p}'\n",
    "                            if all(v[i] in self.equiv[x[i]] for i in range(len(v))):\n",
    "                                continue\n",
    "                \n",
    "                # We don't know\n",
    "                if self.check(exp.left):\n",
    "                    \n",
    "                    if type(r) == BinaryFormula and r.operator == BinaryConnective.EQ:\n",
    "                        self.steps[-1].update({str(r)})\n",
    "                        self.eq(r.left, r.right)\n",
    "                        neweq = True\n",
    "\n",
    "                    elif type(r) == DefinedConstant:\n",
    "                        self.S.add(str(r))\n",
    "\n",
    "                    elif type(r) == PredicateExpression:\n",
    "                        self.S.add(str(r))\n",
    "                        p = str(r.predicate)\n",
    "                        if p not in self.preds:\n",
    "                            self.preds[p] = set()\n",
    "                        v = tuple(self.functor(i) for i in r.arguments)\n",
    "                        self.preds[p].add(v)\n",
    "                    else:\n",
    "                        print(\"???\")\n",
    "                        print(type(r))\n",
    "                    if type(conj) == type(r) and conj == r:\n",
    "                        self.steps[-1].update(self.S - self.oldS)\n",
    "                        return Proof(steps=self.steps)\n",
    "            self.steps[-1].update(self.S - self.oldS)"
   ]
  },
  {
   "cell_type": "code",
   "execution_count": 765,
   "metadata": {},
   "outputs": [],
   "source": [
    "hop = Horn()\n",
    "h2 = HornV2()"
   ]
  },
  {
   "cell_type": "code",
   "execution_count": 785,
   "metadata": {},
   "outputs": [],
   "source": [
    "@timer\n",
    "def prove(prob, prnt=False):\n",
    "    if prnt:\n",
    "        print(\"\\nPremises\")\n",
    "        print(formulas(prob.premises))\n",
    "    print(f\"\\nConjecture: {str(prob.conjecture.formula)}\")\n",
    "    p = hop.prove(prob)\n",
    "    if p:\n",
    "        print(\"Proof found!\")\n",
    "        if prnt:\n",
    "            for i in p.steps:\n",
    "                print(i)\n",
    "        else:\n",
    "            print(f'Steps required: {len(p.steps)}')\n",
    "        return p\n",
    "    else:\n",
    "        print(\"No proof found\")\n",
    "    print('\\n')\n",
    "\n",
    "@timer\n",
    "def prove2(prob, prnt=False):\n",
    "    if prnt:\n",
    "        print(\"Premises\")\n",
    "        print(formulas(prob.premises))\n",
    "    print(f\"\\nConjecture: {str(prob.conjecture.formula)}\")\n",
    "    p = h2.prove(prob)\n",
    "    if p:\n",
    "        print(\"Proof found!\")\n",
    "        if prnt:\n",
    "            for i in p.steps:\n",
    "                print(i)\n",
    "        else:\n",
    "            print(f'Steps required: {len(p.steps)}')\n",
    "        return p\n",
    "    else:\n",
    "        print(\"No proof found\")\n",
    "    print('\\n')"
   ]
  },
  {
   "cell_type": "code",
   "execution_count": 791,
   "metadata": {
    "scrolled": true
   },
   "outputs": [
    {
     "name": "stdout",
     "output_type": "stream",
     "text": [
      "\n",
      "Premises\n",
      "['($true) => ((a) = (d))', '($true) => (p(g(f(a), b)))', '($true) => ((f(d)) = (b))', '($true) => ((g(b, b)) = (c))', '(p(c)) => ($false)']\n",
      "\n",
      "Conjecture: $false\n",
      "No proof found\n",
      "\n",
      "\n",
      "Finished 'prove' in 0.0005 secs\n"
     ]
    }
   ],
   "source": [
    "prove(p22, True)"
   ]
  },
  {
   "cell_type": "code",
   "execution_count": 788,
   "metadata": {
    "scrolled": true
   },
   "outputs": [
    {
     "name": "stdout",
     "output_type": "stream",
     "text": [
      "\n",
      "Premises\n",
      "['(p(a)) => (q(a))', '(q(a)) => ($false)', '($true) => (p(a))']\n",
      "\n",
      "Conjecture: $false\n",
      "Proof found!\n",
      "{'$true'}\n",
      "{'p(a)'}\n",
      "{'q(a)'}\n",
      "{'$false'}\n",
      "Finished 'prove' in 0.0008 secs\n",
      "\n",
      "Premises\n",
      "['((p(a)) & ((p(b)) & (p(d)))) => ($false)', '(p(e)) => ($false)', '(p(c)) => (p(a))', '(p(c)) => ($false)', '(p(a)) => (p(d))']\n",
      "\n",
      "Conjecture: $false\n",
      "No proof found\n",
      "\n",
      "\n",
      "Finished 'prove' in 0.0005 secs\n",
      "\n",
      "Premises\n",
      "['((p(e)) & ((p(b)) & (p(d)))) => ($false)', '(p(e)) => (p(d))', '($true) => (p(f))', '(p(a)) => ($false)', '(p(c)) => (p(e))', '($true) => (p(c))']\n",
      "\n",
      "Conjecture: $false\n",
      "No proof found\n",
      "\n",
      "\n",
      "Finished 'prove' in 0.0009 secs\n",
      "\n",
      "Premises\n",
      "['((p(e)) & ((p(b)) & (p(d)))) => ($false)', '(p(e)) => (p(d))', '($true) => (p(b))', '(p(a)) => ($false)', '(p(c)) => (p(e))', '($true) => (p(c))']\n",
      "\n",
      "Conjecture: $false\n",
      "Proof found!\n",
      "{'$true'}\n",
      "{'p(b)', 'p(c)'}\n",
      "{'p(e)'}\n",
      "{'p(d)'}\n",
      "{'$false'}\n",
      "Finished 'prove' in 0.0009 secs\n",
      "\n",
      "Premises\n",
      "['($true) => ((a) = (b))', '($true) => (p(a))', '(p(b)) => ($false)']\n",
      "\n",
      "Conjecture: $false\n",
      "Proof found!\n",
      "{'$true'}\n",
      "{'(a) = (b)', 'p(a)'}\n",
      "{'$false'}\n",
      "Finished 'prove' in 0.0008 secs\n",
      "\n",
      "Premises\n",
      "['($true) => ((a) = (d))', '($true) => (p(g(f(a), b)))', '($true) => ((f(d)) = (b))', '($true) => ((g(b, b)) = (c))', '(p(c)) => ($false)']\n",
      "\n",
      "Conjecture: $false\n",
      "No proof found\n",
      "\n",
      "\n",
      "Finished 'prove' in 0.0010 secs\n",
      "\n",
      "Premises\n",
      "['((p(e)) & ((p(b)) & (p(d)))) => ($false)', '(p(e)) => (p(d))', '($true) => (p(f))', '(p(a)) => ($false)', '(p(c)) => (p(e))', '($true) => (p(c))', '($true) => ((f) = (b))']\n",
      "\n",
      "Conjecture: $false\n",
      "Proof found!\n",
      "{'$true'}\n",
      "{'(f) = (b)', 'p(c)', 'p(f)'}\n",
      "{'p(e)'}\n",
      "{'p(d)'}\n",
      "{'$false'}\n",
      "Finished 'prove' in 0.0008 secs\n"
     ]
    }
   ],
   "source": [
    "for prob in [p1, p2, p3, p4, p12, p22, p32]:\n",
    "    prove(prob, True)"
   ]
  },
  {
   "cell_type": "code",
   "execution_count": 758,
   "metadata": {
    "scrolled": true
   },
   "outputs": [],
   "source": [
    "big = read_prob(open('big.p').readlines())"
   ]
  },
  {
   "cell_type": "code",
   "execution_count": 27,
   "metadata": {},
   "outputs": [],
   "source": [
    "from gavel.logic.logic import LogicElement\n",
    "from itertools import chain\n",
    "from typing import List, Dict\n",
    "from gavel.logic.problem import Problem"
   ]
  },
  {
   "cell_type": "code",
   "execution_count": 28,
   "metadata": {},
   "outputs": [],
   "source": [
    "def occurrences(prob): # O(n)\n",
    "    total = {}\n",
    "    pos = {}\n",
    "    for i, p in enumerate(prob.premises):\n",
    "        s = appear(p.formula)\n",
    "        for x in s:\n",
    "            if x in total:\n",
    "                total[x] += 1\n",
    "                pos[x].add(i)\n",
    "            else:\n",
    "                total[x] = 1\n",
    "                pos[x] = {i}\n",
    "            \n",
    "    return total#, pos\n",
    "\n",
    "def appear(f): # O(k), where k is the average ammount of symbols per premise (so constant)\n",
    "    if type(f) in ATOMS:\n",
    "        return {st(f)}\n",
    "    \n",
    "    if type(f) == BinaryFormula:\n",
    "        s = appear(f.left)\n",
    "        s.update(appear(f.right))\n",
    "        return s\n",
    "    #print(type(f))\n",
    "    if type(f) == FunctorExpression:\n",
    "        s = {str(f.functor)}\n",
    "    else:\n",
    "        s = {str(f.predicate)}\n",
    "    for i in f.arguments:\n",
    "        s.update(appear(i))\n",
    "    return s\n",
    "\n",
    "def trigger_dict(prob, occ, tolerance, gen_thresh): #O(n)\n",
    "    t = {}\n",
    "    for i, p in enumerate(prob.premises):\n",
    "        s = appear(p.formula)\n",
    "        for x in s:\n",
    "            if x not in t:\n",
    "                t[x] = set()\n",
    "            if occ[x] <= gen_thresh or all([occ[x] <= tolerance*occ[y] for y in s-{x}]):\n",
    "                t[x].add(i)\n",
    "    return t"
   ]
  },
  {
   "cell_type": "code",
   "execution_count": 29,
   "metadata": {},
   "outputs": [],
   "source": [
    "arst = None\n",
    "class Sine(Selector): # O(n) + O(n) = O(n)\n",
    "    def select(self, problem, tolerance=1, depth=None, gen_thresh=1):\n",
    "        occ = occurrences(problem) # O(n)\n",
    "        t = trigger_dict(problem, occ, tolerance, gen_thresh)\n",
    "        s = {}\n",
    "        return Problem(premises=self.calculate_triggers(problem, t, depth), conjecture=problem.conjecture), t, occ\n",
    "\n",
    "    def calculate_triggers(self, problem, trig, depth):\n",
    "        k_triggered = appear(problem.conjecture.formula)\n",
    "        remaining = problem.premises.copy()\n",
    "        used = set()\n",
    "        k = 0\n",
    "        ans = set()\n",
    "        while k_triggered and (depth is None or k < depth):\n",
    "            k += 1\n",
    "            untriggered = []\n",
    "            new = set()\n",
    "            for i, p in enumerate(remaining):\n",
    "                s = appear(p.formula)\n",
    "                if any(i in trig[x] for x in k_triggered):\n",
    "                    #print(f'i: {i}, s: {s}')\n",
    "                    new.update(appear(p.formula))\n",
    "                    ans.add(i)\n",
    "                else:\n",
    "                    untriggered.append(p)\n",
    "            remaining = untriggered.copy()\n",
    "            used.update(k_triggered)\n",
    "            k_triggered = new-used\n",
    "        global arst\n",
    "        arst = untriggered\n",
    "        return [problem.premises[i] for i in ans]\n"
   ]
  },
  {
   "cell_type": "code",
   "execution_count": 30,
   "metadata": {},
   "outputs": [],
   "source": [
    "s = Sine()"
   ]
  },
  {
   "cell_type": "code",
   "execution_count": 31,
   "metadata": {},
   "outputs": [],
   "source": [
    "prob, t, occ = s.select(big, depth=2, gen_thresh=1000)"
   ]
  },
  {
   "cell_type": "code",
   "execution_count": 32,
   "metadata": {},
   "outputs": [
    {
     "data": {
      "text/plain": [
       "set()"
      ]
     },
     "execution_count": 32,
     "metadata": {},
     "output_type": "execute_result"
    }
   ],
   "source": [
    "t['q']"
   ]
  },
  {
   "cell_type": "code",
   "execution_count": 33,
   "metadata": {},
   "outputs": [
    {
     "data": {
      "text/plain": [
       "['((p(e)) & ((p(b)) & (p(d)))) => ($false)',\n",
       " '(p(e)) => (p(d))',\n",
       " '($true) => (p(b))',\n",
       " '(p(a)) => ($false)']"
      ]
     },
     "execution_count": 33,
     "metadata": {},
     "output_type": "execute_result"
    }
   ],
   "source": [
    "formulas(prob.premises)"
   ]
  },
  {
   "cell_type": "code",
   "execution_count": 34,
   "metadata": {
    "scrolled": true
   },
   "outputs": [
    {
     "data": {
      "text/plain": [
       "'p'"
      ]
     },
     "execution_count": 34,
     "metadata": {},
     "output_type": "execute_result"
    }
   ],
   "source": [
    "str(arst[0].formula.left.predicate)"
   ]
  },
  {
   "cell_type": "code",
   "execution_count": 35,
   "metadata": {
    "scrolled": true
   },
   "outputs": [
    {
     "data": {
      "text/plain": [
       "False"
      ]
     },
     "execution_count": 35,
     "metadata": {},
     "output_type": "execute_result"
    }
   ],
   "source": [
    "all('x1' in appear(i.formula) for i in arst)"
   ]
  },
  {
   "cell_type": "code",
   "execution_count": 36,
   "metadata": {},
   "outputs": [
    {
     "data": {
      "text/plain": [
       "'($true) => (p(c))'"
      ]
     },
     "execution_count": 36,
     "metadata": {},
     "output_type": "execute_result"
    }
   ],
   "source": [
    "formulas(big.premises[10005])"
   ]
  },
  {
   "cell_type": "code",
   "execution_count": 37,
   "metadata": {
    "scrolled": false
   },
   "outputs": [
    {
     "data": {
      "text/plain": [
       "4"
      ]
     },
     "execution_count": 37,
     "metadata": {},
     "output_type": "execute_result"
    }
   ],
   "source": [
    "len(prob.premises)"
   ]
  },
  {
   "cell_type": "code",
   "execution_count": 38,
   "metadata": {},
   "outputs": [
    {
     "name": "stdout",
     "output_type": "stream",
     "text": [
      "\n",
      "Conjecture: $false\n",
      "No proof found\n",
      "\n",
      "\n",
      "Finished 'prove' in 0.0009 secs\n"
     ]
    }
   ],
   "source": [
    "prove(prob)"
   ]
  },
  {
   "cell_type": "code",
   "execution_count": 39,
   "metadata": {},
   "outputs": [
    {
     "name": "stdout",
     "output_type": "stream",
     "text": [
      "\n",
      "Conjecture: $false\n",
      "No proof found\n",
      "\n",
      "\n",
      "Finished 'prove2' in 0.0003 secs\n"
     ]
    }
   ],
   "source": [
    "prove2(big)"
   ]
  },
  {
   "cell_type": "code",
   "execution_count": 40,
   "metadata": {
    "scrolled": false
   },
   "outputs": [
    {
     "data": {
      "text/plain": [
       "['($true) => (q(x1, x3))',\n",
       " '(q(z5, z3)) => (q(f(z3, x0), y9))',\n",
       " '($true) => (q(y1, y2))',\n",
       " '(q(x5, x1)) => (p(z5))',\n",
       " '((p(e)) & ((p(b)) & (p(d)))) => ($false)',\n",
       " '(p(e)) => (p(d))',\n",
       " '($true) => (p(b))',\n",
       " '(p(a)) => ($false)',\n",
       " '(p(c)) => (p(e))',\n",
       " '($true) => (p(c))']"
      ]
     },
     "execution_count": 40,
     "metadata": {},
     "output_type": "execute_result"
    }
   ],
   "source": [
    "formulas(big.premises[-10:])"
   ]
  },
  {
   "cell_type": "code",
   "execution_count": 670,
   "metadata": {},
   "outputs": [],
   "source": [
    "from itertools import chain\n",
    "from typing import List, Dict\n",
    "\n",
    "from gavel.logic.logic import LogicElement\n",
    "from gavel.logic.problem import Problem"
   ]
  },
  {
   "cell_type": "code",
   "execution_count": 658,
   "metadata": {},
   "outputs": [
    {
     "data": {
      "text/plain": [
       "True"
      ]
     },
     "execution_count": 658,
     "metadata": {},
     "output_type": "execute_result"
    }
   ],
   "source": [
    "all(i.role for i in p2.premises)"
   ]
  },
  {
   "cell_type": "code",
   "execution_count": null,
   "metadata": {},
   "outputs": [],
   "source": []
  },
  {
   "cell_type": "code",
   "execution_count": null,
   "metadata": {},
   "outputs": [],
   "source": []
  },
  {
   "cell_type": "code",
   "execution_count": 220,
   "metadata": {},
   "outputs": [],
   "source": [
    "class Sine(Selector):\n",
    "    \n",
    "    def select(self, problem, max_depth=10):\n",
    "        symbols = set(\n",
    "            chain(smbls(problem.conjecture), *(smbls(p) for p in problem.premises))\n",
    "        )\n",
    "        premise_symbols = {p.name: set(smbls(p)) for p in problem.premises}\n",
    "        commonness = {\n",
    "            s: sum(1 for ps in premise_symbols.values() if s in ps)\n",
    "            for s in symbols\n",
    "        }\n",
    "        \n",
    "        print(symbols)\n",
    "        print(premise_symbols)\n",
    "\n",
    "        return Problem(\n",
    "            premises=list(self.calculate_triggers(problem, premise_symbols, commonness, max_depth)),\n",
    "            conjecture=problem.conjecture)\n",
    "\n",
    "    def trigger(self, symbol, sentence: LogicElement, commonness: Dict[str, int]) -> bool:\n",
    "        return symbol in smbls(sentence) and all(\n",
    "            commonness[symbol] <= commonness[symbol2]\n",
    "            for symbol2 in sentence.symbols()\n",
    "        )\n",
    "\n",
    "    def calculate_triggers(self, problem: Problem, premise_symbols, commonness, max_depth):\n",
    "        remaining_premises = list(problem.premises)\n",
    "        k_triggered_symbols = set(smbls(problem.conjecture))\n",
    "        used_symbols = set()\n",
    "        k = 0\n",
    "        while k_triggered_symbols and k < max_depth:\n",
    "            k += 1\n",
    "            untriggered_premises = []\n",
    "            newer_symbols = set()\n",
    "            for p in remaining_premises:\n",
    "                p_symbs = premise_symbols[p.name]\n",
    "                # If s is k-step triggered and s triggers A, then A is k + 1-step triggered\n",
    "                if any(self.trigger(s, p, commonness) for s in k_triggered_symbols):\n",
    "                    newer_symbols = newer_symbols.union(p_symbs)\n",
    "                    yield p\n",
    "                else:\n",
    "                    untriggered_premises.append(p)\n",
    "            remaining_premises = untriggered_premises\n",
    "            used_symbols = used_symbols.union(k_triggered_symbols)\n",
    "            k_triggered_symbols = newer_symbols.difference(used_symbols)"
   ]
  },
  {
   "cell_type": "code",
   "execution_count": 226,
   "metadata": {},
   "outputs": [],
   "source": [
    "def smbls(p):\n",
    "    try:\n",
    "        return p.symbols()\n",
    "    except:\n",
    "        print(p.name)\n",
    "        return p.name"
   ]
  },
  {
   "cell_type": "code",
   "execution_count": 227,
   "metadata": {},
   "outputs": [],
   "source": [
    "fs = [str(p.formula) for p in p2.premises]"
   ]
  },
  {
   "cell_type": "code",
   "execution_count": 228,
   "metadata": {},
   "outputs": [
    {
     "data": {
      "text/plain": [
       "['((p(a)) & ((p(b)) & (p(d)))) => ($false)',\n",
       " '(p(e)) => ($false)',\n",
       " '(p(c)) => (p(a))',\n",
       " '(p(c)) => ($false)',\n",
       " '(p(a)) => (p(d))']"
      ]
     },
     "execution_count": 228,
     "metadata": {},
     "output_type": "execute_result"
    }
   ],
   "source": [
    "fs"
   ]
  },
  {
   "cell_type": "code",
   "execution_count": 229,
   "metadata": {},
   "outputs": [
    {
     "name": "stdout",
     "output_type": "stream",
     "text": [
      "\n",
      "\n",
      "\n",
      "\n"
     ]
    },
    {
     "ename": "TypeError",
     "evalue": "'AnnotatedFormula' object is not iterable",
     "output_type": "error",
     "traceback": [
      "\u001b[0;31m---------------------------------------------------------------------------\u001b[0m",
      "\u001b[0;31mTypeError\u001b[0m                                 Traceback (most recent call last)",
      "\u001b[0;32m<ipython-input-229-98787a360131>\u001b[0m in \u001b[0;36m<module>\u001b[0;34m\u001b[0m\n\u001b[1;32m      1\u001b[0m \u001b[0mselector\u001b[0m \u001b[0;34m=\u001b[0m \u001b[0mSine\u001b[0m\u001b[0;34m(\u001b[0m\u001b[0;34m)\u001b[0m\u001b[0;34m\u001b[0m\u001b[0;34m\u001b[0m\u001b[0m\n\u001b[0;32m----> 2\u001b[0;31m \u001b[0msmall_problem\u001b[0m \u001b[0;34m=\u001b[0m \u001b[0mselector\u001b[0m\u001b[0;34m.\u001b[0m\u001b[0mselect\u001b[0m\u001b[0;34m(\u001b[0m\u001b[0mp2\u001b[0m\u001b[0;34m)\u001b[0m\u001b[0;34m\u001b[0m\u001b[0;34m\u001b[0m\u001b[0m\n\u001b[0m\u001b[1;32m      3\u001b[0m \u001b[0mhop\u001b[0m\u001b[0;34m.\u001b[0m\u001b[0mprove\u001b[0m\u001b[0;34m(\u001b[0m\u001b[0msmall_problem\u001b[0m\u001b[0;34m)\u001b[0m\u001b[0;34m\u001b[0m\u001b[0;34m\u001b[0m\u001b[0m\n",
      "\u001b[0;32m<ipython-input-220-ef67472a47de>\u001b[0m in \u001b[0;36mselect\u001b[0;34m(self, problem, max_depth)\u001b[0m\n\u001b[1;32m      2\u001b[0m     \u001b[0;32mdef\u001b[0m \u001b[0mselect\u001b[0m\u001b[0;34m(\u001b[0m\u001b[0mself\u001b[0m\u001b[0;34m,\u001b[0m \u001b[0mproblem\u001b[0m\u001b[0;34m,\u001b[0m \u001b[0mmax_depth\u001b[0m\u001b[0;34m=\u001b[0m\u001b[0;36m10\u001b[0m\u001b[0;34m)\u001b[0m\u001b[0;34m:\u001b[0m\u001b[0;34m\u001b[0m\u001b[0;34m\u001b[0m\u001b[0m\n\u001b[1;32m      3\u001b[0m         symbols = set(\n\u001b[0;32m----> 4\u001b[0;31m             \u001b[0mchain\u001b[0m\u001b[0;34m(\u001b[0m\u001b[0msmbls\u001b[0m\u001b[0;34m(\u001b[0m\u001b[0mproblem\u001b[0m\u001b[0;34m.\u001b[0m\u001b[0mconjecture\u001b[0m\u001b[0;34m)\u001b[0m\u001b[0;34m,\u001b[0m \u001b[0;34m*\u001b[0m\u001b[0;34m(\u001b[0m\u001b[0msmbls\u001b[0m\u001b[0;34m(\u001b[0m\u001b[0mp\u001b[0m\u001b[0;34m)\u001b[0m \u001b[0;32mfor\u001b[0m \u001b[0mp\u001b[0m \u001b[0;32min\u001b[0m \u001b[0mproblem\u001b[0m\u001b[0;34m.\u001b[0m\u001b[0mpremises\u001b[0m\u001b[0;34m)\u001b[0m\u001b[0;34m)\u001b[0m\u001b[0;34m\u001b[0m\u001b[0;34m\u001b[0m\u001b[0m\n\u001b[0m\u001b[1;32m      5\u001b[0m         )\n\u001b[1;32m      6\u001b[0m         \u001b[0mpremise_symbols\u001b[0m \u001b[0;34m=\u001b[0m \u001b[0;34m{\u001b[0m\u001b[0mp\u001b[0m\u001b[0;34m.\u001b[0m\u001b[0mname\u001b[0m\u001b[0;34m:\u001b[0m \u001b[0mset\u001b[0m\u001b[0;34m(\u001b[0m\u001b[0msmbls\u001b[0m\u001b[0;34m(\u001b[0m\u001b[0mp\u001b[0m\u001b[0;34m)\u001b[0m\u001b[0;34m)\u001b[0m \u001b[0;32mfor\u001b[0m \u001b[0mp\u001b[0m \u001b[0;32min\u001b[0m \u001b[0mproblem\u001b[0m\u001b[0;34m.\u001b[0m\u001b[0mpremises\u001b[0m\u001b[0;34m}\u001b[0m\u001b[0;34m\u001b[0m\u001b[0;34m\u001b[0m\u001b[0m\n",
      "\u001b[0;31mTypeError\u001b[0m: 'AnnotatedFormula' object is not iterable"
     ]
    }
   ],
   "source": [
    "selector = Sine()\n",
    "small_problem = selector.select(p2)\n",
    "hop.prove(small_problem)"
   ]
  },
  {
   "cell_type": "code",
   "execution_count": 206,
   "metadata": {},
   "outputs": [
    {
     "data": {
      "text/plain": [
       "[]"
      ]
     },
     "execution_count": 206,
     "metadata": {},
     "output_type": "execute_result"
    }
   ],
   "source": [
    "small_problem.premises"
   ]
  },
  {
   "cell_type": "code",
   "execution_count": 207,
   "metadata": {},
   "outputs": [
    {
     "data": {
      "text/plain": [
       "[<gavel.logic.problem.AnnotatedFormula at 0x10e33fb00>,\n",
       " <gavel.logic.problem.AnnotatedFormula at 0x10e33f7f0>,\n",
       " <gavel.logic.problem.AnnotatedFormula at 0x10e33f8d0>,\n",
       " <gavel.logic.problem.AnnotatedFormula at 0x10e33f5f8>,\n",
       " <gavel.logic.problem.AnnotatedFormula at 0x10e33f2e8>]"
      ]
     },
     "execution_count": 207,
     "metadata": {},
     "output_type": "execute_result"
    }
   ],
   "source": [
    "p2.premises"
   ]
  },
  {
   "cell_type": "code",
   "execution_count": 51,
   "metadata": {},
   "outputs": [
    {
     "name": "stdout",
     "output_type": "stream",
     "text": [
      "Finished 'prove' in 20.8934 secs\n"
     ]
    },
    {
     "data": {
      "text/plain": [
       "<gavel.logic.proof.Proof at 0x11091fcf8>"
      ]
     },
     "execution_count": 51,
     "metadata": {},
     "output_type": "execute_result"
    }
   ],
   "source": [
    "prove(big)"
   ]
  },
  {
   "cell_type": "code",
   "execution_count": 52,
   "metadata": {
    "scrolled": true
   },
   "outputs": [
    {
     "name": "stdout",
     "output_type": "stream",
     "text": [
      "Finished 'prove2' in 20.6628 secs\n"
     ]
    },
    {
     "data": {
      "text/plain": [
       "<gavel.logic.proof.Proof at 0x1109d09b0>"
      ]
     },
     "execution_count": 52,
     "metadata": {},
     "output_type": "execute_result"
    }
   ],
   "source": [
    "prove2(big)"
   ]
  },
  {
   "cell_type": "code",
   "execution_count": 53,
   "metadata": {},
   "outputs": [
    {
     "name": "stdout",
     "output_type": "stream",
     "text": [
      "Finished 'prove' in 20.4444 secs\n"
     ]
    },
    {
     "data": {
      "text/plain": [
       "<gavel.logic.proof.Proof at 0x1109d0ba8>"
      ]
     },
     "execution_count": 53,
     "metadata": {},
     "output_type": "execute_result"
    }
   ],
   "source": [
    "prove(big)"
   ]
  },
  {
   "cell_type": "code",
   "execution_count": 54,
   "metadata": {},
   "outputs": [
    {
     "name": "stdout",
     "output_type": "stream",
     "text": [
      "Finished 'prove2' in 20.6582 secs\n"
     ]
    },
    {
     "data": {
      "text/plain": [
       "<gavel.logic.proof.Proof at 0x110a93668>"
      ]
     },
     "execution_count": 54,
     "metadata": {},
     "output_type": "execute_result"
    }
   ],
   "source": [
    "prove2(big)"
   ]
  },
  {
   "cell_type": "code",
   "execution_count": 42,
   "metadata": {},
   "outputs": [
    {
     "name": "stdout",
     "output_type": "stream",
     "text": [
      "$false\n"
     ]
    }
   ],
   "source": [
    "print(big.conjecture.formula)"
   ]
  },
  {
   "cell_type": "code",
   "execution_count": null,
   "metadata": {},
   "outputs": [],
   "source": [
    "big.conjecture"
   ]
  },
  {
   "cell_type": "code",
   "execution_count": 43,
   "metadata": {},
   "outputs": [
    {
     "data": {
      "text/plain": [
       "['($true) => (q(x1, x3))',\n",
       " '(q(z5, z3)) => (q(f(z3, x0), y9))',\n",
       " '($true) => (q(y1, y2))',\n",
       " '(q(x5, x1)) => (p(z5))',\n",
       " '((p(e)) & ((p(b)) & (p(d)))) => ($false)',\n",
       " '(p(e)) => (p(d))',\n",
       " '($true) => (p(b))',\n",
       " '(p(a)) => ($false)',\n",
       " '(p(c)) => (p(e))',\n",
       " '($true) => (p(c))']"
      ]
     },
     "execution_count": 43,
     "metadata": {},
     "output_type": "execute_result"
    }
   ],
   "source": [
    "formulas(big.premises[-10:])"
   ]
  },
  {
   "cell_type": "code",
   "execution_count": 580,
   "metadata": {},
   "outputs": [],
   "source": [
    "class dumb():\n",
    "    def __init__(self, i):\n",
    "        self.formula = i"
   ]
  },
  {
   "cell_type": "code",
   "execution_count": 857,
   "metadata": {},
   "outputs": [],
   "source": [
    "class btSelector():\n",
    "    def __init__(self):\n",
    "        self.func = {}\n",
    "        self.equiv = {}\n",
    "        self.G = 0\n",
    "        self.remaining = None\n",
    "        self.premises = []\n",
    "        self.relevant = None\n",
    "        self.preds = {}\n",
    "        \n",
    "    def prepare(self, exp):\n",
    "        if type(exp) == Constant:\n",
    "            k = str(exp.symbol)\n",
    "            if k not in self.equiv:\n",
    "                self.equiv[k] = set(str(exp))\n",
    "            return\n",
    "        if type(exp) == DefinedConstant:\n",
    "            k = str(exp)\n",
    "            if k not in self.equiv:\n",
    "                self.equiv[k] = set([k])\n",
    "            return\n",
    "        if type(exp) == BinaryFormula:\n",
    "            self.prepare(exp.left)\n",
    "            self.prepare(exp.right)\n",
    "            return\n",
    "        if type(exp) in (PredicateExpression, FunctorExpression):\n",
    "            for i in exp.arguments:\n",
    "                self.prepare(i)\n",
    "    \n",
    "    def flatten(self, f):\n",
    "        if type(f) in ATOMS:\n",
    "            return st(f)\n",
    "\n",
    "        if all([type(i) in ATOMS for i in f.arguments]):\n",
    "            \n",
    "            key = str(f.functor)\n",
    "            args = tuple([flatten(i) for i in f.arguments])\n",
    "            \n",
    "            if key not in self.func:   # new functor\n",
    "                self.func[key] = {}\n",
    "            \n",
    "            for tup in self.func[key]: # old functor, known equivalence class\n",
    "                assert len(args) == len(tup), f'Non matching lengths. functor:{key}, existing: {tup}, new: {arg_tuple}' \n",
    "                if all(args[i] in self.equiv[tup[i]] for i in range(len(tup))):\n",
    "                    return self.func[key][tup]\n",
    "                \n",
    "            const = f'K{self.G}'       # old functor, new equivalence class\n",
    "            self.func[key][args] = const\n",
    "            self.equiv[const] = set([const])\n",
    "            self.G += 1\n",
    "            return const\n",
    "\n",
    "        l = [self.flatten(i) for i in f.arguments]\n",
    "\n",
    "        return self.flatten(FunctorExpression(f.functor, l))\n",
    "    \n",
    "\n",
    "    def is_useful(self, right):\n",
    "        if type(right) == PredicateExpression:\n",
    "            p = str(right.predicate)\n",
    "            if p in self.preds:\n",
    "                v = tuple(self.flatten(i) for i in right.arguments)\n",
    "                for x in self.preds[p]:\n",
    "                    assert len(v) == len(x), f'Non matching lengths. v: {v}, x: {x}, p:{p}' \n",
    "                    if all(v[i] in self.equiv[x[i]] for i in range(len(v))):\n",
    "                        return True\n",
    "                    else:\n",
    "                        print(f'v: {v}, x: {x}, p:{p}, preds:{self.preds[p]}')\n",
    "                        #print(v, self.preds[p])\n",
    "            return False\n",
    "        elif type(right) == BinaryFormula:\n",
    "            if right.operator == BinaryConnective.EQ:\n",
    "                return True\n",
    "            elif right.operator == BinaryConnective.IMPLICATION:\n",
    "                return self.is_useful(right.right)\n",
    "        elif type(right) in [DefinedConstant, Constant]:\n",
    "            return len(self.equiv[st(right)].intersection(self.relevant)) > 0\n",
    "        else:\n",
    "            print('use')\n",
    "            print(type(right))\n",
    "\n",
    "    def add_to_relevant(self, left):\n",
    "        if type(left) == BinaryFormula:\n",
    "            self.add_to_relevant(left.left)\n",
    "            self.add_to_relevant(left.right)\n",
    "        elif type(left) == PredicateExpression:\n",
    "            k = str(left.predicate)\n",
    "            if k not in self.preds:\n",
    "                self.preds[k] = set()\n",
    "            v = tuple(self.flatten(i) for i in left.arguments)\n",
    "            self.preds[k].add(v)\n",
    "        elif type(left) in [DefinedConstant]:\n",
    "            self.relevant.add(st(left))\n",
    "        else:\n",
    "            print('rlv')\n",
    "            print(type(left))\n",
    "        \n",
    "    def iter_find_relevant(self):\n",
    "        rem = []\n",
    "        for p in self.remaining:\n",
    "            if self.is_useful(p.formula.right):\n",
    "                self.premises.append(p)\n",
    "                \n",
    "                self.add_to_relevant(p.formula.left)\n",
    "                \n",
    "            else:\n",
    "                rem.append(p)\n",
    "        self.remaining = rem\n",
    "                \n",
    "    def select(self, problem):\n",
    "        self.G = 0\n",
    "        self.func = {}\n",
    "        self.equiv = {}\n",
    "        self.remaining = problem.premises\n",
    "        self.premises = []\n",
    "        self.relevant = {self.flatten(problem.conjecture.formula)}\n",
    "        self.preds = {}\n",
    "        \n",
    "        for i in [p.formula for p in self.remaining]:\n",
    "            self.prepare(i)\n",
    "            if type(i.right) == BinaryFormula and i.right.operator == BinaryConnective.EQ:\n",
    "                l = self.flatten(i.right.left)\n",
    "                self.equiv[l] = self.equiv[self.flatten(i.right.right)]\n",
    "                self.equiv[l].add(l)\n",
    "        \n",
    "        for i in range(5):\n",
    "            #self.premises.append(dumb(i))\n",
    "            self.iter_find_relevant()\n",
    "        return self.premises"
   ]
  },
  {
   "cell_type": "code",
   "execution_count": 858,
   "metadata": {},
   "outputs": [
    {
     "data": {
      "text/plain": [
       "False"
      ]
     },
     "execution_count": 858,
     "metadata": {},
     "output_type": "execute_result"
    }
   ],
   "source": [
    "all(i in [0,1,2,3] for i in range(5))"
   ]
  },
  {
   "cell_type": "code",
   "execution_count": 859,
   "metadata": {
    "scrolled": true
   },
   "outputs": [
    {
     "data": {
      "text/plain": [
       "False"
      ]
     },
     "execution_count": 859,
     "metadata": {},
     "output_type": "execute_result"
    }
   ],
   "source": [
    "all(i<10 for i in range(12))"
   ]
  },
  {
   "cell_type": "code",
   "execution_count": 860,
   "metadata": {
    "scrolled": true
   },
   "outputs": [
    {
     "name": "stdout",
     "output_type": "stream",
     "text": [
      "True &\n",
      "True |\n",
      "False <=>\n",
      "False =>\n",
      "False <=\n",
      "False <~>\n",
      "False ~&\n",
      "False ~|\n",
      "True =\n",
      "False !=\n",
      "False @\n",
      "False *\n",
      "False +\n",
      "False -->\n",
      "False :=\n",
      "False >\n"
     ]
    }
   ],
   "source": [
    "for i in BinaryConnective:\n",
    "    print(i.is_associative(), repr(i))"
   ]
  },
  {
   "cell_type": "code",
   "execution_count": 861,
   "metadata": {},
   "outputs": [],
   "source": [
    "sel = btSelector()"
   ]
  },
  {
   "cell_type": "code",
   "execution_count": 862,
   "metadata": {},
   "outputs": [],
   "source": [
    "prob = p22\n",
    "#prob = Problem(premises=test, conjecture=p1.conjecture)"
   ]
  },
  {
   "cell_type": "code",
   "execution_count": 863,
   "metadata": {
    "scrolled": true
   },
   "outputs": [],
   "source": [
    "ans = sel.select(prob)"
   ]
  },
  {
   "cell_type": "code",
   "execution_count": 864,
   "metadata": {},
   "outputs": [
    {
     "data": {
      "text/plain": [
       "{'$false', '$true'}"
      ]
     },
     "execution_count": 864,
     "metadata": {},
     "output_type": "execute_result"
    }
   ],
   "source": [
    "sel.relevant"
   ]
  },
  {
   "cell_type": "code",
   "execution_count": 865,
   "metadata": {
    "scrolled": true
   },
   "outputs": [
    {
     "data": {
      "text/plain": [
       "{'p': {('c',)}}"
      ]
     },
     "execution_count": 865,
     "metadata": {},
     "output_type": "execute_result"
    }
   ],
   "source": [
    "sel.preds"
   ]
  },
  {
   "cell_type": "code",
   "execution_count": 866,
   "metadata": {
    "scrolled": true
   },
   "outputs": [
    {
     "data": {
      "text/plain": [
       "['($true) => ((a) = (d))',\n",
       " '($true) => ((f(d)) = (b))',\n",
       " '($true) => ((g(b, b)) = (c))',\n",
       " '(p(c)) => ($false)',\n",
       " '($true) => (p(g(f(a), b)))']"
      ]
     },
     "execution_count": 866,
     "metadata": {},
     "output_type": "execute_result"
    }
   ],
   "source": [
    "[str(i.formula) for i in ans]"
   ]
  },
  {
   "cell_type": "code",
   "execution_count": 867,
   "metadata": {},
   "outputs": [
    {
     "data": {
      "text/plain": [
       "['($true) => ((a) = (d))',\n",
       " '($true) => (p(g(f(a), b)))',\n",
       " '($true) => ((f(d)) = (b))',\n",
       " '($true) => ((g(b, b)) = (c))',\n",
       " '(p(c)) => ($false)']"
      ]
     },
     "execution_count": 867,
     "metadata": {},
     "output_type": "execute_result"
    }
   ],
   "source": [
    "formulas(prob.premises)"
   ]
  },
  {
   "cell_type": "code",
   "execution_count": 868,
   "metadata": {
    "scrolled": false
   },
   "outputs": [
    {
     "data": {
      "text/plain": [
       "{'$true': {'$true'},\n",
       " 'a': {'a', 'd'},\n",
       " 'd': {'a', 'd'},\n",
       " 'b': {'K0', 'b'},\n",
       " 'K0': {'K0', 'b'},\n",
       " 'c': {'K1', 'c'},\n",
       " 'K1': {'K1', 'c'},\n",
       " '$false': {'$false'}}"
      ]
     },
     "execution_count": 868,
     "metadata": {},
     "output_type": "execute_result"
    }
   ],
   "source": [
    "sel.equiv"
   ]
  },
  {
   "cell_type": "code",
   "execution_count": 869,
   "metadata": {},
   "outputs": [
    {
     "data": {
      "text/plain": [
       "{'f': {('d',): 'K0'}, 'g': {('b', 'b'): 'K1'}}"
      ]
     },
     "execution_count": 869,
     "metadata": {},
     "output_type": "execute_result"
    }
   ],
   "source": [
    "sel.func"
   ]
  },
  {
   "cell_type": "code",
   "execution_count": null,
   "metadata": {},
   "outputs": [],
   "source": []
  },
  {
   "cell_type": "code",
   "execution_count": null,
   "metadata": {},
   "outputs": [],
   "source": []
  },
  {
   "cell_type": "code",
   "execution_count": null,
   "metadata": {},
   "outputs": [],
   "source": []
  },
  {
   "cell_type": "code",
   "execution_count": null,
   "metadata": {},
   "outputs": [],
   "source": []
  },
  {
   "cell_type": "code",
   "execution_count": null,
   "metadata": {},
   "outputs": [],
   "source": []
  },
  {
   "cell_type": "code",
   "execution_count": 258,
   "metadata": {
    "scrolled": true
   },
   "outputs": [
    {
     "data": {
      "text/plain": [
       "['($true) => ((a) = (b))', '($true) => (p(a))', '(p(b)) => ($false)']"
      ]
     },
     "execution_count": 258,
     "metadata": {},
     "output_type": "execute_result"
    }
   ],
   "source": [
    "formulas(p12.premises)"
   ]
  },
  {
   "cell_type": "code",
   "execution_count": 259,
   "metadata": {},
   "outputs": [
    {
     "data": {
      "text/plain": [
       "="
      ]
     },
     "execution_count": 259,
     "metadata": {},
     "output_type": "execute_result"
    }
   ],
   "source": [
    "p12.premises[0].formula.right.operator"
   ]
  },
  {
   "cell_type": "code",
   "execution_count": 150,
   "metadata": {},
   "outputs": [],
   "source": [
    "class tree():\n",
    "    def __init__(self, ziel):\n",
    "        self.ziel = ziel\n",
    "\n",
    "    def get(self):\n",
    "        print(self.ziel)"
   ]
  },
  {
   "cell_type": "code",
   "execution_count": 151,
   "metadata": {},
   "outputs": [],
   "source": [
    "t = tree(str(p1.conjecture.formula))"
   ]
  },
  {
   "cell_type": "code",
   "execution_count": 152,
   "metadata": {},
   "outputs": [
    {
     "name": "stdout",
     "output_type": "stream",
     "text": [
      "$false\n"
     ]
    }
   ],
   "source": [
    "t.get()"
   ]
  },
  {
   "cell_type": "code",
   "execution_count": null,
   "metadata": {},
   "outputs": [],
   "source": []
  },
  {
   "cell_type": "code",
   "execution_count": null,
   "metadata": {},
   "outputs": [],
   "source": []
  }
 ],
 "metadata": {
  "kernelspec": {
   "display_name": "Python 3",
   "language": "python",
   "name": "python3"
  },
  "language_info": {
   "codemirror_mode": {
    "name": "ipython",
    "version": 3
   },
   "file_extension": ".py",
   "mimetype": "text/x-python",
   "name": "python",
   "nbconvert_exporter": "python",
   "pygments_lexer": "ipython3",
   "version": "3.7.3"
  }
 },
 "nbformat": 4,
 "nbformat_minor": 2
}
