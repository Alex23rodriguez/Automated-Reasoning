{
 "cells": [
  {
   "cell_type": "code",
   "execution_count": 3,
   "metadata": {},
   "outputs": [],
   "source": [
    "# AR\n",
    "# 12.2019"
   ]
  },
  {
   "cell_type": "code",
   "execution_count": 4,
   "metadata": {},
   "outputs": [],
   "source": [
    "# http://theo.cs.ovgu.de/lehre/lehre2019w/reasoning/05-uebungsblatt.pdf"
   ]
  },
  {
   "cell_type": "code",
   "execution_count": 5,
   "metadata": {},
   "outputs": [],
   "source": [
    "from gavel.selection.selector import Selector, Sine"
   ]
  },
  {
   "cell_type": "code",
   "execution_count": 6,
   "metadata": {},
   "outputs": [],
   "source": [
    "from gavel.logic.logic import BinaryFormula, Constant, PredicateExpression, BinaryConnective, FunctorExpression, DefinedConstant"
   ]
  },
  {
   "cell_type": "code",
   "execution_count": 7,
   "metadata": {},
   "outputs": [],
   "source": [
    "from gavel.prover.base.interface import BaseProverInterface"
   ]
  },
  {
   "cell_type": "code",
   "execution_count": 8,
   "metadata": {},
   "outputs": [],
   "source": [
    "from gavel.logic.proof import Proof\n",
    "from gavel.logic.proof import ProofStep"
   ]
  },
  {
   "cell_type": "code",
   "execution_count": 9,
   "metadata": {},
   "outputs": [],
   "source": [
    "from gavel.dialects.tptp.parser import TPTPProblemParser\n",
    "\n",
    "problem_parser = TPTPProblemParser()"
   ]
  },
  {
   "cell_type": "code",
   "execution_count": null,
   "metadata": {},
   "outputs": [],
   "source": [
    "from gavel.logic.problem import AnnotatedFormula"
   ]
  },
  {
   "cell_type": "code",
   "execution_count": 10,
   "metadata": {},
   "outputs": [],
   "source": [
    "# Convert string to gavel.logic.problem.Problem\n",
    "def read_prob(st):\n",
    "    x = problem_parser.parse(st)\n",
    "    return next(x)"
   ]
  },
  {
   "cell_type": "code",
   "execution_count": 11,
   "metadata": {},
   "outputs": [],
   "source": [
    "p1 = read_prob(open('P4/problem1.p', 'r').readlines())\n",
    "p2 = read_prob(open('P4/problem2.p', 'r').readlines())\n",
    "p3 = read_prob(open('P4/problem3.p', 'r').readlines())\n",
    "p4 = read_prob(open('P4/problem4.p', 'r').readlines())\n",
    "\n",
    "p12 = read_prob(open('P5/problem1.p', 'r').readlines())\n",
    "p22 = read_prob(open('P5/problem2.p', 'r').readlines())\n",
    "p32 = read_prob(open('P5/problem3.p', 'r').readlines())"
   ]
  },
  {
   "cell_type": "code",
   "execution_count": 12,
   "metadata": {},
   "outputs": [],
   "source": [
    "# Convert premises into list of strings\n",
    "def formulas(p):\n",
    "    if type(p)==list:\n",
    "        return [str(i.formula) for i in p]\n",
    "    return str(p.formula)"
   ]
  },
  {
   "cell_type": "code",
   "execution_count": 13,
   "metadata": {},
   "outputs": [
    {
     "data": {
      "text/plain": [
       "['((p(e)) & ((p(b)) & (p(d)))) => ($false)',\n",
       " '(p(e)) => (p(d))',\n",
       " '($true) => (p(f))',\n",
       " '(p(a)) => ($false)',\n",
       " '(p(c)) => (p(e))',\n",
       " '($true) => (p(c))',\n",
       " '($true) => ((f) = (b))']"
      ]
     },
     "execution_count": 13,
     "metadata": {},
     "output_type": "execute_result"
    }
   ],
   "source": [
    "formulas(p32.premises)"
   ]
  },
  {
   "cell_type": "code",
   "execution_count": 14,
   "metadata": {},
   "outputs": [],
   "source": [
    "import time\n",
    "# print how long the function took to execute\n",
    "def timer(func):\n",
    "    \"\"\"Print the runtime of the decorated function\"\"\"\n",
    "    def wrapper_timer(*args, **kwargs):\n",
    "        start_time = time.perf_counter()    # 1\n",
    "        value = func(*args, **kwargs)\n",
    "        end_time = time.perf_counter()      # 2\n",
    "        run_time = end_time - start_time    # 3\n",
    "        print(f\"Finished {func.__name__!r} in {run_time:.4f} secs\")\n",
    "        return value\n",
    "    return wrapper_timer"
   ]
  },
  {
   "cell_type": "code",
   "execution_count": 15,
   "metadata": {
    "scrolled": false
   },
   "outputs": [],
   "source": [
    "class Horn(BaseProverInterface):\n",
    "    def _submit_problem(self, problem_instance, *args, **kwargs):\n",
    "        # Call your prov:qer here\n",
    "        sol = HornSolver()\n",
    "        result = sol.prove(problem_instance)\n",
    "        return result"
   ]
  },
  {
   "cell_type": "code",
   "execution_count": 16,
   "metadata": {
    "scrolled": false
   },
   "outputs": [],
   "source": [
    "class HornV2(BaseProverInterface):\n",
    "    def _submit_problem(self, problem_instance, *args, **kwargs):\n",
    "        # Call your prov:qer here\n",
    "        sol = Solver()\n",
    "        result = sol.prove(problem_instance)\n",
    "        return result"
   ]
  },
  {
   "cell_type": "code",
   "execution_count": null,
   "metadata": {
    "scrolled": false
   },
   "outputs": [],
   "source": []
  },
  {
   "cell_type": "code",
   "execution_count": 17,
   "metadata": {},
   "outputs": [],
   "source": [
    "ATOMS = [Constant, DefinedConstant, str]"
   ]
  },
  {
   "cell_type": "code",
   "execution_count": 18,
   "metadata": {},
   "outputs": [],
   "source": [
    "def st(x):\n",
    "    if type(x) in [str, DefinedConstant]:\n",
    "        return str(x)\n",
    "    return str(x.symbol)"
   ]
  },
  {
   "cell_type": "code",
   "execution_count": 881,
   "metadata": {},
   "outputs": [],
   "source": [
    "## Alternative solver class with actual ProofStep Objects. This allows us to merge the old/new variables\n",
    "class Solver():\n",
    "    def __init__(self):\n",
    "        self.equiv = {}\n",
    "        self.func = {}\n",
    "        self.S = {'$true'}\n",
    "        self.preds = {}\n",
    "        self.G = 0\n",
    "        \n",
    "        self.steps = [ProofStep(DefinedConstant.VERUM)]\n",
    "        \n",
    "    def flatten(self, f):\n",
    "        if type(f) in ATOMS:\n",
    "            return st(f)\n",
    "\n",
    "        if all([type(i) in ATOMS for i in f.arguments]): \n",
    "            key = str(f.functor)\n",
    "            args = tuple([flatten(i) for i in f.arguments])\n",
    "            if key not in self.func:   # new functor\n",
    "                self.func[key] = {}\n",
    "            for tup in self.func[key]: # old functor, known equivalence class\n",
    "                assert len(args) == len(tup), f'Non matching lengths. functor:{key}, existing: {tup}, new: {arg_tuple}' \n",
    "                if all(args[i] in self.equiv[tup[i]] for i in range(len(tup))):\n",
    "                    return self.func[key][tup]\n",
    "                \n",
    "            const = f'K{self.G}'       # old functor, new equivalence class\n",
    "            self.func[key][args] = const\n",
    "            self.equiv[const] = set([const])\n",
    "            self.G += 1\n",
    "            return const\n",
    "\n",
    "        l = [self.flatten(i) for i in f.arguments]\n",
    "\n",
    "        return self.flatten(FunctorExpression(f.functor, l))\n",
    "    \n",
    "    def eq(self, x, y): \n",
    "        x = self.flatten(x)\n",
    "        y = self.flatten(y)\n",
    "        \n",
    "        #self.steps[-1].add(f\"{x}={y}\")\n",
    "        \n",
    "        if x not in self.equiv[y]:\n",
    "            self.equiv[x] = self.equiv[y]\n",
    "            self.equiv[x].add(x)\n",
    "        \n",
    "    def check(self, exp):\n",
    "        if type(exp) in [Constant, DefinedConstant]:\n",
    "            return str(exp) in self.S\n",
    "        \n",
    "        if type(exp) == FunctorExpression:\n",
    "            return self.flatten(exp) in self.S\n",
    "        \n",
    "        elif type(exp) == PredicateExpression:\n",
    "            p = str(exp.predicate)\n",
    "            if p in self.preds:\n",
    "                v = tuple(self.flatten(i) for i in exp.arguments)\n",
    "                for x in self.preds[p]:\n",
    "                    assert len(v) == len(x), f'Non matching lengths. v: {v}, x: {x}, p:{p}'\n",
    "                    if all(v[i] in self.equiv[x[i]] for i in range(len(v))):\n",
    "                        return True\n",
    "            return False\n",
    "        \n",
    "        elif type(exp) == BinaryFormula:\n",
    "            return self.check(exp.left) and self.check(exp.right) # Only supports and for the time being\n",
    "        print('?')\n",
    "        print(type(exp))\n",
    "                 \n",
    "    def prepare(self, exp):\n",
    "        if type(exp) == Constant:\n",
    "            k = str(exp.symbol)\n",
    "            if k not in self.equiv:\n",
    "                self.equiv[k] = set(str(exp))\n",
    "            return\n",
    "        if type(exp) == BinaryFormula:\n",
    "            self.prepare(exp.left)\n",
    "            self.prepare(exp.right)\n",
    "            return\n",
    "        if type(exp) in (PredicateExpression, FunctorExpression):\n",
    "            for i in exp.arguments:\n",
    "                self.prepare(i)\n",
    "        \n",
    "            \n",
    "    def prove(self, problem, *args, **kwargs):\n",
    "        lst = [i.formula for i in problem.premises]\n",
    "        for exp in lst:\n",
    "            self.prepare(exp)\n",
    "\n",
    "        conj = problem.conjecture.formula\n",
    "        \n",
    "        update = True\n",
    "        while update:\n",
    "            update = False\n",
    "            \n",
    "            for exp in lst:\n",
    "                r = exp.right\n",
    "                \n",
    "                # We already know\n",
    "                if type(r) == BinaryFormula and r.operator == BinaryConnective.EQ:\n",
    "                    x = self.flatten(r.left)\n",
    "                    y = self.flatten(r.right)\n",
    "                    if x in self.equiv[y]:\n",
    "                        continue\n",
    "                elif type(r) == DefinedConstant and str(r) in self.S:\n",
    "                    continue\n",
    "                elif type(r) == PredicateExpression:\n",
    "                    p = str(r.predicate)\n",
    "                    if p in self.preds:\n",
    "                        v = tuple(self.flatten(i) for i in r.arguments)\n",
    "                        match = False\n",
    "                        for x in self.preds[p]:\n",
    "                            if all(v[i] in self.equiv[x[i]] for i in range(len(v))):\n",
    "                                match = True\n",
    "                                break\n",
    "                        if match:\n",
    "                            continue\n",
    "                                \n",
    "                \n",
    "                # We don't know\n",
    "                if self.check(exp.left):\n",
    "                    update = True\n",
    "                    \n",
    "                    if type(r) == BinaryFormula and r.operator == BinaryConnective.EQ:\n",
    "                        self.eq(r.left, r.right)\n",
    "\n",
    "                    elif type(r) == DefinedConstant:\n",
    "                        self.S.add(str(r))\n",
    "\n",
    "                    elif type(r) == PredicateExpression:\n",
    "                        self.S.add(str(r))\n",
    "                        p = str(r.predicate)\n",
    "                        if p not in self.preds:\n",
    "                            self.preds[p] = set()\n",
    "                        v = tuple(self.flatten(i) for i in r.arguments)\n",
    "                        self.preds[p].add(v)\n",
    "                    else:\n",
    "                        print(\"???\")\n",
    "                        print(type(r))\n",
    "                    self.steps.append(ProofStep(exp))\n",
    "                    if type(conj) == type(r) and conj == r:\n",
    "                        return Proof(steps=self.steps)\n",
    "        "
   ]
  },
  {
   "cell_type": "code",
   "execution_count": 975,
   "metadata": {},
   "outputs": [],
   "source": [
    "class HornSolver():\n",
    "    def __init__(self):\n",
    "        self.oldEq = {}\n",
    "        self.equiv = {}\n",
    "        self.func = {}\n",
    "        self.oldS = set()\n",
    "        self.S = {'$true'}\n",
    "        self.oldPreds = {}\n",
    "        self.preds = {}\n",
    "        self.G = 0\n",
    "        \n",
    "        self.steps = [{'$true'}]\n",
    "        \n",
    "        \n",
    "    def flatten(self, f):\n",
    "        if type(f) in ATOMS:\n",
    "            return st(f)\n",
    "\n",
    "        if all([type(i) in ATOMS for i in f.arguments]): \n",
    "            key = str(f.functor)\n",
    "            args = tuple([flatten(i) for i in f.arguments])\n",
    "            if key not in self.func:   # new functor\n",
    "                self.func[key] = {}\n",
    "            for tup in self.func[key]: # old functor, known equivalence class\n",
    "                assert len(args) == len(tup), f'Non matching lengths. functor:{key}, existing: {tup}, new: {arg_tuple}' \n",
    "                if all(args[i] in self.oldEq[tup[i]] for i in range(len(tup))):\n",
    "                    return self.func[key][tup]\n",
    "                \n",
    "            const = f'K{self.G}'       # old functor, new equivalence class\n",
    "            self.func[key][args] = const\n",
    "            self.oldEq[const] = set([const])\n",
    "            self.equiv[const] = set([const])\n",
    "            self.G += 1\n",
    "            return const\n",
    "\n",
    "        l = [self.flatten(i) for i in f.arguments]\n",
    "\n",
    "        return self.flatten(FunctorExpression(f.functor, l))\n",
    "        \n",
    "    \n",
    "    def eq(self, x, y):    \n",
    "        x = self.flatten(x)\n",
    "        y = self.flatten(y)\n",
    "\n",
    "        if x not in self.equiv[y]:\n",
    "            self.equiv[x] = self.equiv[y]\n",
    "            self.equiv[x].add(x)\n",
    "            \n",
    "        \n",
    "    def check(self, exp):\n",
    "        if type(exp) in [Constant, DefinedConstant]:\n",
    "            return str(exp) in self.oldS\n",
    "        \n",
    "        if type(exp) == FunctorExpression:\n",
    "            return self.flatten(exp) in self.oldS\n",
    "        \n",
    "        elif type(exp) == PredicateExpression:\n",
    "            p = str(exp.predicate)\n",
    "            if p in self.oldPreds:\n",
    "                v = tuple(self.flatten(i) for i in exp.arguments)\n",
    "                for x in self.oldPreds[p]:\n",
    "                    assert len(v) == len(x), f'Non matching lengths. v: {v}, x: {x}, p:{p}'\n",
    "                    if all(v[i] in self.oldEq[x[i]] for i in range(len(v))):\n",
    "                        return True\n",
    "            return False\n",
    "        \n",
    "        elif type(exp) == BinaryFormula:\n",
    "            return self.check(exp.left) and self.check(exp.right) # Only supports and for the time being\n",
    "        print('?')\n",
    "        print(type(exp))\n",
    "                 \n",
    "    def prepare(self, exp):\n",
    "        if type(exp) == Constant:\n",
    "            k = str(exp.symbol)\n",
    "            if k not in self.equiv:\n",
    "                self.equiv[k] = set(str(exp))\n",
    "            return\n",
    "        if type(exp) == BinaryFormula:\n",
    "            self.prepare(exp.left)\n",
    "            self.prepare(exp.right)\n",
    "            return\n",
    "        if type(exp) in (PredicateExpression, FunctorExpression):\n",
    "            for i in exp.arguments:\n",
    "                self.prepare(i)\n",
    "        \n",
    "            \n",
    "    def prove(self, problem, *args, **kwargs):\n",
    "        lst = [i.formula for i in problem.premises]\n",
    "        for exp in lst:\n",
    "            self.prepare(exp)\n",
    "\n",
    "        conj = problem.conjecture.formula\n",
    "        \n",
    "        neweq = False\n",
    "        while self.S != self.oldS or neweq:\n",
    "            neweq = False\n",
    "            self.steps.append(set())\n",
    "            self.oldS = self.S.copy()\n",
    "            self.oldEq = self.equiv.copy()\n",
    "            self.oldPreds = self.preds.copy()\n",
    "            \n",
    "            for exp in lst:\n",
    "                r = exp.right\n",
    "                \n",
    "                # We already know\n",
    "                if type(r) == BinaryFormula and r.operator == BinaryConnective.EQ:\n",
    "                    x = self.flatten(r.left)\n",
    "                    y = self.flatten(r.right)\n",
    "                    if x in self.equiv[y]:\n",
    "                        continue\n",
    "                elif type(r) == DefinedConstant and str(r) in self.S:\n",
    "                    continue\n",
    "                elif type(r) == PredicateExpression:\n",
    "                    p = str(r.predicate)\n",
    "                    if p in self.preds:\n",
    "                        v = tuple(self.flatten(i) for i in r.arguments)\n",
    "                        for x in self.preds[p]:\n",
    "                            assert len(v) == len(x), f'Non matching lengths. v: {v}, x: {x}, p:{p}'\n",
    "                            if all(v[i] in self.equiv[x[i]] for i in range(len(v))):\n",
    "                                continue\n",
    "                \n",
    "                # We don't know\n",
    "                if self.check(exp.left):\n",
    "                    \n",
    "                    if type(r) == BinaryFormula and r.operator == BinaryConnective.EQ:\n",
    "                        self.steps[-1].update({str(r)})\n",
    "                        self.eq(r.left, r.right)\n",
    "                        neweq = True\n",
    "\n",
    "                    elif type(r) == DefinedConstant:\n",
    "                        self.S.add(str(r))\n",
    "\n",
    "                    elif type(r) == PredicateExpression:\n",
    "                        self.S.add(str(r))\n",
    "                        p = str(r.predicate)\n",
    "                        if p not in self.preds:\n",
    "                            self.preds[p] = set()\n",
    "                        v = tuple(self.flatten(i) for i in r.arguments)\n",
    "                        self.preds[p].add(v)\n",
    "                    else:\n",
    "                        print(\"???\")\n",
    "                        print(type(r))\n",
    "                    if type(conj) == type(r) and conj == r:\n",
    "                        self.steps[-1].update(self.S - self.oldS)\n",
    "                        return Proof(steps=self.steps)\n",
    "            self.steps[-1].update(self.S - self.oldS)"
   ]
  },
  {
   "cell_type": "code",
   "execution_count": 883,
   "metadata": {},
   "outputs": [],
   "source": [
    "hop = Horn()\n",
    "h2 = HornV2()"
   ]
  },
  {
   "cell_type": "code",
   "execution_count": 888,
   "metadata": {},
   "outputs": [],
   "source": [
    "@timer\n",
    "def prove(prob, prnt=False):\n",
    "    if prnt:\n",
    "        print(\"\\nPremises\")\n",
    "        print(formulas(prob.premises))\n",
    "    print(f\"\\nConjecture: {str(prob.conjecture.formula)}\")\n",
    "    p = hop.prove(prob)\n",
    "    if p:\n",
    "        print(\"Proof found!\")\n",
    "        if prnt:\n",
    "            for i in p.steps:\n",
    "                print(i)\n",
    "        else:\n",
    "            print(f'Steps required: {len(p.steps)}')\n",
    "        return p\n",
    "    else:\n",
    "        print(\"No proof found\")\n",
    "    print('\\n')\n",
    "\n",
    "@timer\n",
    "def prove2(prob, prnt=False):\n",
    "    if prnt:\n",
    "        print(\"Premises\")\n",
    "        print(formulas(prob.premises))\n",
    "    print(f\"\\nConjecture: {str(prob.conjecture.formula)}\")\n",
    "    p = h2.prove(prob)\n",
    "    if p:\n",
    "        print(\"Proof found!\")\n",
    "        if prnt:\n",
    "            for i in p.steps:\n",
    "                print(i.formula)\n",
    "        else:\n",
    "            print(f'Steps required: {len(p.steps)}')\n",
    "        return p\n",
    "    else:\n",
    "        print(\"No proof found\")\n",
    "    print('\\n')"
   ]
  },
  {
   "cell_type": "code",
   "execution_count": 890,
   "metadata": {
    "scrolled": true
   },
   "outputs": [
    {
     "name": "stdout",
     "output_type": "stream",
     "text": [
      "\n",
      "Premises\n",
      "['(p(a)) => (q(a))', '(q(a)) => ($false)', '($true) => (p(a))']\n",
      "\n",
      "Conjecture: $false\n",
      "Proof found!\n",
      "{'$true'}\n",
      "{'p(a)'}\n",
      "{'q(a)'}\n",
      "{'$false'}\n",
      "Finished 'prove' in 0.0015 secs\n",
      "\n",
      "Premises\n",
      "['((p(a)) & ((p(b)) & (p(d)))) => ($false)', '(p(e)) => ($false)', '(p(c)) => (p(a))', '(p(c)) => ($false)', '(p(a)) => (p(d))']\n",
      "\n",
      "Conjecture: $false\n",
      "No proof found\n",
      "\n",
      "\n",
      "Finished 'prove' in 0.0003 secs\n",
      "\n",
      "Premises\n",
      "['((p(e)) & ((p(b)) & (p(d)))) => ($false)', '(p(e)) => (p(d))', '($true) => (p(f))', '(p(a)) => ($false)', '(p(c)) => (p(e))', '($true) => (p(c))']\n",
      "\n",
      "Conjecture: $false\n",
      "No proof found\n",
      "\n",
      "\n",
      "Finished 'prove' in 0.0018 secs\n",
      "\n",
      "Premises\n",
      "['((p(e)) & ((p(b)) & (p(d)))) => ($false)', '(p(e)) => (p(d))', '($true) => (p(b))', '(p(a)) => ($false)', '(p(c)) => (p(e))', '($true) => (p(c))']\n",
      "\n",
      "Conjecture: $false\n",
      "Proof found!\n",
      "{'$true'}\n",
      "{'p(b)', 'p(c)'}\n",
      "{'p(e)'}\n",
      "{'p(d)'}\n",
      "{'$false'}\n",
      "Finished 'prove' in 0.0013 secs\n",
      "\n",
      "Premises\n",
      "['($true) => ((a) = (b))', '($true) => (p(a))', '(p(b)) => ($false)']\n",
      "\n",
      "Conjecture: $false\n",
      "Proof found!\n",
      "{'$true'}\n",
      "{'(a) = (b)', 'p(a)'}\n",
      "{'$false'}\n",
      "Finished 'prove' in 0.0003 secs\n",
      "\n",
      "Premises\n",
      "['($true) => ((a) = (d))', '($true) => (p(g(f(a), b)))', '($true) => ((f(d)) = (b))', '($true) => ((g(b, b)) = (c))', '(p(c)) => ($false)']\n",
      "\n",
      "Conjecture: $false\n",
      "Proof found!\n",
      "{'$true'}\n",
      "{'(f(d)) = (b)', 'p(g(f(a), b))', '(a) = (d)', '(g(b, b)) = (c)'}\n",
      "{'$false'}\n",
      "Finished 'prove' in 0.0021 secs\n",
      "\n",
      "Premises\n",
      "['((p(e)) & ((p(b)) & (p(d)))) => ($false)', '(p(e)) => (p(d))', '($true) => (p(f))', '(p(a)) => ($false)', '(p(c)) => (p(e))', '($true) => (p(c))', '($true) => ((f) = (b))']\n",
      "\n",
      "Conjecture: $false\n",
      "Proof found!\n",
      "{'$true'}\n",
      "{'(f) = (b)', 'p(c)', 'p(f)'}\n",
      "{'p(e)'}\n",
      "{'p(d)'}\n",
      "{'$false'}\n",
      "Finished 'prove' in 0.0011 secs\n"
     ]
    }
   ],
   "source": [
    "for prob in [p1, p2, p3, p4, p12, p22, p32]:\n",
    "    prove(prob, True)"
   ]
  },
  {
   "cell_type": "code",
   "execution_count": 758,
   "metadata": {
    "scrolled": true
   },
   "outputs": [],
   "source": [
    "big = read_prob(open('big.p').readlines())"
   ]
  },
  {
   "cell_type": "code",
   "execution_count": 27,
   "metadata": {},
   "outputs": [],
   "source": [
    "from gavel.logic.logic import LogicElement\n",
    "from itertools import chain\n",
    "from typing import List, Dict\n",
    "from gavel.logic.problem import Problem"
   ]
  },
  {
   "cell_type": "code",
   "execution_count": 28,
   "metadata": {},
   "outputs": [],
   "source": [
    "def occurrences(prob): # O(n)\n",
    "    total = {}\n",
    "    pos = {}\n",
    "    for i, p in enumerate(prob.premises):\n",
    "        s = appear(p.formula)\n",
    "        for x in s:\n",
    "            if x in total:\n",
    "                total[x] += 1\n",
    "                pos[x].add(i)\n",
    "            else:\n",
    "                total[x] = 1\n",
    "                pos[x] = {i}\n",
    "            \n",
    "    return total#, pos\n",
    "\n",
    "def appear(f): # O(k), where k is the average ammount of symbols per premise (so constant)\n",
    "    if type(f) in ATOMS:\n",
    "        return {st(f)}\n",
    "    \n",
    "    if type(f) == BinaryFormula:\n",
    "        s = appear(f.left)\n",
    "        s.update(appear(f.right))\n",
    "        return s\n",
    "    #print(type(f))\n",
    "    if type(f) == FunctorExpression:\n",
    "        s = {str(f.functor)}\n",
    "    else:\n",
    "        s = {str(f.predicate)}\n",
    "    for i in f.arguments:\n",
    "        s.update(appear(i))\n",
    "    return s\n",
    "\n",
    "def trigger_dict(prob, occ, tolerance, gen_thresh): #O(n)\n",
    "    t = {}\n",
    "    for i, p in enumerate(prob.premises):\n",
    "        s = appear(p.formula)\n",
    "        for x in s:\n",
    "            if x not in t:\n",
    "                t[x] = set()\n",
    "            if occ[x] <= gen_thresh or all([occ[x] <= tolerance*occ[y] for y in s-{x}]):\n",
    "                t[x].add(i)\n",
    "    return t"
   ]
  },
  {
   "cell_type": "code",
   "execution_count": 29,
   "metadata": {},
   "outputs": [],
   "source": [
    "arst = None\n",
    "class Sine(Selector): # O(n) + O(n) = O(n)\n",
    "    def select(self, problem, tolerance=1, depth=None, gen_thresh=1):\n",
    "        occ = occurrences(problem) # O(n)\n",
    "        t = trigger_dict(problem, occ, tolerance, gen_thresh)\n",
    "        s = {}\n",
    "        return Problem(premises=self.calculate_triggers(problem, t, depth), conjecture=problem.conjecture), t, occ\n",
    "\n",
    "    def calculate_triggers(self, problem, trig, depth):\n",
    "        k_triggered = appear(problem.conjecture.formula)\n",
    "        remaining = problem.premises.copy()\n",
    "        used = set()\n",
    "        k = 0\n",
    "        ans = set()\n",
    "        while k_triggered and (depth is None or k < depth):\n",
    "            k += 1\n",
    "            untriggered = []\n",
    "            new = set()\n",
    "            for i, p in enumerate(remaining):\n",
    "                s = appear(p.formula)\n",
    "                if any(i in trig[x] for x in k_triggered):\n",
    "                    #print(f'i: {i}, s: {s}')\n",
    "                    new.update(appear(p.formula))\n",
    "                    ans.add(i)\n",
    "                else:\n",
    "                    untriggered.append(p)\n",
    "            remaining = untriggered.copy()\n",
    "            used.update(k_triggered)\n",
    "            k_triggered = new-used\n",
    "        global arst\n",
    "        arst = untriggered\n",
    "        return [problem.premises[i] for i in ans]\n"
   ]
  },
  {
   "cell_type": "code",
   "execution_count": 30,
   "metadata": {},
   "outputs": [],
   "source": [
    "s = Sine()"
   ]
  },
  {
   "cell_type": "code",
   "execution_count": 31,
   "metadata": {},
   "outputs": [],
   "source": [
    "prob, t, occ = s.select(big, depth=2, gen_thresh=1000)"
   ]
  },
  {
   "cell_type": "code",
   "execution_count": 32,
   "metadata": {},
   "outputs": [
    {
     "data": {
      "text/plain": [
       "set()"
      ]
     },
     "execution_count": 32,
     "metadata": {},
     "output_type": "execute_result"
    }
   ],
   "source": [
    "t['q']"
   ]
  },
  {
   "cell_type": "code",
   "execution_count": 33,
   "metadata": {},
   "outputs": [
    {
     "data": {
      "text/plain": [
       "['((p(e)) & ((p(b)) & (p(d)))) => ($false)',\n",
       " '(p(e)) => (p(d))',\n",
       " '($true) => (p(b))',\n",
       " '(p(a)) => ($false)']"
      ]
     },
     "execution_count": 33,
     "metadata": {},
     "output_type": "execute_result"
    }
   ],
   "source": [
    "formulas(prob.premises)"
   ]
  },
  {
   "cell_type": "code",
   "execution_count": 34,
   "metadata": {
    "scrolled": true
   },
   "outputs": [
    {
     "data": {
      "text/plain": [
       "'p'"
      ]
     },
     "execution_count": 34,
     "metadata": {},
     "output_type": "execute_result"
    }
   ],
   "source": [
    "str(arst[0].formula.left.predicate)"
   ]
  },
  {
   "cell_type": "code",
   "execution_count": 35,
   "metadata": {
    "scrolled": true
   },
   "outputs": [
    {
     "data": {
      "text/plain": [
       "False"
      ]
     },
     "execution_count": 35,
     "metadata": {},
     "output_type": "execute_result"
    }
   ],
   "source": [
    "all('x1' in appear(i.formula) for i in arst)"
   ]
  },
  {
   "cell_type": "code",
   "execution_count": 36,
   "metadata": {},
   "outputs": [
    {
     "data": {
      "text/plain": [
       "'($true) => (p(c))'"
      ]
     },
     "execution_count": 36,
     "metadata": {},
     "output_type": "execute_result"
    }
   ],
   "source": [
    "formulas(big.premises[10005])"
   ]
  },
  {
   "cell_type": "code",
   "execution_count": 37,
   "metadata": {
    "scrolled": false
   },
   "outputs": [
    {
     "data": {
      "text/plain": [
       "4"
      ]
     },
     "execution_count": 37,
     "metadata": {},
     "output_type": "execute_result"
    }
   ],
   "source": [
    "len(prob.premises)"
   ]
  },
  {
   "cell_type": "code",
   "execution_count": 38,
   "metadata": {},
   "outputs": [
    {
     "name": "stdout",
     "output_type": "stream",
     "text": [
      "\n",
      "Conjecture: $false\n",
      "No proof found\n",
      "\n",
      "\n",
      "Finished 'prove' in 0.0009 secs\n"
     ]
    }
   ],
   "source": [
    "prove(prob)"
   ]
  },
  {
   "cell_type": "code",
   "execution_count": 39,
   "metadata": {},
   "outputs": [
    {
     "name": "stdout",
     "output_type": "stream",
     "text": [
      "\n",
      "Conjecture: $false\n",
      "No proof found\n",
      "\n",
      "\n",
      "Finished 'prove2' in 0.0003 secs\n"
     ]
    }
   ],
   "source": [
    "prove2(big)"
   ]
  },
  {
   "cell_type": "code",
   "execution_count": 40,
   "metadata": {
    "scrolled": false
   },
   "outputs": [
    {
     "data": {
      "text/plain": [
       "['($true) => (q(x1, x3))',\n",
       " '(q(z5, z3)) => (q(f(z3, x0), y9))',\n",
       " '($true) => (q(y1, y2))',\n",
       " '(q(x5, x1)) => (p(z5))',\n",
       " '((p(e)) & ((p(b)) & (p(d)))) => ($false)',\n",
       " '(p(e)) => (p(d))',\n",
       " '($true) => (p(b))',\n",
       " '(p(a)) => ($false)',\n",
       " '(p(c)) => (p(e))',\n",
       " '($true) => (p(c))']"
      ]
     },
     "execution_count": 40,
     "metadata": {},
     "output_type": "execute_result"
    }
   ],
   "source": [
    "formulas(big.premises[-10:])"
   ]
  },
  {
   "cell_type": "code",
   "execution_count": 670,
   "metadata": {},
   "outputs": [],
   "source": [
    "from itertools import chain\n",
    "from typing import List, Dict\n",
    "\n",
    "from gavel.logic.logic import LogicElement\n",
    "from gavel.logic.problem import Problem"
   ]
  },
  {
   "cell_type": "code",
   "execution_count": 658,
   "metadata": {},
   "outputs": [
    {
     "data": {
      "text/plain": [
       "True"
      ]
     },
     "execution_count": 658,
     "metadata": {},
     "output_type": "execute_result"
    }
   ],
   "source": [
    "all(i.role for i in p2.premises)"
   ]
  },
  {
   "cell_type": "code",
   "execution_count": null,
   "metadata": {},
   "outputs": [],
   "source": []
  },
  {
   "cell_type": "code",
   "execution_count": null,
   "metadata": {},
   "outputs": [],
   "source": []
  },
  {
   "cell_type": "code",
   "execution_count": 220,
   "metadata": {},
   "outputs": [],
   "source": [
    "class Sine(Selector):\n",
    "    \n",
    "    def select(self, problem, max_depth=10):\n",
    "        symbols = set(\n",
    "            chain(smbls(problem.conjecture), *(smbls(p) for p in problem.premises))\n",
    "        )\n",
    "        premise_symbols = {p.name: set(smbls(p)) for p in problem.premises}\n",
    "        commonness = {\n",
    "            s: sum(1 for ps in premise_symbols.values() if s in ps)\n",
    "            for s in symbols\n",
    "        }\n",
    "        \n",
    "        print(symbols)\n",
    "        print(premise_symbols)\n",
    "\n",
    "        return Problem(\n",
    "            premises=list(self.calculate_triggers(problem, premise_symbols, commonness, max_depth)),\n",
    "            conjecture=problem.conjecture)\n",
    "\n",
    "    def trigger(self, symbol, sentence: LogicElement, commonness: Dict[str, int]) -> bool:\n",
    "        return symbol in smbls(sentence) and all(\n",
    "            commonness[symbol] <= commonness[symbol2]\n",
    "            for symbol2 in sentence.symbols()\n",
    "        )\n",
    "\n",
    "    def calculate_triggers(self, problem: Problem, premise_symbols, commonness, max_depth):\n",
    "        remaining_premises = list(problem.premises)\n",
    "        k_triggered_symbols = set(smbls(problem.conjecture))\n",
    "        used_symbols = set()\n",
    "        k = 0\n",
    "        while k_triggered_symbols and k < max_depth:\n",
    "            k += 1\n",
    "            untriggered_premises = []\n",
    "            newer_symbols = set()\n",
    "            for p in remaining_premises:\n",
    "                p_symbs = premise_symbols[p.name]\n",
    "                # If s is k-step triggered and s triggers A, then A is k + 1-step triggered\n",
    "                if any(self.trigger(s, p, commonness) for s in k_triggered_symbols):\n",
    "                    newer_symbols = newer_symbols.union(p_symbs)\n",
    "                    yield p\n",
    "                else:\n",
    "                    untriggered_premises.append(p)\n",
    "            remaining_premises = untriggered_premises\n",
    "            used_symbols = used_symbols.union(k_triggered_symbols)\n",
    "            k_triggered_symbols = newer_symbols.difference(used_symbols)"
   ]
  },
  {
   "cell_type": "code",
   "execution_count": 226,
   "metadata": {},
   "outputs": [],
   "source": [
    "def smbls(p):\n",
    "    try:\n",
    "        return p.symbols()\n",
    "    except:\n",
    "        print(p.name)\n",
    "        return p.name"
   ]
  },
  {
   "cell_type": "code",
   "execution_count": 227,
   "metadata": {},
   "outputs": [],
   "source": [
    "fs = [str(p.formula) for p in p2.premises]"
   ]
  },
  {
   "cell_type": "code",
   "execution_count": 228,
   "metadata": {},
   "outputs": [
    {
     "data": {
      "text/plain": [
       "['((p(a)) & ((p(b)) & (p(d)))) => ($false)',\n",
       " '(p(e)) => ($false)',\n",
       " '(p(c)) => (p(a))',\n",
       " '(p(c)) => ($false)',\n",
       " '(p(a)) => (p(d))']"
      ]
     },
     "execution_count": 228,
     "metadata": {},
     "output_type": "execute_result"
    }
   ],
   "source": [
    "fs"
   ]
  },
  {
   "cell_type": "code",
   "execution_count": 229,
   "metadata": {},
   "outputs": [
    {
     "name": "stdout",
     "output_type": "stream",
     "text": [
      "\n",
      "\n",
      "\n",
      "\n"
     ]
    },
    {
     "ename": "TypeError",
     "evalue": "'AnnotatedFormula' object is not iterable",
     "output_type": "error",
     "traceback": [
      "\u001b[0;31m---------------------------------------------------------------------------\u001b[0m",
      "\u001b[0;31mTypeError\u001b[0m                                 Traceback (most recent call last)",
      "\u001b[0;32m<ipython-input-229-98787a360131>\u001b[0m in \u001b[0;36m<module>\u001b[0;34m\u001b[0m\n\u001b[1;32m      1\u001b[0m \u001b[0mselector\u001b[0m \u001b[0;34m=\u001b[0m \u001b[0mSine\u001b[0m\u001b[0;34m(\u001b[0m\u001b[0;34m)\u001b[0m\u001b[0;34m\u001b[0m\u001b[0;34m\u001b[0m\u001b[0m\n\u001b[0;32m----> 2\u001b[0;31m \u001b[0msmall_problem\u001b[0m \u001b[0;34m=\u001b[0m \u001b[0mselector\u001b[0m\u001b[0;34m.\u001b[0m\u001b[0mselect\u001b[0m\u001b[0;34m(\u001b[0m\u001b[0mp2\u001b[0m\u001b[0;34m)\u001b[0m\u001b[0;34m\u001b[0m\u001b[0;34m\u001b[0m\u001b[0m\n\u001b[0m\u001b[1;32m      3\u001b[0m \u001b[0mhop\u001b[0m\u001b[0;34m.\u001b[0m\u001b[0mprove\u001b[0m\u001b[0;34m(\u001b[0m\u001b[0msmall_problem\u001b[0m\u001b[0;34m)\u001b[0m\u001b[0;34m\u001b[0m\u001b[0;34m\u001b[0m\u001b[0m\n",
      "\u001b[0;32m<ipython-input-220-ef67472a47de>\u001b[0m in \u001b[0;36mselect\u001b[0;34m(self, problem, max_depth)\u001b[0m\n\u001b[1;32m      2\u001b[0m     \u001b[0;32mdef\u001b[0m \u001b[0mselect\u001b[0m\u001b[0;34m(\u001b[0m\u001b[0mself\u001b[0m\u001b[0;34m,\u001b[0m \u001b[0mproblem\u001b[0m\u001b[0;34m,\u001b[0m \u001b[0mmax_depth\u001b[0m\u001b[0;34m=\u001b[0m\u001b[0;36m10\u001b[0m\u001b[0;34m)\u001b[0m\u001b[0;34m:\u001b[0m\u001b[0;34m\u001b[0m\u001b[0;34m\u001b[0m\u001b[0m\n\u001b[1;32m      3\u001b[0m         symbols = set(\n\u001b[0;32m----> 4\u001b[0;31m             \u001b[0mchain\u001b[0m\u001b[0;34m(\u001b[0m\u001b[0msmbls\u001b[0m\u001b[0;34m(\u001b[0m\u001b[0mproblem\u001b[0m\u001b[0;34m.\u001b[0m\u001b[0mconjecture\u001b[0m\u001b[0;34m)\u001b[0m\u001b[0;34m,\u001b[0m \u001b[0;34m*\u001b[0m\u001b[0;34m(\u001b[0m\u001b[0msmbls\u001b[0m\u001b[0;34m(\u001b[0m\u001b[0mp\u001b[0m\u001b[0;34m)\u001b[0m \u001b[0;32mfor\u001b[0m \u001b[0mp\u001b[0m \u001b[0;32min\u001b[0m \u001b[0mproblem\u001b[0m\u001b[0;34m.\u001b[0m\u001b[0mpremises\u001b[0m\u001b[0;34m)\u001b[0m\u001b[0;34m)\u001b[0m\u001b[0;34m\u001b[0m\u001b[0;34m\u001b[0m\u001b[0m\n\u001b[0m\u001b[1;32m      5\u001b[0m         )\n\u001b[1;32m      6\u001b[0m         \u001b[0mpremise_symbols\u001b[0m \u001b[0;34m=\u001b[0m \u001b[0;34m{\u001b[0m\u001b[0mp\u001b[0m\u001b[0;34m.\u001b[0m\u001b[0mname\u001b[0m\u001b[0;34m:\u001b[0m \u001b[0mset\u001b[0m\u001b[0;34m(\u001b[0m\u001b[0msmbls\u001b[0m\u001b[0;34m(\u001b[0m\u001b[0mp\u001b[0m\u001b[0;34m)\u001b[0m\u001b[0;34m)\u001b[0m \u001b[0;32mfor\u001b[0m \u001b[0mp\u001b[0m \u001b[0;32min\u001b[0m \u001b[0mproblem\u001b[0m\u001b[0;34m.\u001b[0m\u001b[0mpremises\u001b[0m\u001b[0;34m}\u001b[0m\u001b[0;34m\u001b[0m\u001b[0;34m\u001b[0m\u001b[0m\n",
      "\u001b[0;31mTypeError\u001b[0m: 'AnnotatedFormula' object is not iterable"
     ]
    }
   ],
   "source": [
    "selector = Sine()\n",
    "small_problem = selector.select(p2)\n",
    "hop.prove(small_problem)"
   ]
  },
  {
   "cell_type": "code",
   "execution_count": 206,
   "metadata": {},
   "outputs": [
    {
     "data": {
      "text/plain": [
       "[]"
      ]
     },
     "execution_count": 206,
     "metadata": {},
     "output_type": "execute_result"
    }
   ],
   "source": [
    "small_problem.premises"
   ]
  },
  {
   "cell_type": "code",
   "execution_count": 207,
   "metadata": {},
   "outputs": [
    {
     "data": {
      "text/plain": [
       "[<gavel.logic.problem.AnnotatedFormula at 0x10e33fb00>,\n",
       " <gavel.logic.problem.AnnotatedFormula at 0x10e33f7f0>,\n",
       " <gavel.logic.problem.AnnotatedFormula at 0x10e33f8d0>,\n",
       " <gavel.logic.problem.AnnotatedFormula at 0x10e33f5f8>,\n",
       " <gavel.logic.problem.AnnotatedFormula at 0x10e33f2e8>]"
      ]
     },
     "execution_count": 207,
     "metadata": {},
     "output_type": "execute_result"
    }
   ],
   "source": [
    "p2.premises"
   ]
  },
  {
   "cell_type": "code",
   "execution_count": 51,
   "metadata": {},
   "outputs": [
    {
     "name": "stdout",
     "output_type": "stream",
     "text": [
      "Finished 'prove' in 20.8934 secs\n"
     ]
    },
    {
     "data": {
      "text/plain": [
       "<gavel.logic.proof.Proof at 0x11091fcf8>"
      ]
     },
     "execution_count": 51,
     "metadata": {},
     "output_type": "execute_result"
    }
   ],
   "source": [
    "prove(big)"
   ]
  },
  {
   "cell_type": "code",
   "execution_count": 52,
   "metadata": {
    "scrolled": true
   },
   "outputs": [
    {
     "name": "stdout",
     "output_type": "stream",
     "text": [
      "Finished 'prove2' in 20.6628 secs\n"
     ]
    },
    {
     "data": {
      "text/plain": [
       "<gavel.logic.proof.Proof at 0x1109d09b0>"
      ]
     },
     "execution_count": 52,
     "metadata": {},
     "output_type": "execute_result"
    }
   ],
   "source": [
    "prove2(big)"
   ]
  },
  {
   "cell_type": "code",
   "execution_count": 53,
   "metadata": {},
   "outputs": [
    {
     "name": "stdout",
     "output_type": "stream",
     "text": [
      "Finished 'prove' in 20.4444 secs\n"
     ]
    },
    {
     "data": {
      "text/plain": [
       "<gavel.logic.proof.Proof at 0x1109d0ba8>"
      ]
     },
     "execution_count": 53,
     "metadata": {},
     "output_type": "execute_result"
    }
   ],
   "source": [
    "prove(big)"
   ]
  },
  {
   "cell_type": "code",
   "execution_count": 54,
   "metadata": {},
   "outputs": [
    {
     "name": "stdout",
     "output_type": "stream",
     "text": [
      "Finished 'prove2' in 20.6582 secs\n"
     ]
    },
    {
     "data": {
      "text/plain": [
       "<gavel.logic.proof.Proof at 0x110a93668>"
      ]
     },
     "execution_count": 54,
     "metadata": {},
     "output_type": "execute_result"
    }
   ],
   "source": [
    "prove2(big)"
   ]
  },
  {
   "cell_type": "code",
   "execution_count": 42,
   "metadata": {},
   "outputs": [
    {
     "name": "stdout",
     "output_type": "stream",
     "text": [
      "$false\n"
     ]
    }
   ],
   "source": [
    "print(big.conjecture.formula)"
   ]
  },
  {
   "cell_type": "code",
   "execution_count": null,
   "metadata": {},
   "outputs": [],
   "source": [
    "big.conjecture"
   ]
  },
  {
   "cell_type": "code",
   "execution_count": 43,
   "metadata": {},
   "outputs": [
    {
     "data": {
      "text/plain": [
       "['($true) => (q(x1, x3))',\n",
       " '(q(z5, z3)) => (q(f(z3, x0), y9))',\n",
       " '($true) => (q(y1, y2))',\n",
       " '(q(x5, x1)) => (p(z5))',\n",
       " '((p(e)) & ((p(b)) & (p(d)))) => ($false)',\n",
       " '(p(e)) => (p(d))',\n",
       " '($true) => (p(b))',\n",
       " '(p(a)) => ($false)',\n",
       " '(p(c)) => (p(e))',\n",
       " '($true) => (p(c))']"
      ]
     },
     "execution_count": 43,
     "metadata": {},
     "output_type": "execute_result"
    }
   ],
   "source": [
    "formulas(big.premises[-10:])"
   ]
  },
  {
   "cell_type": "code",
   "execution_count": 580,
   "metadata": {},
   "outputs": [],
   "source": [
    "class dumb():\n",
    "    def __init__(self, i):\n",
    "        self.formula = i"
   ]
  },
  {
   "cell_type": "code",
   "execution_count": 1365,
   "metadata": {},
   "outputs": [],
   "source": [
    "class btSelector():\n",
    "    def __init__(self):\n",
    "        self.func = {}\n",
    "        self.equiv = {}\n",
    "        self.G = 0\n",
    "        self.remaining = None\n",
    "        self.premises = []\n",
    "        self.relevant = None\n",
    "        self.preds = {}\n",
    "        \n",
    "    def prepare(self, exp):\n",
    "        if type(exp) == Constant:\n",
    "            k = str(exp.symbol)\n",
    "            if k not in self.equiv:\n",
    "                self.equiv[k] = set(str(exp))\n",
    "            return\n",
    "        if type(exp) == DefinedConstant:\n",
    "            k = str(exp)\n",
    "            if k not in self.equiv:\n",
    "                self.equiv[k] = set([k])\n",
    "            return\n",
    "        if type(exp) == BinaryFormula:\n",
    "            self.prepare(exp.left)\n",
    "            self.prepare(exp.right)\n",
    "            return\n",
    "        if type(exp) in (PredicateExpression, FunctorExpression):\n",
    "            for i in exp.arguments:\n",
    "                self.prepare(i)\n",
    "    \n",
    "    def flatten(self, f):\n",
    "        if type(f) in ATOMS:\n",
    "            return st(f)\n",
    "\n",
    "        if all([type(i) in ATOMS for i in f.arguments]):\n",
    "            \n",
    "            \n",
    "            key = str(f.functor)\n",
    "            args = tuple([flatten(i) for i in f.arguments])\n",
    "            \n",
    "            if key not in self.func:   # new functor\n",
    "                self.func[key] = {}\n",
    "            \n",
    "            for tup in self.func[key]: # old functor, known equivalence class\n",
    "                assert len(args) == len(tup), f'Non matching lengths. functor:{key}, existing: {tup}, new: {arg_tuple}' \n",
    "                if all(args[i] in self.equiv[tup[i]] for i in range(len(tup))):\n",
    "                    return self.func[key][tup]\n",
    "                \n",
    "            const = f'K{self.G}'       # old functor, new equivalence class\n",
    "            self.func[key][args] = const\n",
    "            self.equiv[const] = set([const])\n",
    "            self.G += 1\n",
    "            return const\n",
    "\n",
    "        l = [self.flatten(i) for i in f.arguments]\n",
    "\n",
    "        return self.flatten(FunctorExpression(f.functor, l))\n",
    "    \n",
    "\n",
    "    def is_useful(self, right):\n",
    "        if type(right) == PredicateExpression:\n",
    "            p = str(right.predicate)\n",
    "            if p in self.preds:\n",
    "                v = tuple(self.flatten(i) for i in right.arguments)\n",
    "                for x in self.preds[p]:\n",
    "                    assert len(v) == len(x), f'Non matching lengths. v: {v}, x: {x}, p:{p}' \n",
    "                    if all(v[i] in self.equiv[x[i]] for i in range(len(v))):\n",
    "                        \n",
    "                        for arg in right.arguments:\n",
    "                            print(arg, flatten(arg))\n",
    "                            self.relevant.add(flatten(arg))\n",
    "                        print('added predicate')\n",
    "                        return True\n",
    "            return False\n",
    "        elif type(right) == BinaryFormula:\n",
    "            if right.operator == BinaryConnective.EQ:\n",
    "                return True\n",
    "            '''\n",
    "                l = flatten(right.left)\n",
    "                #print(l)\n",
    "                for k in self.preds:\n",
    "                    for tup in self.preds[k]:\n",
    "                        for i in tup:\n",
    "                            if l in self.equiv[i]:\n",
    "                                \n",
    "                                #if l in self.relevant or any(l in self.equiv[i] for k in self.preds for tup in self.preds[k] for i in tup):\n",
    "                                print(f'this worked: l:{l}, key:{i}, tup:{tup}, P:{k}')\n",
    "                                self.add_to_relevant(right)\n",
    "                                return True\n",
    "                r = flatten(right.right)\n",
    "                return r in self.relevant or any(r in self.equiv[i] for k in self.preds for tup in self.preds[k] for i in tup)\n",
    "            '''\n",
    "            elif right.operator == BinaryConnective.IMPLICATION:\n",
    "                return self.is_useful(right.right)\n",
    "        elif type(right) in [DefinedConstant, Constant]:\n",
    "            if len(self.equiv[st(right)].intersection(self.relevant)) > 0:\n",
    "                print('added ct')\n",
    "                return True\n",
    "            else:\n",
    "                print(self.equiv[st(right)].intersection(self.relevant))\n",
    "                return False\n",
    "        else:\n",
    "            print('use')\n",
    "            print(type(right))\n",
    "\n",
    "    def add_to_relevant(self, left):\n",
    "        if type(left) == BinaryFormula:\n",
    "            self.add_to_relevant(left.left)\n",
    "            self.add_to_relevant(left.right)\n",
    "        elif type(left) == PredicateExpression:\n",
    "            k = str(left.predicate)\n",
    "            if k not in self.preds:\n",
    "                self.preds[k] = set()\n",
    "            v = tuple(self.flatten(i) for i in left.arguments)\n",
    "            self.preds[k].add(v)\n",
    "        elif type(left) in [DefinedConstant]:\n",
    "            pass\n",
    "        elif type(left) in [Constant, FunctorExpression]:\n",
    "            #self.relevant.add(flatten(left))\n",
    "            pass\n",
    "        else:\n",
    "            print('rlv')\n",
    "            print(type(left))\n",
    "        \n",
    "    def iter_find_relevant(self):\n",
    "        rem = []\n",
    "        for p in self.remaining:\n",
    "            if self.is_useful(p.formula.right):\n",
    "                self.premises.append(p)\n",
    "                \n",
    "                self.add_to_relevant(p.formula.left)\n",
    "                \n",
    "            else:\n",
    "                rem.append(p)\n",
    "        self.remaining = rem\n",
    "                \n",
    "    def select(self, problem):\n",
    "        self.G = 0\n",
    "        self.func = {}\n",
    "        self.equiv = {}\n",
    "        self.remaining = problem.premises\n",
    "        self.premises = []\n",
    "        self.relevant = {self.flatten(problem.conjecture.formula)}\n",
    "        self.preds = {}\n",
    "        \n",
    "        for i in [p.formula for p in self.remaining]:\n",
    "            self.prepare(i)\n",
    "            if type(i.right) == BinaryFormula and i.right.operator == BinaryConnective.EQ:\n",
    "                l = self.flatten(i.right.left)\n",
    "                self.equiv[l] = self.equiv[self.flatten(i.right.right)]\n",
    "                self.equiv[l].add(l)\n",
    "        \n",
    "        for i in range(5):\n",
    "            #self.premises.append(dumb(i))\n",
    "            self.iter_find_relevant()\n",
    "        return self.premises"
   ]
  },
  {
   "cell_type": "code",
   "execution_count": 1366,
   "metadata": {},
   "outputs": [],
   "source": [
    "sel = btSelector()"
   ]
  },
  {
   "cell_type": "code",
   "execution_count": 1367,
   "metadata": {},
   "outputs": [],
   "source": [
    "# x = y\n",
    "xy = BinaryFormula(left=Constant('x'), operator=BinaryConnective.EQ, right=Constant('y'))\n",
    "testPrem = BinaryFormula(left=DefinedConstant.VERUM, operator=BinaryConnective.IMPLICATION, right=xy)"
   ]
  },
  {
   "cell_type": "code",
   "execution_count": 1368,
   "metadata": {},
   "outputs": [],
   "source": [
    "anfor = AnnotatedFormula(p22.premises[0].logic, formula=testPrem)\n",
    "test = Problem(premises=p22.premises+[anfor], conjecture=p22.conjecture)"
   ]
  },
  {
   "cell_type": "code",
   "execution_count": 1369,
   "metadata": {},
   "outputs": [
    {
     "data": {
      "text/plain": [
       "['($true) => ((a) = (d))',\n",
       " '($true) => (p(g(f(a), b)))',\n",
       " '($true) => ((f(d)) = (b))',\n",
       " '($true) => ((g(b, b)) = (c))',\n",
       " '(p(c)) => ($false)',\n",
       " '($true) => ((x) = (y))']"
      ]
     },
     "execution_count": 1369,
     "metadata": {},
     "output_type": "execute_result"
    }
   ],
   "source": [
    "formulas(test.premises)"
   ]
  },
  {
   "cell_type": "code",
   "execution_count": 1370,
   "metadata": {
    "scrolled": false
   },
   "outputs": [
    {
     "name": "stdout",
     "output_type": "stream",
     "text": [
      "added ct\n",
      "g(f(a), b) K3\n",
      "added predicate\n",
      "this worked: l:K1, key:c, tup:('c',), P:p\n"
     ]
    },
    {
     "data": {
      "text/plain": [
       "['(p(c)) => ($false)',\n",
       " '($true) => (p(g(f(a), b)))',\n",
       " '($true) => ((g(b, b)) = (c))']"
      ]
     },
     "execution_count": 1370,
     "metadata": {},
     "output_type": "execute_result"
    }
   ],
   "source": [
    "formulas(sel.select(test))"
   ]
  },
  {
   "cell_type": "code",
   "execution_count": 1371,
   "metadata": {},
   "outputs": [
    {
     "data": {
      "text/plain": [
       "{'$false', 'K3'}"
      ]
     },
     "execution_count": 1371,
     "metadata": {},
     "output_type": "execute_result"
    }
   ],
   "source": [
    "sel.relevant"
   ]
  },
  {
   "cell_type": "code",
   "execution_count": 1372,
   "metadata": {
    "scrolled": true
   },
   "outputs": [
    {
     "data": {
      "text/plain": [
       "{'p': {('c',)}}"
      ]
     },
     "execution_count": 1372,
     "metadata": {},
     "output_type": "execute_result"
    }
   ],
   "source": [
    "sel.preds"
   ]
  },
  {
   "cell_type": "code",
   "execution_count": 1376,
   "metadata": {
    "scrolled": true
   },
   "outputs": [
    {
     "data": {
      "text/plain": [
       "'K1'"
      ]
     },
     "execution_count": 1376,
     "metadata": {},
     "output_type": "execute_result"
    }
   ],
   "source": [
    "sel.flatten(test.premises[1].formula.right.arguments[0])"
   ]
  },
  {
   "cell_type": "code",
   "execution_count": 1377,
   "metadata": {},
   "outputs": [
    {
     "data": {
      "text/plain": [
       "{'$true': {'$true'},\n",
       " 'a': {'a', 'd'},\n",
       " 'd': {'a', 'd'},\n",
       " 'b': {'K0', 'b'},\n",
       " 'K0': {'K0', 'b'},\n",
       " 'c': {'K1', 'c'},\n",
       " 'K1': {'K1', 'c'},\n",
       " '$false': {'$false'},\n",
       " 'x': {'x', 'y'},\n",
       " 'y': {'x', 'y'}}"
      ]
     },
     "execution_count": 1377,
     "metadata": {},
     "output_type": "execute_result"
    }
   ],
   "source": [
    "sel.equiv"
   ]
  },
  {
   "cell_type": "code",
   "execution_count": 1378,
   "metadata": {},
   "outputs": [
    {
     "data": {
      "text/plain": [
       "{'f': {('d',): 'K0'}, 'g': {('b', 'b'): 'K1'}}"
      ]
     },
     "execution_count": 1378,
     "metadata": {},
     "output_type": "execute_result"
    }
   ],
   "source": [
    "sel.func"
   ]
  },
  {
   "cell_type": "code",
   "execution_count": 1218,
   "metadata": {},
   "outputs": [
    {
     "name": "stdout",
     "output_type": "stream",
     "text": [
      "this worked: K1, c, ('c',), p\n",
      "rlv\n",
      "<class 'gavel.logic.logic.FunctorExpression'>\n",
      "rlv\n",
      "<class 'gavel.logic.logic.Constant'>\n",
      "\n",
      "Conjecture: $false\n",
      "No proof found\n",
      "\n",
      "\n",
      "Finished 'prove' in 0.0003 secs\n"
     ]
    }
   ],
   "source": [
    "prove(Problem(premises=sel.select(test), conjecture=p1.conjecture))"
   ]
  },
  {
   "cell_type": "code",
   "execution_count": null,
   "metadata": {},
   "outputs": [],
   "source": []
  },
  {
   "cell_type": "code",
   "execution_count": 1047,
   "metadata": {},
   "outputs": [],
   "source": [
    "prob = big\n",
    "#prob = Problem(premises=test, conjecture=p1.conjecture)"
   ]
  },
  {
   "cell_type": "code",
   "execution_count": 1048,
   "metadata": {
    "scrolled": true
   },
   "outputs": [],
   "source": [
    "ans = sel.select(prob)"
   ]
  },
  {
   "cell_type": "code",
   "execution_count": 1049,
   "metadata": {
    "scrolled": true
   },
   "outputs": [
    {
     "data": {
      "text/plain": [
       "{'$false'}"
      ]
     },
     "execution_count": 1049,
     "metadata": {},
     "output_type": "execute_result"
    }
   ],
   "source": [
    "sel.relevant"
   ]
  },
  {
   "cell_type": "code",
   "execution_count": 1050,
   "metadata": {
    "scrolled": false
   },
   "outputs": [
    {
     "data": {
      "text/plain": [
       "{'p': {('a',), ('b',), ('c',), ('d',), ('e',)}}"
      ]
     },
     "execution_count": 1050,
     "metadata": {},
     "output_type": "execute_result"
    }
   ],
   "source": [
    "sel.preds"
   ]
  },
  {
   "cell_type": "code",
   "execution_count": 1093,
   "metadata": {
    "scrolled": true
   },
   "outputs": [
    {
     "data": {
      "text/plain": [
       "['((p(e)) & ((p(b)) & (p(d)))) => ($false)',\n",
       " '(p(e)) => (p(d))',\n",
       " '($true) => (p(b))',\n",
       " '(p(a)) => ($false)',\n",
       " '(p(c)) => (p(e))',\n",
       " '($true) => (p(c))']"
      ]
     },
     "execution_count": 1093,
     "metadata": {},
     "output_type": "execute_result"
    }
   ],
   "source": [
    "[str(i.formula) for i in ans]"
   ]
  },
  {
   "cell_type": "code",
   "execution_count": 1103,
   "metadata": {
    "scrolled": true
   },
   "outputs": [
    {
     "name": "stdout",
     "output_type": "stream",
     "text": [
      "\n",
      "Conjecture: $false\n",
      "Proof found!\n",
      "Steps required: 5\n",
      "Finished 'prove' in 0.0009 secs\n"
     ]
    },
    {
     "data": {
      "text/plain": [
       "<gavel.logic.proof.Proof at 0x10ca44470>"
      ]
     },
     "execution_count": 1103,
     "metadata": {},
     "output_type": "execute_result"
    }
   ],
   "source": [
    "\n",
    "prove(test)"
   ]
  },
  {
   "cell_type": "code",
   "execution_count": 1102,
   "metadata": {},
   "outputs": [],
   "source": [
    "test = Problem(premises=ans, conjecture=p1.conjecture)"
   ]
  },
  {
   "cell_type": "code",
   "execution_count": 1105,
   "metadata": {
    "scrolled": true
   },
   "outputs": [
    {
     "data": {
      "text/plain": [
       "['($true) => ((a) = (d))',\n",
       " '($true) => (p(g(f(a), b)))',\n",
       " '($true) => ((f(d)) = (b))',\n",
       " '($true) => ((g(b, b)) = (c))',\n",
       " '(p(c)) => ($false)',\n",
       " '($true) => ((x) = (y))']"
      ]
     },
     "execution_count": 1105,
     "metadata": {},
     "output_type": "execute_result"
    }
   ],
   "source": [
    "formulas(test.premises)"
   ]
  },
  {
   "cell_type": "code",
   "execution_count": 1120,
   "metadata": {
    "scrolled": true
   },
   "outputs": [
    {
     "name": "stdout",
     "output_type": "stream",
     "text": [
      "True &\n",
      "True |\n",
      "False <=>\n",
      "False =>\n",
      "False <=\n",
      "False <~>\n",
      "False ~&\n",
      "False ~|\n",
      "True =\n",
      "False !=\n",
      "False @\n",
      "False *\n",
      "False +\n",
      "False -->\n",
      "False :=\n",
      "False >\n"
     ]
    }
   ],
   "source": [
    "for i in BinaryConnective:\n",
    "    print(i.is_associative(), repr(i))"
   ]
  },
  {
   "cell_type": "code",
   "execution_count": 1106,
   "metadata": {
    "scrolled": true
   },
   "outputs": [
    {
     "data": {
      "text/plain": [
       "{}"
      ]
     },
     "execution_count": 1106,
     "metadata": {},
     "output_type": "execute_result"
    }
   ],
   "source": [
    "sel.preds"
   ]
  },
  {
   "cell_type": "code",
   "execution_count": 1118,
   "metadata": {},
   "outputs": [
    {
     "data": {
      "text/plain": [
       "{'p': {('c',)}}"
      ]
     },
     "execution_count": 1118,
     "metadata": {},
     "output_type": "execute_result"
    }
   ],
   "source": [
    "sel.preds"
   ]
  },
  {
   "cell_type": "code",
   "execution_count": 1069,
   "metadata": {},
   "outputs": [
    {
     "data": {
      "text/plain": [
       "<gavel.logic.problem.AnnotatedFormula at 0x1080c1f98>"
      ]
     },
     "execution_count": 1069,
     "metadata": {},
     "output_type": "execute_result"
    }
   ],
   "source": [
    "p22.premises[0]"
   ]
  },
  {
   "cell_type": "code",
   "execution_count": 1012,
   "metadata": {},
   "outputs": [
    {
     "ename": "FileNotFoundError",
     "evalue": "[Errno 2] No such file or directory: 'TPTP-v7.3.0/AGT001+0.ax'",
     "output_type": "error",
     "traceback": [
      "\u001b[0;31m---------------------------------------------------------------------------\u001b[0m",
      "\u001b[0;31mFileNotFoundError\u001b[0m                         Traceback (most recent call last)",
      "\u001b[0;32m<ipython-input-1012-6de8be8e3313>\u001b[0m in \u001b[0;36m<module>\u001b[0;34m\u001b[0m\n\u001b[0;32m----> 1\u001b[0;31m \u001b[0mtest\u001b[0m \u001b[0;34m=\u001b[0m \u001b[0mread_prob\u001b[0m\u001b[0;34m(\u001b[0m\u001b[0mopen\u001b[0m\u001b[0;34m(\u001b[0m\u001b[0;34m'TPTP-v7.3.0/AGT001+0.ax'\u001b[0m\u001b[0;34m,\u001b[0m \u001b[0;34m'r'\u001b[0m\u001b[0;34m)\u001b[0m\u001b[0;34m.\u001b[0m\u001b[0mreadlines\u001b[0m\u001b[0;34m(\u001b[0m\u001b[0;34m)\u001b[0m\u001b[0;34m)\u001b[0m\u001b[0;34m\u001b[0m\u001b[0;34m\u001b[0m\u001b[0m\n\u001b[0m",
      "\u001b[0;31mFileNotFoundError\u001b[0m: [Errno 2] No such file or directory: 'TPTP-v7.3.0/AGT001+0.ax'"
     ]
    }
   ],
   "source": [
    "test = read_prob(open('./TPTP-v7.3.0/AGT001+0.ax', 'r').readlines())"
   ]
  },
  {
   "cell_type": "code",
   "execution_count": null,
   "metadata": {},
   "outputs": [],
   "source": []
  },
  {
   "cell_type": "code",
   "execution_count": 1042,
   "metadata": {},
   "outputs": [],
   "source": [
    "sol = HornSolver()"
   ]
  },
  {
   "cell_type": "code",
   "execution_count": 1043,
   "metadata": {
    "scrolled": true
   },
   "outputs": [
    {
     "ename": "KeyboardInterrupt",
     "evalue": "",
     "output_type": "error",
     "traceback": [
      "\u001b[0;31m---------------------------------------------------------------------------\u001b[0m",
      "\u001b[0;31mKeyboardInterrupt\u001b[0m                         Traceback (most recent call last)",
      "\u001b[0;32m<ipython-input-1043-3afa37dc111d>\u001b[0m in \u001b[0;36m<module>\u001b[0;34m\u001b[0m\n\u001b[0;32m----> 1\u001b[0;31m \u001b[0msol\u001b[0m\u001b[0;34m.\u001b[0m\u001b[0mprove\u001b[0m\u001b[0;34m(\u001b[0m\u001b[0mbig\u001b[0m\u001b[0;34m)\u001b[0m\u001b[0;34m\u001b[0m\u001b[0;34m\u001b[0m\u001b[0m\n\u001b[0m",
      "\u001b[0;32m<ipython-input-975-0d7961a0011b>\u001b[0m in \u001b[0;36mprove\u001b[0;34m(self, problem, *args, **kwargs)\u001b[0m\n\u001b[1;32m    117\u001b[0m                         \u001b[0;32mfor\u001b[0m \u001b[0mx\u001b[0m \u001b[0;32min\u001b[0m \u001b[0mself\u001b[0m\u001b[0;34m.\u001b[0m\u001b[0mpreds\u001b[0m\u001b[0;34m[\u001b[0m\u001b[0mp\u001b[0m\u001b[0;34m]\u001b[0m\u001b[0;34m:\u001b[0m\u001b[0;34m\u001b[0m\u001b[0;34m\u001b[0m\u001b[0m\n\u001b[1;32m    118\u001b[0m                             \u001b[0;32massert\u001b[0m \u001b[0mlen\u001b[0m\u001b[0;34m(\u001b[0m\u001b[0mv\u001b[0m\u001b[0;34m)\u001b[0m \u001b[0;34m==\u001b[0m \u001b[0mlen\u001b[0m\u001b[0;34m(\u001b[0m\u001b[0mx\u001b[0m\u001b[0;34m)\u001b[0m\u001b[0;34m,\u001b[0m \u001b[0;34mf'Non matching lengths. v: {v}, x: {x}, p:{p}'\u001b[0m\u001b[0;34m\u001b[0m\u001b[0;34m\u001b[0m\u001b[0m\n\u001b[0;32m--> 119\u001b[0;31m                             \u001b[0;32mif\u001b[0m \u001b[0mall\u001b[0m\u001b[0;34m(\u001b[0m\u001b[0mv\u001b[0m\u001b[0;34m[\u001b[0m\u001b[0mi\u001b[0m\u001b[0;34m]\u001b[0m \u001b[0;32min\u001b[0m \u001b[0mself\u001b[0m\u001b[0;34m.\u001b[0m\u001b[0mequiv\u001b[0m\u001b[0;34m[\u001b[0m\u001b[0mx\u001b[0m\u001b[0;34m[\u001b[0m\u001b[0mi\u001b[0m\u001b[0;34m]\u001b[0m\u001b[0;34m]\u001b[0m \u001b[0;32mfor\u001b[0m \u001b[0mi\u001b[0m \u001b[0;32min\u001b[0m \u001b[0mrange\u001b[0m\u001b[0;34m(\u001b[0m\u001b[0mlen\u001b[0m\u001b[0;34m(\u001b[0m\u001b[0mv\u001b[0m\u001b[0;34m)\u001b[0m\u001b[0;34m)\u001b[0m\u001b[0;34m)\u001b[0m\u001b[0;34m:\u001b[0m\u001b[0;34m\u001b[0m\u001b[0;34m\u001b[0m\u001b[0m\n\u001b[0m\u001b[1;32m    120\u001b[0m                                 \u001b[0;32mcontinue\u001b[0m\u001b[0;34m\u001b[0m\u001b[0;34m\u001b[0m\u001b[0m\n\u001b[1;32m    121\u001b[0m \u001b[0;34m\u001b[0m\u001b[0m\n",
      "\u001b[0;32m<ipython-input-975-0d7961a0011b>\u001b[0m in \u001b[0;36m<genexpr>\u001b[0;34m(.0)\u001b[0m\n\u001b[1;32m    117\u001b[0m                         \u001b[0;32mfor\u001b[0m \u001b[0mx\u001b[0m \u001b[0;32min\u001b[0m \u001b[0mself\u001b[0m\u001b[0;34m.\u001b[0m\u001b[0mpreds\u001b[0m\u001b[0;34m[\u001b[0m\u001b[0mp\u001b[0m\u001b[0;34m]\u001b[0m\u001b[0;34m:\u001b[0m\u001b[0;34m\u001b[0m\u001b[0;34m\u001b[0m\u001b[0m\n\u001b[1;32m    118\u001b[0m                             \u001b[0;32massert\u001b[0m \u001b[0mlen\u001b[0m\u001b[0;34m(\u001b[0m\u001b[0mv\u001b[0m\u001b[0;34m)\u001b[0m \u001b[0;34m==\u001b[0m \u001b[0mlen\u001b[0m\u001b[0;34m(\u001b[0m\u001b[0mx\u001b[0m\u001b[0;34m)\u001b[0m\u001b[0;34m,\u001b[0m \u001b[0;34mf'Non matching lengths. v: {v}, x: {x}, p:{p}'\u001b[0m\u001b[0;34m\u001b[0m\u001b[0;34m\u001b[0m\u001b[0m\n\u001b[0;32m--> 119\u001b[0;31m                             \u001b[0;32mif\u001b[0m \u001b[0mall\u001b[0m\u001b[0;34m(\u001b[0m\u001b[0mv\u001b[0m\u001b[0;34m[\u001b[0m\u001b[0mi\u001b[0m\u001b[0;34m]\u001b[0m \u001b[0;32min\u001b[0m \u001b[0mself\u001b[0m\u001b[0;34m.\u001b[0m\u001b[0mequiv\u001b[0m\u001b[0;34m[\u001b[0m\u001b[0mx\u001b[0m\u001b[0;34m[\u001b[0m\u001b[0mi\u001b[0m\u001b[0;34m]\u001b[0m\u001b[0;34m]\u001b[0m \u001b[0;32mfor\u001b[0m \u001b[0mi\u001b[0m \u001b[0;32min\u001b[0m \u001b[0mrange\u001b[0m\u001b[0;34m(\u001b[0m\u001b[0mlen\u001b[0m\u001b[0;34m(\u001b[0m\u001b[0mv\u001b[0m\u001b[0;34m)\u001b[0m\u001b[0;34m)\u001b[0m\u001b[0;34m)\u001b[0m\u001b[0;34m:\u001b[0m\u001b[0;34m\u001b[0m\u001b[0;34m\u001b[0m\u001b[0m\n\u001b[0m\u001b[1;32m    120\u001b[0m                                 \u001b[0;32mcontinue\u001b[0m\u001b[0;34m\u001b[0m\u001b[0;34m\u001b[0m\u001b[0m\n\u001b[1;32m    121\u001b[0m \u001b[0;34m\u001b[0m\u001b[0m\n",
      "\u001b[0;31mKeyboardInterrupt\u001b[0m: "
     ]
    }
   ],
   "source": [
    "sol.prove(big)"
   ]
  },
  {
   "cell_type": "code",
   "execution_count": 1044,
   "metadata": {},
   "outputs": [
    {
     "data": {
      "text/plain": [
       "{'p': {('K1003',),\n",
       "  ('K1027',),\n",
       "  ('K1090',),\n",
       "  ('K1093',),\n",
       "  ('K1159',),\n",
       "  ('K118',),\n",
       "  ('K1191',),\n",
       "  ('K1227',),\n",
       "  ('K1239',),\n",
       "  ('K1256',),\n",
       "  ('K1283',),\n",
       "  ('K1370',),\n",
       "  ('K1374',),\n",
       "  ('K1381',),\n",
       "  ('K1455',),\n",
       "  ('K152',),\n",
       "  ('K16',),\n",
       "  ('K169',),\n",
       "  ('K183',),\n",
       "  ('K198',),\n",
       "  ('K20',),\n",
       "  ('K206',),\n",
       "  ('K263',),\n",
       "  ('K313',),\n",
       "  ('K351',),\n",
       "  ('K376',),\n",
       "  ('K411',),\n",
       "  ('K432',),\n",
       "  ('K490',),\n",
       "  ('K536',),\n",
       "  ('K651',),\n",
       "  ('K670',),\n",
       "  ('K691',),\n",
       "  ('K694',),\n",
       "  ('K7',),\n",
       "  ('K715',),\n",
       "  ('K73',),\n",
       "  ('K754',),\n",
       "  ('K787',),\n",
       "  ('K804',),\n",
       "  ('K811',),\n",
       "  ('K841',),\n",
       "  ('K91',),\n",
       "  ('K936',),\n",
       "  ('K956',),\n",
       "  ('K98',),\n",
       "  ('K998',),\n",
       "  ('x0',),\n",
       "  ('x1',),\n",
       "  ('x2',),\n",
       "  ('x3',),\n",
       "  ('x4',),\n",
       "  ('x5',),\n",
       "  ('x6',),\n",
       "  ('x7',),\n",
       "  ('x8',),\n",
       "  ('x9',),\n",
       "  ('y0',),\n",
       "  ('y1',),\n",
       "  ('y2',),\n",
       "  ('y3',),\n",
       "  ('y4',),\n",
       "  ('y5',),\n",
       "  ('y6',),\n",
       "  ('y7',),\n",
       "  ('y8',),\n",
       "  ('y9',),\n",
       "  ('z0',),\n",
       "  ('z1',),\n",
       "  ('z2',),\n",
       "  ('z3',),\n",
       "  ('z4',),\n",
       "  ('z5',),\n",
       "  ('z6',),\n",
       "  ('z7',),\n",
       "  ('z8',),\n",
       "  ('z9',)},\n",
       " 'q': {('K1033', 'z8'),\n",
       "  ('K1037', 'x7'),\n",
       "  ('K106', 'x4'),\n",
       "  ('K1086', 'y2'),\n",
       "  ('K1097', 'x6'),\n",
       "  ('K112', 'x3'),\n",
       "  ('K1137', 'x4'),\n",
       "  ('K125', 'y6'),\n",
       "  ('K1254', 'x1'),\n",
       "  ('K1262', 'z3'),\n",
       "  ('K1280', 'x1'),\n",
       "  ('K1292', 'x5'),\n",
       "  ('K131', 'x7'),\n",
       "  ('K1330', 'y5'),\n",
       "  ('K1393', 'x4'),\n",
       "  ('K1441', 'z4'),\n",
       "  ('K161', 'z8'),\n",
       "  ('K178', 'y6'),\n",
       "  ('K191', 'y1'),\n",
       "  ('K228', 'z7'),\n",
       "  ('K288', 'y0'),\n",
       "  ('K319', 'y0'),\n",
       "  ('K408', 'x5'),\n",
       "  ('K442', 'K443'),\n",
       "  ('K474', 'x6'),\n",
       "  ('K482', 'z5'),\n",
       "  ('K551', 'x9'),\n",
       "  ('K62', 'x5'),\n",
       "  ('K662', 'z9'),\n",
       "  ('K718', 'x9'),\n",
       "  ('K77', 'x2'),\n",
       "  ('K771', 'z6'),\n",
       "  ('K815', 'y3'),\n",
       "  ('K839', 'x8'),\n",
       "  ('K843', 'y3'),\n",
       "  ('K864', 'K865'),\n",
       "  ('x0', 'x2'),\n",
       "  ('x0', 'x3'),\n",
       "  ('x0', 'y0'),\n",
       "  ('x0', 'y9'),\n",
       "  ('x0', 'z1'),\n",
       "  ('x1', 'K370'),\n",
       "  ('x1', 'K982'),\n",
       "  ('x1', 'x0'),\n",
       "  ('x1', 'y1'),\n",
       "  ('x1', 'y7'),\n",
       "  ('x1', 'z5'),\n",
       "  ('x2', 'K1174'),\n",
       "  ('x2', 'x0'),\n",
       "  ('x2', 'x3'),\n",
       "  ('x2', 'x4'),\n",
       "  ('x2', 'x6'),\n",
       "  ('x2', 'x7'),\n",
       "  ('x2', 'x8'),\n",
       "  ('x2', 'x9'),\n",
       "  ('x2', 'y1'),\n",
       "  ('x2', 'y5'),\n",
       "  ('x2', 'y6'),\n",
       "  ('x2', 'y8'),\n",
       "  ('x2', 'y9'),\n",
       "  ('x2', 'z8'),\n",
       "  ('x2', 'z9'),\n",
       "  ('x3', 'x5'),\n",
       "  ('x3', 'x9'),\n",
       "  ('x3', 'y1'),\n",
       "  ('x3', 'y9'),\n",
       "  ('x3', 'z0'),\n",
       "  ('x3', 'z1'),\n",
       "  ('x3', 'z2'),\n",
       "  ('x3', 'z3'),\n",
       "  ('x3', 'z6'),\n",
       "  ('x3', 'z7'),\n",
       "  ('x4', 'K135'),\n",
       "  ('x4', 'K939'),\n",
       "  ('x4', 'x1'),\n",
       "  ('x4', 'x6'),\n",
       "  ('x4', 'x8'),\n",
       "  ('x4', 'x9'),\n",
       "  ('x4', 'y3'),\n",
       "  ('x4', 'y6'),\n",
       "  ('x4', 'y7'),\n",
       "  ('x4', 'y8'),\n",
       "  ('x4', 'y9'),\n",
       "  ('x4', 'z0'),\n",
       "  ('x4', 'z6'),\n",
       "  ('x4', 'z8'),\n",
       "  ('x4', 'z9'),\n",
       "  ('x5', 'x3'),\n",
       "  ('x5', 'x5'),\n",
       "  ('x5', 'x8'),\n",
       "  ('x5', 'y0'),\n",
       "  ('x5', 'y1'),\n",
       "  ('x5', 'y2'),\n",
       "  ('x5', 'y3'),\n",
       "  ('x5', 'z2'),\n",
       "  ('x5', 'z8'),\n",
       "  ('x6', 'K86'),\n",
       "  ('x6', 'x1'),\n",
       "  ('x6', 'x4'),\n",
       "  ('x6', 'x6'),\n",
       "  ('x6', 'x7'),\n",
       "  ('x6', 'y3'),\n",
       "  ('x6', 'y7'),\n",
       "  ('x6', 'y8'),\n",
       "  ('x6', 'z0'),\n",
       "  ('x6', 'z2'),\n",
       "  ('x6', 'z3'),\n",
       "  ('x6', 'z7'),\n",
       "  ('x7', 'K231'),\n",
       "  ('x7', 'K630'),\n",
       "  ('x7', 'x3'),\n",
       "  ('x7', 'x4'),\n",
       "  ('x7', 'y2'),\n",
       "  ('x7', 'z0'),\n",
       "  ('x7', 'z1'),\n",
       "  ('x7', 'z3'),\n",
       "  ('x7', 'z8'),\n",
       "  ('x8', 'K1287'),\n",
       "  ('x8', 'K946'),\n",
       "  ('x8', 'x0'),\n",
       "  ('x8', 'x1'),\n",
       "  ('x8', 'x4'),\n",
       "  ('x8', 'x5'),\n",
       "  ('x8', 'x7'),\n",
       "  ('x8', 'y5'),\n",
       "  ('x8', 'y6'),\n",
       "  ('x8', 'z3'),\n",
       "  ('x8', 'z6'),\n",
       "  ('x9', 'K529'),\n",
       "  ('x9', 'K60'),\n",
       "  ('x9', 'x2'),\n",
       "  ('x9', 'y1'),\n",
       "  ('x9', 'y3'),\n",
       "  ('x9', 'y4'),\n",
       "  ('x9', 'y9'),\n",
       "  ('x9', 'z0'),\n",
       "  ('x9', 'z2'),\n",
       "  ('x9', 'z5'),\n",
       "  ('y0', 'K592'),\n",
       "  ('y0', 'x3'),\n",
       "  ('y0', 'x5'),\n",
       "  ('y0', 'x6'),\n",
       "  ('y0', 'x9'),\n",
       "  ('y0', 'y1'),\n",
       "  ('y0', 'y5'),\n",
       "  ('y0', 'y7'),\n",
       "  ('y0', 'y9'),\n",
       "  ('y0', 'z1'),\n",
       "  ('y0', 'z3'),\n",
       "  ('y0', 'z5'),\n",
       "  ('y0', 'z8'),\n",
       "  ('y0', 'z9'),\n",
       "  ('y1', 'x4'),\n",
       "  ('y1', 'y3'),\n",
       "  ('y1', 'y4'),\n",
       "  ('y1', 'y7'),\n",
       "  ('y1', 'z1'),\n",
       "  ('y1', 'z6'),\n",
       "  ('y1', 'z9'),\n",
       "  ('y2', 'K222'),\n",
       "  ('y2', 'K486'),\n",
       "  ('y2', 'x2'),\n",
       "  ('y2', 'x7'),\n",
       "  ('y2', 'x8'),\n",
       "  ('y2', 'y1'),\n",
       "  ('y2', 'y8'),\n",
       "  ('y2', 'y9'),\n",
       "  ('y2', 'z3'),\n",
       "  ('y2', 'z4'),\n",
       "  ('y2', 'z5'),\n",
       "  ('y2', 'z8'),\n",
       "  ('y2', 'z9'),\n",
       "  ('y3', 'x0'),\n",
       "  ('y3', 'x3'),\n",
       "  ('y3', 'x5'),\n",
       "  ('y3', 'x9'),\n",
       "  ('y3', 'y0'),\n",
       "  ('y3', 'y4'),\n",
       "  ('y3', 'y6'),\n",
       "  ('y3', 'z1'),\n",
       "  ('y3', 'z3'),\n",
       "  ('y3', 'z9'),\n",
       "  ('y4', 'K1412'),\n",
       "  ('y4', 'K1432'),\n",
       "  ('y4', 'x0'),\n",
       "  ('y4', 'x1'),\n",
       "  ('y4', 'y1'),\n",
       "  ('y4', 'y3'),\n",
       "  ('y4', 'y6'),\n",
       "  ('y4', 'z0'),\n",
       "  ('y4', 'z1'),\n",
       "  ('y4', 'z3'),\n",
       "  ('y4', 'z4'),\n",
       "  ('y4', 'z6'),\n",
       "  ('y4', 'z7'),\n",
       "  ('y4', 'z8'),\n",
       "  ('y5', 'K503'),\n",
       "  ('y5', 'K512'),\n",
       "  ('y5', 'K57'),\n",
       "  ('y5', 'x4'),\n",
       "  ('y5', 'x7'),\n",
       "  ('y5', 'x8'),\n",
       "  ('y5', 'x9'),\n",
       "  ('y5', 'y9'),\n",
       "  ('y5', 'z9'),\n",
       "  ('y6', 'K114'),\n",
       "  ('y6', 'K362'),\n",
       "  ('y6', 'K747'),\n",
       "  ('y6', 'K890'),\n",
       "  ('y6', 'x1'),\n",
       "  ('y6', 'x3'),\n",
       "  ('y6', 'x4'),\n",
       "  ('y6', 'x8'),\n",
       "  ('y6', 'x9'),\n",
       "  ('y6', 'y2'),\n",
       "  ('y6', 'y4'),\n",
       "  ('y6', 'y5'),\n",
       "  ('y6', 'y8'),\n",
       "  ('y6', 'z1'),\n",
       "  ('y6', 'z5'),\n",
       "  ('y6', 'z6'),\n",
       "  ('y7', 'K1058'),\n",
       "  ('y7', 'K394'),\n",
       "  ('y7', 'K525'),\n",
       "  ('y7', 'x2'),\n",
       "  ('y7', 'x3'),\n",
       "  ('y7', 'x4'),\n",
       "  ('y7', 'y3'),\n",
       "  ('y7', 'y5'),\n",
       "  ('y7', 'y8'),\n",
       "  ('y7', 'z0'),\n",
       "  ('y7', 'z1'),\n",
       "  ('y7', 'z3'),\n",
       "  ('y7', 'z4'),\n",
       "  ('y7', 'z8'),\n",
       "  ('y8', 'x2'),\n",
       "  ('y8', 'x3'),\n",
       "  ('y8', 'x4'),\n",
       "  ('y8', 'x5'),\n",
       "  ('y8', 'x7'),\n",
       "  ('y8', 'x8'),\n",
       "  ('y8', 'y0'),\n",
       "  ('y8', 'y4'),\n",
       "  ('y8', 'z4'),\n",
       "  ('y8', 'z6'),\n",
       "  ('y8', 'z9'),\n",
       "  ('y9', 'K1206'),\n",
       "  ('y9', 'K802'),\n",
       "  ('y9', 'x4'),\n",
       "  ('y9', 'x5'),\n",
       "  ('y9', 'x7'),\n",
       "  ('y9', 'y1'),\n",
       "  ('y9', 'y2'),\n",
       "  ('y9', 'y5'),\n",
       "  ('y9', 'y8'),\n",
       "  ('y9', 'z4'),\n",
       "  ('y9', 'z5'),\n",
       "  ('y9', 'z7'),\n",
       "  ('y9', 'z8'),\n",
       "  ('y9', 'z9'),\n",
       "  ('z0', 'K1458'),\n",
       "  ('z0', 'x1'),\n",
       "  ('z0', 'x4'),\n",
       "  ('z0', 'x8'),\n",
       "  ('z0', 'y0'),\n",
       "  ('z0', 'y1'),\n",
       "  ('z0', 'y3'),\n",
       "  ('z0', 'y4'),\n",
       "  ('z0', 'y9'),\n",
       "  ('z0', 'z0'),\n",
       "  ('z0', 'z1'),\n",
       "  ('z0', 'z5'),\n",
       "  ('z0', 'z6'),\n",
       "  ('z0', 'z7'),\n",
       "  ('z1', 'K1144'),\n",
       "  ('z1', 'K238'),\n",
       "  ('z1', 'x1'),\n",
       "  ('z1', 'x5'),\n",
       "  ('z1', 'x7'),\n",
       "  ('z1', 'x8'),\n",
       "  ('z1', 'x9'),\n",
       "  ('z1', 'y0'),\n",
       "  ('z1', 'y2'),\n",
       "  ('z1', 'y4'),\n",
       "  ('z1', 'z1'),\n",
       "  ('z1', 'z2'),\n",
       "  ('z1', 'z3'),\n",
       "  ('z1', 'z4'),\n",
       "  ('z1', 'z7'),\n",
       "  ('z1', 'z9'),\n",
       "  ('z2', 'K1185'),\n",
       "  ('z2', 'K1298'),\n",
       "  ('z2', 'K922'),\n",
       "  ('z2', 'x0'),\n",
       "  ('z2', 'x2'),\n",
       "  ('z2', 'y1'),\n",
       "  ('z2', 'y4'),\n",
       "  ('z2', 'y6'),\n",
       "  ('z2', 'y8'),\n",
       "  ('z2', 'z1'),\n",
       "  ('z2', 'z5'),\n",
       "  ('z2', 'z9'),\n",
       "  ('z3', 'K364'),\n",
       "  ('z3', 'x4'),\n",
       "  ('z3', 'y0'),\n",
       "  ('z3', 'y3'),\n",
       "  ('z3', 'y5'),\n",
       "  ('z3', 'y7'),\n",
       "  ('z3', 'y8'),\n",
       "  ('z3', 'z2'),\n",
       "  ('z3', 'z4'),\n",
       "  ('z3', 'z5'),\n",
       "  ('z4', 'x0'),\n",
       "  ('z4', 'x2'),\n",
       "  ('z4', 'x7'),\n",
       "  ('z4', 'y3'),\n",
       "  ('z4', 'y5'),\n",
       "  ('z4', 'z1'),\n",
       "  ('z4', 'z3'),\n",
       "  ('z4', 'z4'),\n",
       "  ('z4', 'z9'),\n",
       "  ('z5', 'x2'),\n",
       "  ('z5', 'x4'),\n",
       "  ('z5', 'x8'),\n",
       "  ('z5', 'y2'),\n",
       "  ('z5', 'y3'),\n",
       "  ('z5', 'y4'),\n",
       "  ('z5', 'y5'),\n",
       "  ('z5', 'y6'),\n",
       "  ('z5', 'z5'),\n",
       "  ('z5', 'z9'),\n",
       "  ('z6', 'K1234'),\n",
       "  ('z6', 'K439'),\n",
       "  ('z6', 'x7'),\n",
       "  ('z6', 'y5'),\n",
       "  ('z6', 'y7'),\n",
       "  ('z6', 'y8'),\n",
       "  ('z6', 'z2'),\n",
       "  ('z6', 'z3'),\n",
       "  ('z7', 'x2'),\n",
       "  ('z7', 'x4'),\n",
       "  ('z7', 'y1'),\n",
       "  ('z7', 'y4'),\n",
       "  ('z7', 'z0'),\n",
       "  ('z7', 'z4'),\n",
       "  ('z7', 'z5'),\n",
       "  ('z7', 'z6'),\n",
       "  ('z7', 'z9'),\n",
       "  ('z8', 'K789'),\n",
       "  ('z8', 'K792'),\n",
       "  ('z8', 'x2'),\n",
       "  ('z8', 'x9'),\n",
       "  ('z8', 'y7'),\n",
       "  ('z8', 'y8'),\n",
       "  ('z8', 'y9'),\n",
       "  ('z8', 'z0'),\n",
       "  ('z8', 'z2'),\n",
       "  ('z8', 'z4'),\n",
       "  ('z8', 'z5'),\n",
       "  ('z8', 'z8'),\n",
       "  ('z9', 'K1333'),\n",
       "  ('z9', 'x2'),\n",
       "  ('z9', 'x3'),\n",
       "  ('z9', 'x5'),\n",
       "  ('z9', 'x6'),\n",
       "  ('z9', 'x8'),\n",
       "  ('z9', 'y3'),\n",
       "  ('z9', 'y8'),\n",
       "  ('z9', 'z1'),\n",
       "  ('z9', 'z5'),\n",
       "  ('z9', 'z6'),\n",
       "  ('z9', 'z8'),\n",
       "  ('z9', 'z9')}}"
      ]
     },
     "execution_count": 1044,
     "metadata": {},
     "output_type": "execute_result"
    }
   ],
   "source": [
    "sol.preds"
   ]
  },
  {
   "cell_type": "code",
   "execution_count": null,
   "metadata": {},
   "outputs": [],
   "source": []
  }
 ],
 "metadata": {
  "kernelspec": {
   "display_name": "Python 3",
   "language": "python",
   "name": "python3"
  },
  "language_info": {
   "codemirror_mode": {
    "name": "ipython",
    "version": 3
   },
   "file_extension": ".py",
   "mimetype": "text/x-python",
   "name": "python",
   "nbconvert_exporter": "python",
   "pygments_lexer": "ipython3",
   "version": "3.7.3"
  }
 },
 "nbformat": 4,
 "nbformat_minor": 2
}
