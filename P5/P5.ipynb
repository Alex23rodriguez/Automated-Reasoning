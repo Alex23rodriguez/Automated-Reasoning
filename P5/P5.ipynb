{
 "cells": [
  {
   "cell_type": "code",
   "execution_count": 466,
   "metadata": {},
   "outputs": [],
   "source": [
    "# http://theo.cs.ovgu.de/lehre/lehre2019w/reasoning/04-uebungsblatt.pdf"
   ]
  },
  {
   "cell_type": "code",
   "execution_count": 467,
   "metadata": {},
   "outputs": [],
   "source": [
    "from gavel.logic.logic import BinaryFormula, Constant, PredicateExpression, BinaryConnective, FunctorExpression"
   ]
  },
  {
   "cell_type": "code",
   "execution_count": 468,
   "metadata": {},
   "outputs": [],
   "source": [
    "from gavel.logic.logic import DefinedConstant"
   ]
  },
  {
   "cell_type": "code",
   "execution_count": 469,
   "metadata": {},
   "outputs": [],
   "source": [
    "from gavel.prover.base.interface import BaseProverInterface"
   ]
  },
  {
   "cell_type": "code",
   "execution_count": 470,
   "metadata": {},
   "outputs": [],
   "source": [
    "from gavel.logic.proof import Proof\n",
    "from gavel.logic.proof import ProofStep"
   ]
  },
  {
   "cell_type": "code",
   "execution_count": 471,
   "metadata": {},
   "outputs": [],
   "source": [
    "from gavel.dialects.tptp.parser import TPTPProblemParser\n",
    "\n",
    "problem_parser = TPTPProblemParser()"
   ]
  },
  {
   "cell_type": "code",
   "execution_count": 472,
   "metadata": {},
   "outputs": [],
   "source": [
    "# Convert string to gavel.logic.problem.Problem\n",
    "def read_prob(st):\n",
    "    x = problem_parser.parse(st)\n",
    "    return next(x)"
   ]
  },
  {
   "cell_type": "code",
   "execution_count": 1037,
   "metadata": {},
   "outputs": [],
   "source": [
    "big = read_prob(open('../big.p').readlines())"
   ]
  },
  {
   "cell_type": "code",
   "execution_count": 474,
   "metadata": {},
   "outputs": [],
   "source": [
    "p1 = read_prob(open('../P4/problem1.p', 'r').readlines())\n",
    "p2 = read_prob(open('../P4/problem2.p', 'r').readlines())\n",
    "p3 = read_prob(open('../P4/problem3.p', 'r').readlines())\n",
    "\n",
    "p12 = read_prob(open('problem1.p', 'r').readlines())\n",
    "p22 = read_prob(open('problem2.p', 'r').readlines())\n",
    "p32 = read_prob(open('problem3.p', 'r').readlines())"
   ]
  },
  {
   "cell_type": "code",
   "execution_count": 475,
   "metadata": {},
   "outputs": [],
   "source": [
    "# Convert premises into list of strings\n",
    "def formulas(p):\n",
    "    if type(p)==list:\n",
    "        return [str(i.formula) for i in p]\n",
    "    return str(p.formula)"
   ]
  },
  {
   "cell_type": "code",
   "execution_count": 476,
   "metadata": {},
   "outputs": [
    {
     "data": {
      "text/plain": [
       "['((p(e)) & ((p(b)) & (p(d)))) => ($false)',\n",
       " '(p(e)) => (p(d))',\n",
       " '($true) => (p(f))',\n",
       " '(p(a)) => ($false)',\n",
       " '(p(c)) => (p(e))',\n",
       " '($true) => (p(c))']"
      ]
     },
     "execution_count": 476,
     "metadata": {},
     "output_type": "execute_result"
    }
   ],
   "source": [
    "formulas(p3.premises)"
   ]
  },
  {
   "cell_type": "code",
   "execution_count": 110,
   "metadata": {
    "scrolled": true
   },
   "outputs": [
    {
     "data": {
      "text/plain": [
       "['($true) => ((a) = (d))',\n",
       " '($true) => (p(g(f(a), b)))',\n",
       " '($true) => ((f(d)) = (b))',\n",
       " '($true) => ((g(b, b)) = (c))',\n",
       " '(p(c)) => ($false)']"
      ]
     },
     "execution_count": 110,
     "metadata": {},
     "output_type": "execute_result"
    }
   ],
   "source": [
    "formulas(p22.premises)"
   ]
  },
  {
   "cell_type": "code",
   "execution_count": 178,
   "metadata": {},
   "outputs": [
    {
     "data": {
      "text/plain": [
       "['((p(e)) & ((p(b)) & (p(d)))) => ($false)',\n",
       " '(p(e)) => (p(d))',\n",
       " '($true) => (p(f))',\n",
       " '(p(a)) => ($false)',\n",
       " '(p(c)) => (p(e))',\n",
       " '($true) => (p(c))',\n",
       " '($true) => ((f) = (b))']"
      ]
     },
     "execution_count": 178,
     "metadata": {},
     "output_type": "execute_result"
    }
   ],
   "source": [
    "formulas(p32.premises)"
   ]
  },
  {
   "cell_type": "code",
   "execution_count": 53,
   "metadata": {},
   "outputs": [],
   "source": [
    "#           =>      &       \n",
    "\n",
    "connects = [BinaryConnective.IMPLICATION, BinaryConnective.CONJUNCTION]"
   ]
  },
  {
   "cell_type": "code",
   "execution_count": null,
   "metadata": {},
   "outputs": [],
   "source": []
  },
  {
   "cell_type": "code",
   "execution_count": 238,
   "metadata": {},
   "outputs": [],
   "source": [
    "def then(x, y, d):\n",
    "    return False\n",
    "    #return y or not x\n",
    "    print('then')\n",
    "    \n",
    "def andd(x, y):\n",
    "    return x and y\n",
    "    print('and')\n"
   ]
  },
  {
   "cell_type": "code",
   "execution_count": null,
   "metadata": {},
   "outputs": [],
   "source": []
  },
  {
   "cell_type": "raw",
   "metadata": {},
   "source": [
    "all(i+1 for i in range(3))"
   ]
  },
  {
   "cell_type": "code",
   "execution_count": 444,
   "metadata": {},
   "outputs": [],
   "source": [
    "x = set()"
   ]
  },
  {
   "cell_type": "code",
   "execution_count": 445,
   "metadata": {},
   "outputs": [],
   "source": [
    "x.update(set((i for i in range(12)))"
   ]
  },
  {
   "cell_type": "code",
   "execution_count": 448,
   "metadata": {},
   "outputs": [
    {
     "data": {
      "text/plain": [
       "{0, 1, 2, 3, 4, 5, 6, 7, 8, 9, 10, 11}"
      ]
     },
     "execution_count": 448,
     "metadata": {},
     "output_type": "execute_result"
    }
   ],
   "source": [
    "set((i for i in range(12)))"
   ]
  },
  {
   "cell_type": "code",
   "execution_count": 408,
   "metadata": {},
   "outputs": [],
   "source": [
    "def functor(f, d):\n",
    "    global G\n",
    "    \n",
    "    if all([type(i) in [str, Constant, DefinedConstant] for i in f.arguments]):\n",
    "        if str(f) not in d:\n",
    "            d[str(f)] = f'K{G}'\n",
    "            G += 1\n",
    "        return d[str(f)]\n",
    "    \n",
    "    l = [i if type(i) in [Constant, DefinedConstant] else functor(i, d) for i in f.arguments]\n",
    "    \n",
    "    return functor(FunctorExpression(f.functor, l), d)\n",
    "\n"
   ]
  },
  {
   "cell_type": "code",
   "execution_count": null,
   "metadata": {},
   "outputs": [],
   "source": [
    "def eq(x, y, d):\n",
    "    x = functor(x)\n",
    "    "
   ]
  },
  {
   "cell_type": "code",
   "execution_count": 409,
   "metadata": {},
   "outputs": [
    {
     "name": "stdout",
     "output_type": "stream",
     "text": [
      "g(f(a), b)\n",
      "f(a)\n",
      "g(K0, b)\n"
     ]
    },
    {
     "data": {
      "text/plain": [
       "'K1'"
      ]
     },
     "execution_count": 409,
     "metadata": {},
     "output_type": "execute_result"
    }
   ],
   "source": [
    "test = {}\n",
    "functor(f3.right.arguments[0], test)"
   ]
  },
  {
   "cell_type": "code",
   "execution_count": 410,
   "metadata": {},
   "outputs": [
    {
     "data": {
      "text/plain": [
       "{'f(a)': 'K0', 'g(K0, b)': 'K1'}"
      ]
     },
     "execution_count": 410,
     "metadata": {},
     "output_type": "execute_result"
    }
   ],
   "source": [
    "test"
   ]
  },
  {
   "cell_type": "code",
   "execution_count": 393,
   "metadata": {},
   "outputs": [
    {
     "data": {
      "text/plain": [
       "'g(2, 4)'"
      ]
     },
     "execution_count": 393,
     "metadata": {},
     "output_type": "execute_result"
    }
   ],
   "source": [
    "str(FunctorExpression(f3.right.arguments[0].functor, [2,4]))"
   ]
  },
  {
   "cell_type": "code",
   "execution_count": 454,
   "metadata": {},
   "outputs": [
    {
     "data": {
      "text/plain": [
       "'p(g(f(a), b))'"
      ]
     },
     "execution_count": 454,
     "metadata": {},
     "output_type": "execute_result"
    }
   ],
   "source": [
    "str(f3.right)"
   ]
  },
  {
   "cell_type": "code",
   "execution_count": 389,
   "metadata": {},
   "outputs": [
    {
     "data": {
      "text/plain": [
       "lark.lexer.Token"
      ]
     },
     "execution_count": 389,
     "metadata": {},
     "output_type": "execute_result"
    }
   ],
   "source": [
    "type(f3.right.arguments[0].functor)"
   ]
  },
  {
   "cell_type": "code",
   "execution_count": 347,
   "metadata": {},
   "outputs": [
    {
     "data": {
      "text/plain": [
       "{Token(LOWER_WORD, 'p'): 1}"
      ]
     },
     "execution_count": 347,
     "metadata": {},
     "output_type": "execute_result"
    }
   ],
   "source": [
    "{f3.right.predicate:1}"
   ]
  },
  {
   "cell_type": "code",
   "execution_count": 355,
   "metadata": {},
   "outputs": [
    {
     "data": {
      "text/plain": [
       "{'g(f(a), b)'}"
      ]
     },
     "execution_count": 355,
     "metadata": {},
     "output_type": "execute_result"
    }
   ],
   "source": [
    "set([str(i) for i in f3.right.arguments]) "
   ]
  },
  {
   "cell_type": "code",
   "execution_count": 416,
   "metadata": {},
   "outputs": [],
   "source": [
    "def check(exp, s, pred, func):\n",
    "    if type(exp) in [Constant, DefinedConstant]:\n",
    "        return str(exp) in s\n",
    "    if type(exp) == FunctorExpression:\n",
    "        return str(functor(exp)) in s\n",
    "    elif type(exp) == PredicateExpression:\n",
    "        p = str(exp.predicate)\n",
    "        if p in pred:\n",
    "            v = tuple(functor(i) for i in exp.arguments)\n",
    "            return v in pred[p]\n",
    "        return False\n",
    "    elif type(exp) == BinaryFormula:\n",
    "        #return [then, andd][connects.index(exp.operator)](check(exp.left, s), check(exp.right, s), d)\n",
    "        return check(exp.left, s, p) and check(exp.right, s, p)\n",
    "    print('whaaat')\n",
    "    print(type(exp))"
   ]
  },
  {
   "cell_type": "code",
   "execution_count": 417,
   "metadata": {},
   "outputs": [],
   "source": [
    "def add_new(exp, s, d):\n",
    "    print('add_new')\n",
    "    print(exp)\n",
    "    if type(exp) == BinaryFormula and exp.operator == BinaryConnective.EQ:\n",
    "        eq(exp.left, exp.right, d)\n",
    "        return\n",
    "    if type(exp) in [Constant, PredicateExpression, DefinedConstant]:\n",
    "        s.add(str(exp))"
   ]
  },
  {
   "cell_type": "code",
   "execution_count": 241,
   "metadata": {},
   "outputs": [],
   "source": [
    "def test(exp, s, d):\n",
    "    \n",
    "    if check(exp.left, s, d):\n",
    "        print('hi')\n",
    "        add_new(exp.right, s, d)"
   ]
  },
  {
   "cell_type": "code",
   "execution_count": null,
   "metadata": {},
   "outputs": [],
   "source": [
    "truth = {'$true'}\n",
    "equiv = {}\n",
    "\n",
    "test(f, truth, equiv)"
   ]
  },
  {
   "cell_type": "code",
   "execution_count": 248,
   "metadata": {},
   "outputs": [],
   "source": [
    "d = {'f': set('arst')}"
   ]
  },
  {
   "cell_type": "code",
   "execution_count": 321,
   "metadata": {},
   "outputs": [],
   "source": [
    "pred = {'a': ({5},{})}"
   ]
  },
  {
   "cell_type": "code",
   "execution_count": 326,
   "metadata": {},
   "outputs": [],
   "source": [
    "equiv = {1:({2},{},{}), \n",
    "         2:({1},{},{'c':({3}, {})}), \n",
    "         3:({4},{'c':({2},{})},{}),\n",
    "         4:({3},{},{'b':({5},{})}), \n",
    "         5:(set(),{'b':({4},{})},{})}"
   ]
  },
  {
   "cell_type": "code",
   "execution_count": 327,
   "metadata": {},
   "outputs": [
    {
     "data": {
      "text/plain": [
       "{1: ({2}, {}, {}),\n",
       " 2: ({1}, {}, {'c': ({3}, {})}),\n",
       " 3: ({4}, {'c': ({2}, {})}, {}),\n",
       " 4: ({3}, {}, {'b': ({5}, {})}),\n",
       " 5: (set(), {'b': ({4}, {})}, {})}"
      ]
     },
     "execution_count": 327,
     "metadata": {},
     "output_type": "execute_result"
    }
   ],
   "source": [
    "equiv"
   ]
  },
  {
   "cell_type": "code",
   "execution_count": 328,
   "metadata": {},
   "outputs": [
    {
     "data": {
      "text/plain": [
       "{'a': ({5}, {})}"
      ]
     },
     "execution_count": 328,
     "metadata": {},
     "output_type": "execute_result"
    }
   ],
   "source": [
    "pred"
   ]
  },
  {
   "cell_type": "code",
   "execution_count": null,
   "metadata": {},
   "outputs": [],
   "source": [
    "a(b(c(1))) ?"
   ]
  },
  {
   "cell_type": "code",
   "execution_count": null,
   "metadata": {},
   "outputs": [],
   "source": []
  },
  {
   "cell_type": "code",
   "execution_count": 323,
   "metadata": {},
   "outputs": [
    {
     "data": {
      "text/plain": [
       "{1: ({2}, {}, {}),\n",
       " 2: ({1}, {}, {'c': ({3}, {})}),\n",
       " 3: ({4}, {'c': ({2}, {})}, {}),\n",
       " 4: ({3}, {}, {'b': ({5}, {})}),\n",
       " 5: ({4}, {'b': ({4}, {})}, {})}"
      ]
     },
     "execution_count": 323,
     "metadata": {},
     "output_type": "execute_result"
    }
   ],
   "source": [
    "equiv"
   ]
  },
  {
   "cell_type": "code",
   "execution_count": 315,
   "metadata": {
    "scrolled": true
   },
   "outputs": [
    {
     "name": "stdout",
     "output_type": "stream",
     "text": [
      "True\n"
     ]
    }
   ],
   "source": [
    "for i in {'b'}:\n",
    "    print('c' in equiv[i][0])"
   ]
  },
  {
   "cell_type": "code",
   "execution_count": 319,
   "metadata": {
    "scrolled": true
   },
   "outputs": [
    {
     "data": {
      "text/plain": [
       "{'f': ({'b'}, {'g': ({'b'}, {})}), 'g': (set(), {})}"
      ]
     },
     "execution_count": 319,
     "metadata": {},
     "output_type": "execute_result"
    }
   ],
   "source": [
    "relations"
   ]
  },
  {
   "cell_type": "code",
   "execution_count": null,
   "metadata": {},
   "outputs": [],
   "source": [
    "relations['f'][1]['g'][0]"
   ]
  },
  {
   "cell_type": "code",
   "execution_count": 259,
   "metadata": {},
   "outputs": [
    {
     "data": {
      "text/plain": [
       "{'g': ({'b'}, {})}"
      ]
     },
     "execution_count": 259,
     "metadata": {},
     "output_type": "execute_result"
    }
   ],
   "source": [
    "relations['f'][1]"
   ]
  },
  {
   "cell_type": "code",
   "execution_count": 172,
   "metadata": {},
   "outputs": [
    {
     "data": {
      "text/plain": [
       "'($true) => ((f) = (b))'"
      ]
     },
     "execution_count": 172,
     "metadata": {},
     "output_type": "execute_result"
    }
   ],
   "source": [
    "str(f)"
   ]
  },
  {
   "cell_type": "code",
   "execution_count": 79,
   "metadata": {},
   "outputs": [
    {
     "data": {
      "text/plain": [
       "True"
      ]
     },
     "execution_count": 79,
     "metadata": {},
     "output_type": "execute_result"
    }
   ],
   "source": [
    "f.left == DefinedConstant.VERUM"
   ]
  },
  {
   "cell_type": "code",
   "execution_count": 161,
   "metadata": {},
   "outputs": [
    {
     "data": {
      "text/plain": [
       "str"
      ]
     },
     "execution_count": 161,
     "metadata": {},
     "output_type": "execute_result"
    }
   ],
   "source": [
    "type(set(f.right.right.symbol).pop())"
   ]
  },
  {
   "cell_type": "code",
   "execution_count": null,
   "metadata": {},
   "outputs": [],
   "source": []
  },
  {
   "cell_type": "code",
   "execution_count": 162,
   "metadata": {},
   "outputs": [
    {
     "data": {
      "text/plain": [
       "'$true'"
      ]
     },
     "execution_count": 162,
     "metadata": {},
     "output_type": "execute_result"
    }
   ],
   "source": [
    "str(DefinedConstant.VERUM)"
   ]
  },
  {
   "cell_type": "code",
   "execution_count": 81,
   "metadata": {},
   "outputs": [],
   "source": [
    "f = p3.premises[6].formula"
   ]
  },
  {
   "cell_type": "code",
   "execution_count": 49,
   "metadata": {},
   "outputs": [
    {
     "data": {
      "text/plain": [
       "'BinaryConnective.CONJUNCTION'"
      ]
     },
     "execution_count": 49,
     "metadata": {},
     "output_type": "execute_result"
    }
   ],
   "source": [
    "str(f.left.right.operator)"
   ]
  },
  {
   "cell_type": "code",
   "execution_count": 88,
   "metadata": {},
   "outputs": [],
   "source": [
    "f2 = p3.premises[0].formula"
   ]
  },
  {
   "cell_type": "code",
   "execution_count": 103,
   "metadata": {},
   "outputs": [
    {
     "data": {
      "text/plain": [
       "True"
      ]
     },
     "execution_count": 103,
     "metadata": {},
     "output_type": "execute_result"
    }
   ],
   "source": [
    "f2.left.right.left.arguments[0].symbol == f.right.right.symbol"
   ]
  },
  {
   "cell_type": "code",
   "execution_count": 121,
   "metadata": {},
   "outputs": [
    {
     "data": {
      "text/plain": [
       "'p(b)'"
      ]
     },
     "execution_count": 121,
     "metadata": {},
     "output_type": "execute_result"
    }
   ],
   "source": [
    "str(f2.left.right.left)"
   ]
  },
  {
   "cell_type": "code",
   "execution_count": 340,
   "metadata": {},
   "outputs": [
    {
     "data": {
      "text/plain": [
       "'p(f(5), 3)'"
      ]
     },
     "execution_count": 340,
     "metadata": {},
     "output_type": "execute_result"
    }
   ],
   "source": [
    "str(PredicateExpression('p', [FunctorExpression('f', [5]),3]))"
   ]
  },
  {
   "cell_type": "code",
   "execution_count": 330,
   "metadata": {},
   "outputs": [],
   "source": [
    "f3 = p22.premises[1].formula"
   ]
  },
  {
   "cell_type": "code",
   "execution_count": 333,
   "metadata": {},
   "outputs": [
    {
     "data": {
      "text/plain": [
       "gavel.logic.logic.FunctorExpression"
      ]
     },
     "execution_count": 333,
     "metadata": {},
     "output_type": "execute_result"
    }
   ],
   "source": [
    "type(f3.right.arguments[0])"
   ]
  },
  {
   "cell_type": "code",
   "execution_count": 141,
   "metadata": {},
   "outputs": [
    {
     "data": {
      "text/plain": [
       "'P'"
      ]
     },
     "execution_count": 141,
     "metadata": {},
     "output_type": "execute_result"
    }
   ],
   "source": [
    "str(f3.right.predicate.())"
   ]
  },
  {
   "cell_type": "code",
   "execution_count": 137,
   "metadata": {},
   "outputs": [
    {
     "data": {
      "text/plain": [
       "'g(f(a), b)'"
      ]
     },
     "execution_count": 137,
     "metadata": {},
     "output_type": "execute_result"
    }
   ],
   "source": [
    "str(f3.right.arguments[0])"
   ]
  },
  {
   "cell_type": "code",
   "execution_count": 143,
   "metadata": {},
   "outputs": [
    {
     "name": "stdout",
     "output_type": "stream",
     "text": [
      "f\n",
      "a\n"
     ]
    }
   ],
   "source": [
    "for i in f3.right.arguments[0].arguments[0].symbols():\n",
    "    print(i)"
   ]
  },
  {
   "cell_type": "code",
   "execution_count": 149,
   "metadata": {},
   "outputs": [
    {
     "data": {
      "text/plain": [
       "lark.lexer.Token"
      ]
     },
     "execution_count": 149,
     "metadata": {},
     "output_type": "execute_result"
    }
   ],
   "source": [
    "type(f.right.right.symbol)"
   ]
  },
  {
   "cell_type": "code",
   "execution_count": 98,
   "metadata": {},
   "outputs": [
    {
     "data": {
      "text/plain": [
       "False"
      ]
     },
     "execution_count": 98,
     "metadata": {},
     "output_type": "execute_result"
    }
   ],
   "source": [
    "f.left == f2.left"
   ]
  },
  {
   "cell_type": "code",
   "execution_count": 90,
   "metadata": {},
   "outputs": [
    {
     "data": {
      "text/plain": [
       "<DefinedConstant.VERUM: 0>"
      ]
     },
     "execution_count": 90,
     "metadata": {},
     "output_type": "execute_result"
    }
   ],
   "source": [
    "f2.left"
   ]
  },
  {
   "cell_type": "code",
   "execution_count": 86,
   "metadata": {
    "scrolled": true
   },
   "outputs": [
    {
     "ename": "AttributeError",
     "evalue": "'Constant' object has no attribute 'arguments'",
     "output_type": "error",
     "traceback": [
      "\u001b[0;31m---------------------------------------------------------------------------\u001b[0m",
      "\u001b[0;31mAttributeError\u001b[0m                            Traceback (most recent call last)",
      "\u001b[0;32m<ipython-input-86-f0f70cc1b6ae>\u001b[0m in \u001b[0;36m<module>\u001b[0;34m\u001b[0m\n\u001b[0;32m----> 1\u001b[0;31m \u001b[0mstr\u001b[0m\u001b[0;34m(\u001b[0m\u001b[0mf\u001b[0m\u001b[0;34m.\u001b[0m\u001b[0mright\u001b[0m\u001b[0;34m.\u001b[0m\u001b[0mright\u001b[0m\u001b[0;34m)\u001b[0m \u001b[0;34m==\u001b[0m \u001b[0mstr\u001b[0m\u001b[0;34m(\u001b[0m\u001b[0mf2\u001b[0m\u001b[0;34m.\u001b[0m\u001b[0mright\u001b[0m\u001b[0;34m.\u001b[0m\u001b[0marguments\u001b[0m\u001b[0;34m[\u001b[0m\u001b[0;36m0\u001b[0m\u001b[0;34m]\u001b[0m\u001b[0;34m.\u001b[0m\u001b[0marguments\u001b[0m\u001b[0;34m[\u001b[0m\u001b[0;36m1\u001b[0m\u001b[0;34m]\u001b[0m\u001b[0;34m)\u001b[0m\u001b[0;34m\u001b[0m\u001b[0;34m\u001b[0m\u001b[0m\n\u001b[0m",
      "\u001b[0;31mAttributeError\u001b[0m: 'Constant' object has no attribute 'arguments'"
     ]
    }
   ],
   "source": [
    "str(f.right.right) == str(f2.right.arguments[0].arguments[1])"
   ]
  },
  {
   "cell_type": "code",
   "execution_count": 75,
   "metadata": {},
   "outputs": [
    {
     "data": {
      "text/plain": [
       "Token(LOWER_WORD, 'b')"
      ]
     },
     "execution_count": 75,
     "metadata": {},
     "output_type": "execute_result"
    }
   ],
   "source": [
    "str(f2.right.arguments[2].arguments[1])"
   ]
  },
  {
   "cell_type": "code",
   "execution_count": null,
   "metadata": {},
   "outputs": [],
   "source": []
  },
  {
   "cell_type": "code",
   "execution_count": 45,
   "metadata": {},
   "outputs": [
    {
     "data": {
      "text/plain": [
       "Token(LOWER_WORD, 'd')"
      ]
     },
     "execution_count": 45,
     "metadata": {},
     "output_type": "execute_result"
    }
   ],
   "source": [
    "str(P.formula.right.right)\n"
   ]
  },
  {
   "cell_type": "code",
   "execution_count": null,
   "metadata": {},
   "outputs": [],
   "source": []
  },
  {
   "cell_type": "code",
   "execution_count": 17,
   "metadata": {},
   "outputs": [],
   "source": [
    "# Convert left into list of atoms\n",
    "def parse_left(t):\n",
    "    p = []\n",
    "    if '&' in t:\n",
    "        for i in t.split('&'):\n",
    "            for x in parse_left(i):\n",
    "                p.append(x)\n",
    "    else:\n",
    "        p.append(clean_up(t))\n",
    "    return p"
   ]
  },
  {
   "cell_type": "code",
   "execution_count": 66,
   "metadata": {},
   "outputs": [],
   "source": [
    "# Parse premise\n",
    "def parse_premise(t):\n",
    "    x, y = [clean_up(i) for i in t.split('=>')]\n",
    "    return parse_left(x), y"
   ]
  },
  {
   "cell_type": "code",
   "execution_count": 67,
   "metadata": {},
   "outputs": [
    {
     "data": {
      "text/plain": [
       "(['p(e)', 'p(b)', 'p(d)'], '$false')"
      ]
     },
     "execution_count": 67,
     "metadata": {},
     "output_type": "execute_result"
    }
   ],
   "source": [
    "parse_premise(formulas(p4.premises)[0])"
   ]
  },
  {
   "cell_type": "code",
   "execution_count": 487,
   "metadata": {
    "scrolled": false
   },
   "outputs": [],
   "source": [
    "class Horn(BaseProverInterface):\n",
    "    def _submit_problem(self, problem_instance, *args, **kwargs):\n",
    "        # Call your prov:qer here\n",
    "        sol = Solver()\n",
    "        result = sol.prove(problem_instance)\n",
    "        return result"
   ]
  },
  {
   "cell_type": "code",
   "execution_count": 480,
   "metadata": {
    "scrolled": false
   },
   "outputs": [],
   "source": []
  },
  {
   "cell_type": "code",
   "execution_count": 481,
   "metadata": {},
   "outputs": [],
   "source": [
    "def my_prover(problem):\n",
    "    lst = [parse_premise(i) for i in formulas(problem.premises)]\n",
    "    \n",
    "    steps = []\n",
    "    conj = str(problem.conjecture.formula)\n",
    "    \n",
    "    S = {'$true'}\n",
    "    oldS = set()\n",
    "    \n",
    "    while S != oldS:\n",
    "        steps.append(S-oldS)\n",
    "        oldS = S.copy()\n",
    "        for i in lst:\n",
    "            if i[1] not in S:\n",
    "                for j in i[0]:\n",
    "                    if j not in oldS:\n",
    "                        break\n",
    "                else:\n",
    "                    S.add(i[1])\n",
    "                \n",
    "    # pretty print \n",
    "    for s in steps:\n",
    "        print(s)\n",
    "    print(f\"\\nConjecture: {conj}\")\n",
    "    if conj in S:\n",
    "        print(\"Proof found!\")\n",
    "        return Proof(steps=steps)\n",
    "    \n",
    "    print(\"No proof found.\")\n"
   ]
  },
  {
   "cell_type": "code",
   "execution_count": 567,
   "metadata": {},
   "outputs": [],
   "source": [
    "ATOMS = [Constant, DefinedConstant, str]"
   ]
  },
  {
   "cell_type": "code",
   "execution_count": null,
   "metadata": {},
   "outputs": [],
   "source": []
  },
  {
   "cell_type": "code",
   "execution_count": 649,
   "metadata": {},
   "outputs": [],
   "source": [
    "G = None"
   ]
  },
  {
   "cell_type": "code",
   "execution_count": 797,
   "metadata": {},
   "outputs": [],
   "source": [
    "def st(x):\n",
    "    if x in [str, DefinedConstant]:\n",
    "        return str(x)\n",
    "    return str(x.symbol)"
   ]
  },
  {
   "cell_type": "code",
   "execution_count": 968,
   "metadata": {},
   "outputs": [],
   "source": [
    "del G"
   ]
  },
  {
   "cell_type": "code",
   "execution_count": 1008,
   "metadata": {},
   "outputs": [],
   "source": [
    "class Solver():\n",
    "    def __init__(self):\n",
    "        self.oldEq = {}\n",
    "        self.equiv = {}\n",
    "        self.func = {}\n",
    "        self.oldS = set()\n",
    "        self.S = {'$true'}\n",
    "        self.oldPreds = {}\n",
    "        self.preds = {}\n",
    "        self.G = 0\n",
    "        \n",
    "        self.steps = [{'$true'}]\n",
    "        \n",
    "    def functor(self, f):\n",
    "        if type(f) in ATOMS:\n",
    "            return st(f)\n",
    "        \n",
    "        if all([type(i) in ATOMS for i in f.arguments]):\n",
    "            if str(f) not in self.func:\n",
    "                k = f'K{self.G}'\n",
    "                self.func[str(f)] = k\n",
    "                self.equiv[k] = set([k])\n",
    "                self.G += 1\n",
    "                return k\n",
    "            return self.func[str(f)]\n",
    "\n",
    "        l = [st(i) if type(i) in ATOMS else self.functor(i) for i in f.arguments]\n",
    "\n",
    "        return self.functor(FunctorExpression(f.functor, l))\n",
    "    \n",
    "    def eq(self, x, y): \n",
    "        x = self.functor(x)\n",
    "        y = self.functor(y)\n",
    "        \n",
    "        self.steps[-1].add(f\"{x}={y}\")\n",
    "        \n",
    "        if x not in self.equiv[y]:\n",
    "            self.equiv[x] = self.equiv[y]\n",
    "            self.equiv[x].add(x)\n",
    "        \n",
    "    def check(self, exp):\n",
    "        if type(exp) in [Constant, DefinedConstant]:\n",
    "            return str(exp) in self.oldS\n",
    "        \n",
    "        if type(exp) == FunctorExpression:\n",
    "            return self.functor(exp) in self.oldS\n",
    "        \n",
    "        elif type(exp) == PredicateExpression:\n",
    "            p = str(exp.predicate)\n",
    "            if p in self.oldPreds:\n",
    "                v = tuple(st(i) if type(i) in ATOMS else self.functor(i) for i in exp.arguments)\n",
    "                for x in self.oldPreds[p]:\n",
    "                    assert len(v) == len(x), f'Non matching lengths. v: {v}, x: {x}, p:{p}'\n",
    "                    #global F, G\n",
    "                    #F = self.equiv\n",
    "                    #G = v,x\n",
    "                    if all(v[i] in self.oldEq[x[i]] for i in range(len(v))):\n",
    "                        return True\n",
    "            return False\n",
    "        \n",
    "        elif type(exp) == BinaryFormula:\n",
    "            #return [then, andd][connects.index(exp.operator)](check(exp.left), check(exp.right, s))\n",
    "            return self.check(exp.left) and self.check(exp.right)\n",
    "        print('?')\n",
    "        print(type(exp))\n",
    "                 \n",
    "    def prepare(self, exp):\n",
    "        if type(exp) == Constant:\n",
    "            k = str(exp.symbol)\n",
    "            if k not in self.equiv:\n",
    "                self.equiv[k] = set(str(exp))\n",
    "            return\n",
    "        if type(exp) == BinaryFormula:\n",
    "            self.prepare(exp.left)\n",
    "            self.prepare(exp.right)\n",
    "            return\n",
    "        if type(exp) in (PredicateExpression, FunctorExpression):\n",
    "            for i in exp.arguments:\n",
    "                self.prepare(i)\n",
    "        \n",
    "            \n",
    "    def prove(self, problem, *args, **kwargs):\n",
    "        lst = [i.formula for i in problem.premises]\n",
    "        for exp in lst:\n",
    "            self.prepare(exp)\n",
    "\n",
    "        #steps = []\n",
    "        conj = str(problem.conjecture.formula)\n",
    "        \n",
    "        neweq = False\n",
    "        while self.S != self.oldS or neweq:\n",
    "            neweq = False\n",
    "            self.steps.append(set())\n",
    "            self.oldS = self.S.copy()\n",
    "            self.oldEq = self.equiv.copy()\n",
    "            self.oldPreds = self.preds.copy()\n",
    "            \n",
    "            for exp in lst:\n",
    "                r = exp.right\n",
    "                \n",
    "                # We already know\n",
    "                if type(r) == BinaryFormula and r.operator == BinaryConnective.EQ:\n",
    "                    x = self.functor(r.left)\n",
    "                    y = self.functor(r.right)\n",
    "                    if x in self.equiv[y]:\n",
    "                        #pass\n",
    "                        continue\n",
    "                elif type(r) == DefinedConstant and str(r) in self.S:\n",
    "                    #pass\n",
    "                    continue\n",
    "                elif type(r) == PredicateExpression:\n",
    "                    p = str(r.predicate)\n",
    "                    if p in self.preds:\n",
    "                        v = tuple(st(i) if type(i) in ATOMS else self.functor(i) for i in r.arguments)\n",
    "                        for x in self.preds[p]:\n",
    "                            assert len(v) == len(x), f'Non matching lengths. v: {v}, x: {x}, p:{p}'\n",
    "                            global E, oE\n",
    "                            E, oE = self.equiv, self.oldEq\n",
    "                            if all(v[i] in self.equiv[x[i]] for i in range(len(v))):\n",
    "                                #pass\n",
    "                                continue\n",
    "                \n",
    "                # We don't know\n",
    "                if self.check(exp.left):\n",
    "                    if type(r) == BinaryFormula and r.operator == BinaryConnective.EQ:\n",
    "                        self.eq(r.left, r.right)\n",
    "                        neweq = True\n",
    "\n",
    "                    elif type(r) == DefinedConstant:\n",
    "                        self.S.add(str(r))\n",
    "\n",
    "                    elif type(r) == PredicateExpression:\n",
    "                        self.S.add(str(r))\n",
    "                        p = str(r.predicate)\n",
    "                        if p not in self.preds:\n",
    "                            self.preds[p] = set()\n",
    "                        v = tuple(st(i) if type(i) in ATOMS else self.functor(i) for i in r.arguments)\n",
    "                        self.preds[p].add(v)\n",
    "                    else:\n",
    "                        print(\"???\")\n",
    "                        print(type(r))\n",
    "                        \n",
    "            self.steps[-1].update(self.S-self.oldS)\n",
    "        \n",
    "        self.steps.pop()\n",
    "        #global P, E, S, F, ST\n",
    "        P, E, S, F, ST = self.preds, self.equiv, self.S, self.func, self.steps\n",
    "        \n",
    "        print(self.steps)\n",
    "        print(f\"\\nConjecture: {conj}\")\n",
    "        if conj in self.S:\n",
    "            print(\"Proof found!\")\n",
    "            return Proof(steps=self.steps)\n",
    "\n",
    "        print(\"No proof found.\")\n",
    "        "
   ]
  },
  {
   "cell_type": "code",
   "execution_count": 1016,
   "metadata": {},
   "outputs": [],
   "source": [
    "hop = Horn()"
   ]
  },
  {
   "cell_type": "code",
   "execution_count": 1027,
   "metadata": {},
   "outputs": [
    {
     "data": {
      "text/plain": [
       "['((p(e)) & ((p(b)) & (p(d)))) => ($false)',\n",
       " '(p(e)) => (p(d))',\n",
       " '($true) => (p(f))',\n",
       " '(p(a)) => ($false)',\n",
       " '(p(c)) => (p(e))',\n",
       " '($true) => (p(c))',\n",
       " '($true) => ((f) = (b))']"
      ]
     },
     "execution_count": 1027,
     "metadata": {},
     "output_type": "execute_result"
    }
   ],
   "source": [
    "[str(i.formula) for i in p32.premises]"
   ]
  },
  {
   "cell_type": "code",
   "execution_count": 1024,
   "metadata": {
    "scrolled": true
   },
   "outputs": [
    {
     "name": "stdout",
     "output_type": "stream",
     "text": [
      "[{'$true'}, {'p(c)', 'f=b', 'p(f)'}, {'p(e)'}, {'p(d)'}, {'$false'}]\n",
      "\n",
      "Conjecture: $false\n",
      "Proof found!\n",
      "\n",
      "\n"
     ]
    }
   ],
   "source": [
    "for prob in [p32]:\n",
    "    p = hop.prove(prob)\n",
    "    print('\\n')"
   ]
  },
  {
   "cell_type": "code",
   "execution_count": 1025,
   "metadata": {},
   "outputs": [
    {
     "data": {
      "text/plain": [
       "{'e': {'e'},\n",
       " 'b': {'b', 'f'},\n",
       " 'd': {'d'},\n",
       " 'f': {'b', 'f'},\n",
       " 'a': {'a'},\n",
       " 'c': {'c'}}"
      ]
     },
     "execution_count": 1025,
     "metadata": {},
     "output_type": "execute_result"
    }
   ],
   "source": [
    "E"
   ]
  },
  {
   "cell_type": "code",
   "execution_count": 1020,
   "metadata": {
    "scrolled": true
   },
   "outputs": [
    {
     "data": {
      "text/plain": [
       "{'a': {'a', 'd'},\n",
       " 'd': {'a', 'd'},\n",
       " 'b': {'K2', 'b'},\n",
       " 'c': {'K3', 'c'},\n",
       " 'K0': {'K0'},\n",
       " 'K1': {'K1'},\n",
       " 'K2': {'K2', 'b'},\n",
       " 'K3': {'K3', 'c'}}"
      ]
     },
     "execution_count": 1020,
     "metadata": {},
     "output_type": "execute_result"
    }
   ],
   "source": [
    "E"
   ]
  },
  {
   "cell_type": "code",
   "execution_count": 937,
   "metadata": {},
   "outputs": [
    {
     "data": {
      "text/plain": [
       "{'$false', '$true', 'p(a)'}"
      ]
     },
     "execution_count": 937,
     "metadata": {},
     "output_type": "execute_result"
    }
   ],
   "source": [
    "S"
   ]
  },
  {
   "cell_type": "code",
   "execution_count": 938,
   "metadata": {},
   "outputs": [
    {
     "data": {
      "text/plain": [
       "{'a': {'a', 'b'}, 'b': {'a', 'b'}}"
      ]
     },
     "execution_count": 938,
     "metadata": {},
     "output_type": "execute_result"
    }
   ],
   "source": [
    "E"
   ]
  },
  {
   "cell_type": "code",
   "execution_count": 706,
   "metadata": {
    "scrolled": true
   },
   "outputs": [
    {
     "data": {
      "text/plain": [
       "{}"
      ]
     },
     "execution_count": 706,
     "metadata": {},
     "output_type": "execute_result"
    }
   ],
   "source": [
    "F"
   ]
  },
  {
   "cell_type": "code",
   "execution_count": 695,
   "metadata": {},
   "outputs": [],
   "source": [
    "p"
   ]
  },
  {
   "cell_type": "code",
   "execution_count": 696,
   "metadata": {
    "scrolled": true
   },
   "outputs": [
    {
     "data": {
      "text/plain": [
       "(('c',), ('f',))"
      ]
     },
     "execution_count": 696,
     "metadata": {},
     "output_type": "execute_result"
    }
   ],
   "source": [
    "G"
   ]
  },
  {
   "cell_type": "code",
   "execution_count": 697,
   "metadata": {},
   "outputs": [
    {
     "data": {
      "text/plain": [
       "{'d': {'d'}, 'f': {'f'}, 'e': {'e'}, 'c': {'c'}}"
      ]
     },
     "execution_count": 697,
     "metadata": {},
     "output_type": "execute_result"
    }
   ],
   "source": [
    "F"
   ]
  },
  {
   "cell_type": "code",
   "execution_count": 641,
   "metadata": {},
   "outputs": [],
   "source": [
    "d = {}\n",
    "prepare(f.right, d)"
   ]
  },
  {
   "cell_type": "code",
   "execution_count": null,
   "metadata": {},
   "outputs": [],
   "source": []
  },
  {
   "cell_type": "code",
   "execution_count": 642,
   "metadata": {},
   "outputs": [
    {
     "data": {
      "text/plain": [
       "<gavel.logic.logic.BinaryFormula at 0x1054fcb00>"
      ]
     },
     "execution_count": 642,
     "metadata": {},
     "output_type": "execute_result"
    }
   ],
   "source": [
    "f.right"
   ]
  },
  {
   "cell_type": "code",
   "execution_count": 643,
   "metadata": {},
   "outputs": [
    {
     "data": {
      "text/plain": [
       "{'f': {'f'}, 'b': {'b'}}"
      ]
     },
     "execution_count": 643,
     "metadata": {},
     "output_type": "execute_result"
    }
   ],
   "source": [
    "d"
   ]
  },
  {
   "cell_type": "code",
   "execution_count": 625,
   "metadata": {
    "scrolled": false
   },
   "outputs": [
    {
     "data": {
      "text/plain": [
       "{Token(LOWER_WORD, 'd'): {'d'}, Token(LOWER_WORD, 'f'): {'f'}}"
      ]
     },
     "execution_count": 625,
     "metadata": {},
     "output_type": "execute_result"
    }
   ],
   "source": [
    "F"
   ]
  },
  {
   "cell_type": "code",
   "execution_count": 531,
   "metadata": {
    "scrolled": true
   },
   "outputs": [
    {
     "data": {
      "text/plain": [
       "<gavel.logic.logic.Constant at 0x1069df828>"
      ]
     },
     "execution_count": 531,
     "metadata": {},
     "output_type": "execute_result"
    }
   ],
   "source": [
    "F"
   ]
  },
  {
   "cell_type": "code",
   "execution_count": 505,
   "metadata": {},
   "outputs": [],
   "source": [
    "del functor"
   ]
  },
  {
   "cell_type": "code",
   "execution_count": 499,
   "metadata": {},
   "outputs": [
    {
     "data": {
      "text/plain": [
       "['(p(a)) => (q(a))', '(q(a)) => ($false)', '($true) => (p(a))']"
      ]
     },
     "execution_count": 499,
     "metadata": {},
     "output_type": "execute_result"
    }
   ],
   "source": [
    "formulas(p1.premises)"
   ]
  },
  {
   "cell_type": "code",
   "execution_count": null,
   "metadata": {},
   "outputs": [],
   "source": []
  }
 ],
 "metadata": {
  "kernelspec": {
   "display_name": "Python 3",
   "language": "python",
   "name": "python3"
  },
  "language_info": {
   "codemirror_mode": {
    "name": "ipython",
    "version": 3
   },
   "file_extension": ".py",
   "mimetype": "text/x-python",
   "name": "python",
   "nbconvert_exporter": "python",
   "pygments_lexer": "ipython3",
   "version": "3.7.3"
  }
 },
 "nbformat": 4,
 "nbformat_minor": 2
}
