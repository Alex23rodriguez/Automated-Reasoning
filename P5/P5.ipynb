{
 "cells": [
  {
   "cell_type": "code",
   "execution_count": 1,
   "metadata": {},
   "outputs": [],
   "source": [
    "# AR\n",
    "# 11.2019"
   ]
  },
  {
   "cell_type": "code",
   "execution_count": 2,
   "metadata": {},
   "outputs": [],
   "source": [
    "# http://theo.cs.ovgu.de/lehre/lehre2019w/reasoning/05-uebungsblatt.pdf"
   ]
  },
  {
   "cell_type": "code",
   "execution_count": 3,
   "metadata": {},
   "outputs": [],
   "source": [
    "from gavel.logic.logic import BinaryFormula, Constant, PredicateExpression, BinaryConnective, FunctorExpression, DefinedConstant"
   ]
  },
  {
   "cell_type": "code",
   "execution_count": 6,
   "metadata": {},
   "outputs": [],
   "source": [
    "from gavel.prover.base.interface import BaseProverInterface"
   ]
  },
  {
   "cell_type": "code",
   "execution_count": 7,
   "metadata": {},
   "outputs": [],
   "source": [
    "from gavel.logic.proof import Proof\n",
    "from gavel.logic.proof import ProofStep"
   ]
  },
  {
   "cell_type": "code",
   "execution_count": 8,
   "metadata": {},
   "outputs": [],
   "source": [
    "from gavel.dialects.tptp.parser import TPTPProblemParser\n",
    "\n",
    "problem_parser = TPTPProblemParser()"
   ]
  },
  {
   "cell_type": "code",
   "execution_count": 9,
   "metadata": {},
   "outputs": [],
   "source": [
    "# Convert string to gavel.logic.problem.Problem\n",
    "def read_prob(st):\n",
    "    x = problem_parser.parse(st)\n",
    "    return next(x)"
   ]
  },
  {
   "cell_type": "code",
   "execution_count": 10,
   "metadata": {},
   "outputs": [],
   "source": [
    "p1 = read_prob(open('../P4/problem1.p', 'r').readlines())\n",
    "p2 = read_prob(open('../P4/problem2.p', 'r').readlines())\n",
    "p3 = read_prob(open('../P4/problem3.p', 'r').readlines())\n",
    "\n",
    "p12 = read_prob(open('problem1.p', 'r').readlines())\n",
    "p22 = read_prob(open('problem2.p', 'r').readlines())\n",
    "p32 = read_prob(open('problem3.p', 'r').readlines())"
   ]
  },
  {
   "cell_type": "code",
   "execution_count": 11,
   "metadata": {},
   "outputs": [],
   "source": [
    "# Convert premises into list of strings\n",
    "def formulas(p):\n",
    "    if type(p)==list:\n",
    "        return [str(i.formula) for i in p]\n",
    "    return str(p.formula)"
   ]
  },
  {
   "cell_type": "code",
   "execution_count": 12,
   "metadata": {},
   "outputs": [
    {
     "data": {
      "text/plain": [
       "['((p(e)) & ((p(b)) & (p(d)))) => ($false)',\n",
       " '(p(e)) => (p(d))',\n",
       " '($true) => (p(f))',\n",
       " '(p(a)) => ($false)',\n",
       " '(p(c)) => (p(e))',\n",
       " '($true) => (p(c))',\n",
       " '($true) => ((f) = (b))']"
      ]
     },
     "execution_count": 12,
     "metadata": {},
     "output_type": "execute_result"
    }
   ],
   "source": [
    "formulas(p32.premises)"
   ]
  },
  {
   "cell_type": "code",
   "execution_count": 13,
   "metadata": {
    "scrolled": false
   },
   "outputs": [],
   "source": [
    "class Horn(BaseProverInterface):\n",
    "    def _submit_problem(self, problem_instance, *args, **kwargs):\n",
    "        # Call your prov:qer here\n",
    "        sol = Solver()\n",
    "        result = sol.prove(problem_instance)\n",
    "        return result"
   ]
  },
  {
   "cell_type": "code",
   "execution_count": null,
   "metadata": {
    "scrolled": false
   },
   "outputs": [],
   "source": []
  },
  {
   "cell_type": "code",
   "execution_count": 14,
   "metadata": {},
   "outputs": [],
   "source": [
    "ATOMS = [Constant, DefinedConstant, str]"
   ]
  },
  {
   "cell_type": "code",
   "execution_count": 15,
   "metadata": {},
   "outputs": [],
   "source": [
    "def st(x):\n",
    "    if x in [str, DefinedConstant]:\n",
    "        return str(x)\n",
    "    return str(x.symbol)"
   ]
  },
  {
   "cell_type": "code",
   "execution_count": 33,
   "metadata": {},
   "outputs": [],
   "source": [
    "class Solver():\n",
    "    def __init__(self):\n",
    "        self.oldEq = {}\n",
    "        self.equiv = {}\n",
    "        self.func = {}\n",
    "        self.oldS = set()\n",
    "        self.S = {'$true'}\n",
    "        self.oldPreds = {}\n",
    "        self.preds = {}\n",
    "        self.G = 0\n",
    "        \n",
    "        self.steps = [ProofStep(DefinedConstant.VERUM)]\n",
    "        \n",
    "    def functor(self, f):\n",
    "        if type(f) in ATOMS:\n",
    "            return st(f)\n",
    "        \n",
    "        if all([type(i) in ATOMS for i in f.arguments]):\n",
    "            if str(f) not in self.func:\n",
    "                k = f'K{self.G}'\n",
    "                self.func[str(f)] = k\n",
    "                self.equiv[k] = set([k])\n",
    "                self.G += 1\n",
    "                return k\n",
    "            return self.func[str(f)]\n",
    "\n",
    "        l = [st(i) if type(i) in ATOMS else self.functor(i) for i in f.arguments]\n",
    "\n",
    "        return self.functor(FunctorExpression(f.functor, l))\n",
    "    \n",
    "    def eq(self, x, y): \n",
    "        x = self.functor(x)\n",
    "        y = self.functor(y)\n",
    "        \n",
    "        #self.steps[-1].add(f\"{x}={y}\")\n",
    "        \n",
    "        if x not in self.equiv[y]:\n",
    "            self.equiv[x] = self.equiv[y]\n",
    "            self.equiv[x].add(x)\n",
    "        \n",
    "    def check(self, exp):\n",
    "        if type(exp) in [Constant, DefinedConstant]:\n",
    "            return str(exp) in self.oldS\n",
    "        \n",
    "        if type(exp) == FunctorExpression:\n",
    "            return self.functor(exp) in self.oldS\n",
    "        \n",
    "        elif type(exp) == PredicateExpression:\n",
    "            p = str(exp.predicate)\n",
    "            if p in self.oldPreds:\n",
    "                v = tuple(st(i) if type(i) in ATOMS else self.functor(i) for i in exp.arguments)\n",
    "                for x in self.oldPreds[p]:\n",
    "                    assert len(v) == len(x), f'Non matching lengths. v: {v}, x: {x}, p:{p}'\n",
    "                    if all(v[i] in self.oldEq[x[i]] for i in range(len(v))):\n",
    "                        return True\n",
    "            return False\n",
    "        \n",
    "        elif type(exp) == BinaryFormula:\n",
    "            return self.check(exp.left) and self.check(exp.right) # Only supports and for the time being\n",
    "        print('?')\n",
    "        print(type(exp))\n",
    "                 \n",
    "    def prepare(self, exp):\n",
    "        if type(exp) == Constant:\n",
    "            k = str(exp.symbol)\n",
    "            if k not in self.equiv:\n",
    "                self.equiv[k] = set(str(exp))\n",
    "            return\n",
    "        if type(exp) == BinaryFormula:\n",
    "            self.prepare(exp.left)\n",
    "            self.prepare(exp.right)\n",
    "            return\n",
    "        if type(exp) in (PredicateExpression, FunctorExpression):\n",
    "            for i in exp.arguments:\n",
    "                self.prepare(i)\n",
    "        \n",
    "            \n",
    "    def prove(self, problem, *args, **kwargs):\n",
    "        lst = [i.formula for i in problem.premises]\n",
    "        for exp in lst:\n",
    "            self.prepare(exp)\n",
    "\n",
    "        conj = problem.conjecture.formula\n",
    "        \n",
    "        neweq = False\n",
    "        while self.S != self.oldS or neweq:\n",
    "            neweq = False\n",
    "            #self.steps.append(set())\n",
    "            self.oldS = self.S.copy()\n",
    "            self.oldEq = self.equiv.copy()\n",
    "            self.oldPreds = self.preds.copy()\n",
    "            \n",
    "            for exp in lst:\n",
    "                r = exp.right\n",
    "                \n",
    "                # We already know\n",
    "                if type(r) == BinaryFormula and r.operator == BinaryConnective.EQ:\n",
    "                    x = self.functor(r.left)\n",
    "                    y = self.functor(r.right)\n",
    "                    if x in self.equiv[y]:\n",
    "                        continue\n",
    "                elif type(r) == DefinedConstant and str(r) in self.S:\n",
    "                    continue\n",
    "                elif type(r) == PredicateExpression:\n",
    "                    p = str(r.predicate)\n",
    "                    if p in self.preds:\n",
    "                        v = tuple(st(i) if type(i) in ATOMS else self.functor(i) for i in r.arguments)\n",
    "                        for x in self.preds[p]:\n",
    "                            assert len(v) == len(x), f'Non matching lengths. v: {v}, x: {x}, p:{p}'\n",
    "                            global E, oE\n",
    "                            E, oE = self.equiv, self.oldEq\n",
    "                            if all(v[i] in self.equiv[x[i]] for i in range(len(v))):\n",
    "                                continue\n",
    "                \n",
    "                # We don't know\n",
    "                if self.check(exp.left):\n",
    "                    \n",
    "                    if type(r) == BinaryFormula and r.operator == BinaryConnective.EQ:\n",
    "                        self.eq(r.left, r.right)\n",
    "                        neweq = True\n",
    "\n",
    "                    elif type(r) == DefinedConstant:\n",
    "                        self.S.add(str(r))\n",
    "\n",
    "                    elif type(r) == PredicateExpression:\n",
    "                        self.S.add(str(r))\n",
    "                        p = str(r.predicate)\n",
    "                        if p not in self.preds:\n",
    "                            self.preds[p] = set()\n",
    "                        v = tuple(st(i) if type(i) in ATOMS else self.functor(i) for i in r.arguments)\n",
    "                        self.preds[p].add(v)\n",
    "                    else:\n",
    "                        print(\"???\")\n",
    "                        print(type(r))\n",
    "                    self.steps.append(ProofStep(exp))\n",
    "                    if type(conj) == type(r) and conj == r:\n",
    "                        return Proof(steps=self.steps)\n",
    "        "
   ]
  },
  {
   "cell_type": "code",
   "execution_count": 34,
   "metadata": {},
   "outputs": [],
   "source": [
    "hop = Horn()"
   ]
  },
  {
   "cell_type": "code",
   "execution_count": 35,
   "metadata": {
    "scrolled": true
   },
   "outputs": [
    {
     "name": "stdout",
     "output_type": "stream",
     "text": [
      "Premises\n",
      "['(p(a)) => (q(a))', '(q(a)) => ($false)', '($true) => (p(a))']\n",
      "\n",
      "Conjecture: $false\n",
      "Proof found!\n",
      "$true\n",
      "($true) => (p(a))\n",
      "(p(a)) => (q(a))\n",
      "($true) => (p(a))\n",
      "(p(a)) => (q(a))\n",
      "(q(a)) => ($false)\n",
      "\n",
      "\n",
      "Premises\n",
      "['((p(a)) & ((p(b)) & (p(d)))) => ($false)', '(p(e)) => ($false)', '(p(c)) => (p(a))', '(p(c)) => ($false)', '(p(a)) => (p(d))']\n",
      "\n",
      "Conjecture: $false\n",
      "No proof found\n",
      "\n",
      "\n",
      "Premises\n",
      "['((p(e)) & ((p(b)) & (p(d)))) => ($false)', '(p(e)) => (p(d))', '($true) => (p(f))', '(p(a)) => ($false)', '(p(c)) => (p(e))', '($true) => (p(c))']\n",
      "\n",
      "Conjecture: $false\n",
      "No proof found\n",
      "\n",
      "\n",
      "Premises\n",
      "['($true) => ((a) = (b))', '($true) => (p(a))', '(p(b)) => ($false)']\n",
      "\n",
      "Conjecture: $false\n",
      "Proof found!\n",
      "$true\n",
      "($true) => ((a) = (b))\n",
      "($true) => (p(a))\n",
      "($true) => (p(a))\n",
      "(p(b)) => ($false)\n",
      "\n",
      "\n",
      "Premises\n",
      "['($true) => ((a) = (d))', '($true) => (p(g(f(a), b)))', '($true) => ((f(d)) = (b))', '($true) => ((g(b, b)) = (c))', '(p(c)) => ($false)']\n",
      "\n",
      "Conjecture: $false\n",
      "No proof found\n",
      "\n",
      "\n",
      "Premises\n",
      "['((p(e)) & ((p(b)) & (p(d)))) => ($false)', '(p(e)) => (p(d))', '($true) => (p(f))', '(p(a)) => ($false)', '(p(c)) => (p(e))', '($true) => (p(c))', '($true) => ((f) = (b))']\n",
      "\n",
      "Conjecture: $false\n",
      "Proof found!\n",
      "$true\n",
      "($true) => (p(f))\n",
      "($true) => (p(c))\n",
      "($true) => ((f) = (b))\n",
      "($true) => (p(f))\n",
      "(p(c)) => (p(e))\n",
      "($true) => (p(c))\n",
      "(p(e)) => (p(d))\n",
      "($true) => (p(f))\n",
      "(p(c)) => (p(e))\n",
      "($true) => (p(c))\n",
      "((p(e)) & ((p(b)) & (p(d)))) => ($false)\n",
      "\n",
      "\n"
     ]
    }
   ],
   "source": [
    "for prob in [p1, p2, p3, p12, p22, p32]:\n",
    "    print(\"Premises\")\n",
    "    print(formulas(prob.premises))\n",
    "    print(f\"\\nConjecture: {str(prob.conjecture.formula)}\")\n",
    "    p = hop.prove(prob)\n",
    "    if p:\n",
    "        print(\"Proof found!\")\n",
    "        for i in p.steps:\n",
    "            print(i.formula)\n",
    "    else:\n",
    "        print(\"No proof found\")\n",
    "    print('\\n')"
   ]
  },
  {
   "cell_type": "code",
   "execution_count": null,
   "metadata": {},
   "outputs": [],
   "source": []
  },
  {
   "cell_type": "code",
   "execution_count": null,
   "metadata": {},
   "outputs": [],
   "source": [
    "big = read_prob(open('../big.p').readlines())"
   ]
  },
  {
   "cell_type": "code",
   "execution_count": null,
   "metadata": {},
   "outputs": [],
   "source": [
    "hop.prove(big)"
   ]
  }
 ],
 "metadata": {
  "kernelspec": {
   "display_name": "Python 3",
   "language": "python",
   "name": "python3"
  },
  "language_info": {
   "codemirror_mode": {
    "name": "ipython",
    "version": 3
   },
   "file_extension": ".py",
   "mimetype": "text/x-python",
   "name": "python",
   "nbconvert_exporter": "python",
   "pygments_lexer": "ipython3",
   "version": "3.7.3"
  }
 },
 "nbformat": 4,
 "nbformat_minor": 2
}
